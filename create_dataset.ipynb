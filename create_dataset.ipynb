{
  "nbformat": 4,
  "nbformat_minor": 0,
  "metadata": {
    "accelerator": "GPU",
    "colab": {
      "name": "create_dataset",
      "provenance": [],
      "collapsed_sections": [],
      "toc_visible": true,
      "authorship_tag": "ABX9TyPIDdIbChPCwHm5Pjvb5Sq+"
    },
    "kernelspec": {
      "display_name": "Python 3",
      "name": "python3"
    }
  },
  "cells": [
    {
      "cell_type": "code",
      "metadata": {
        "id": "bIIljEKfPipS"
      },
      "source": [
        "!pip install --upgrade nibabel"
      ],
      "execution_count": null,
      "outputs": []
    },
    {
      "cell_type": "markdown",
      "metadata": {
        "id": "HWjslM5C7fsb"
      },
      "source": [
        "Get data\n"
      ]
    },
    {
      "cell_type": "code",
      "metadata": {
        "id": "sJkyvhVv7dXu"
      },
      "source": [
        "!wget \"https://putpoznanpl-my.sharepoint.com/:u:/g/personal/dominik_pieczynski_put_poznan_pl/EWIZ_xm8wXpMjQDgF2VQ1csB4QuHPKoj5vDpj6CQi9p-AA?e=yQr6fn&download=1\" -O public.zip\n",
        "!unzip -q public.zip\n",
        "!rm public.zip"
      ],
      "execution_count": null,
      "outputs": []
    },
    {
      "cell_type": "code",
      "metadata": {
        "id": "yMzpRaOapr0K"
      },
      "source": [
        "from google.colab import drive\n",
        "drive.mount(\"/content/drive\")"
      ],
      "execution_count": null,
      "outputs": []
    },
    {
      "cell_type": "markdown",
      "metadata": {
        "id": "KRRjwPzY7jdk"
      },
      "source": [
        "Create valid dirs"
      ]
    },
    {
      "cell_type": "code",
      "metadata": {
        "id": "w8u0p9IG7i0r"
      },
      "source": [
        "!mkdir /content/FirstDataset/valid\n",
        "!mkdir /content/SecondDataset/valid"
      ],
      "execution_count": null,
      "outputs": []
    },
    {
      "cell_type": "code",
      "metadata": {
        "id": "9BOc8CgV4OMt"
      },
      "source": [
        "!mkdir /content/FirstDataset/train2"
      ],
      "execution_count": null,
      "outputs": []
    },
    {
      "cell_type": "markdown",
      "metadata": {
        "id": "6dOQI1hd7pwy"
      },
      "source": [
        "Checking the number of scans in dirs "
      ]
    },
    {
      "cell_type": "code",
      "metadata": {
        "colab": {
          "base_uri": "https://localhost:8080/"
        },
        "id": "GNW-oJqM7oVa",
        "outputId": "3982d878-ca01-4bce-d5b6-d3036abcdf53"
      },
      "source": [
        "import os\n",
        "import shutil\n",
        "\n",
        "print(\"FirstDataset\")\n",
        "filepath1 = '/content/FirstDataset/train'\n",
        "filenames1 = os.listdir(filepath1)\n",
        "filenames1 = sorted(filenames1)\n",
        "print('train', len(filenames1))\n",
        "print('test', len(os.listdir('/content/FirstDataset/test')))\n",
        "\n",
        "print(\"SecondDataset\")\n",
        "filepath2 = '/content/SecondDataset/train'\n",
        "filenames2 = os.listdir(filepath2)\n",
        "filenames2 = sorted(filenames2)\n",
        "print('train', len(filenames2))\n",
        "print('test', len(os.listdir('/content/SecondDataset/test')))"
      ],
      "execution_count": null,
      "outputs": [
        {
          "output_type": "stream",
          "text": [
            "FirstDataset\n",
            "train 574\n",
            "test 72\n",
            "SecondDataset\n",
            "train 100\n",
            "test 25\n"
          ],
          "name": "stdout"
        }
      ]
    },
    {
      "cell_type": "code",
      "metadata": {
        "colab": {
          "base_uri": "https://localhost:8080/"
        },
        "id": "YbG-rMgq726q",
        "outputId": "50ea8269-eb3f-47f9-89c4-3c3b0cc0f559"
      },
      "source": [
        "import os\n",
        "import shutil\n",
        "from pathlib import Path\n",
        "\n",
        "# FirstDataset\n",
        "filepath1 = Path('/content/FirstDataset/train')\n",
        "\n",
        "first_X = []\n",
        "first_y = []\n",
        "\n",
        "for scan_path in sorted(filepath1.iterdir()):\n",
        "  if scan_path.name.endswith('mask.nii.gz'):\n",
        "    first_y.append(scan_path)\n",
        "  else:\n",
        "    first_X.append(scan_path)\n",
        "\n",
        "print(len(first_X))\n",
        "print(len(first_y))\n",
        "\n",
        "# SecondDataset\n",
        "filepath2 = Path('/content/SecondDataset/train')\n",
        "\n",
        "second_X = []\n",
        "second_y = []\n",
        "\n",
        "for scan_path in sorted(filepath2.iterdir()):\n",
        "    second_y.append(scan_path/'mask.nii.gz')\n",
        "    second_X.append(scan_path/'T1w.nii.gz')\n",
        "\n",
        "print(len(second_X))\n",
        "print(len(second_y))\n",
        "\n"
      ],
      "execution_count": null,
      "outputs": [
        {
          "output_type": "stream",
          "text": [
            "287\n",
            "287\n",
            "100\n",
            "100\n"
          ],
          "name": "stdout"
        }
      ]
    },
    {
      "cell_type": "code",
      "metadata": {
        "colab": {
          "base_uri": "https://localhost:8080/"
        },
        "id": "qvoEV7QRvMsf",
        "outputId": "f13c09ea-c113-4b45-e561-a4b3732b284e"
      },
      "source": [
        "from sklearn.model_selection import train_test_split\n",
        "\n",
        "X_train_1, X_valid_1, y_train_1, y_valid_1 = train_test_split(first_X, first_y, train_size=0.9, random_state=42)\n",
        "X_train_2, X_valid_2, y_train_2, y_valid_2 = train_test_split(second_X, second_y, train_size=0.9, random_state=42)\n",
        "\n",
        "X_train = X_train_1 + X_train_2\n",
        "y_train = y_train_1 + y_train_2\n",
        "X_valid = X_valid_1 + X_valid_2\n",
        "y_valid = y_valid_1 + y_valid_2\n",
        "\n",
        "print('X_train len:', len(X_train))\n",
        "print('X_valid len:', len(X_valid))\n",
        "print('y_train len:', len(y_train))\n",
        "print('y_valid len:', len(y_valid))\n"
      ],
      "execution_count": null,
      "outputs": [
        {
          "output_type": "stream",
          "text": [
            "X_train len: 348\n",
            "X_valid len: 39\n",
            "y_train len: 348\n",
            "y_valid len: 39\n"
          ],
          "name": "stdout"
        }
      ]
    },
    {
      "cell_type": "markdown",
      "metadata": {
        "id": "fDPrcVQzy34B"
      },
      "source": [
        "###Eksport to png"
      ]
    },
    {
      "cell_type": "markdown",
      "metadata": {
        "id": "w2Qg0vUbzbja"
      },
      "source": [
        "Template methods"
      ]
    },
    {
      "cell_type": "code",
      "metadata": {
        "id": "grIXGjAEza4Q"
      },
      "source": [
        "import numpy as np\n",
        "import nibabel as nib\n",
        "\n",
        "from typing import Tuple, List\n",
        "from pathlib import Path\n",
        "\n",
        "\n",
        "def load_raw_volume(path: Path) -> Tuple[np.ndarray, np.ndarray]:\n",
        "  data: nib.Nifti1Image = nib.load(str(path))\n",
        "  data = nib.as_closest_canonical(data)\n",
        "  raw_data = data.get_fdata(caching='unchanged', dtype=np.float32)\n",
        "  return raw_data, data.affine\n",
        "\n",
        "\n",
        "def load_labels_volume(path: Path) -> np.ndarray:\n",
        "  return load_raw_volume(path)[0].astype(np.uint8)\n",
        "\n",
        "\n",
        "def save_labels(data: np.ndarray, affine: np.ndarray, path: Path):\n",
        "  nib.save(nib.Nifti1Image(data, affine), str(path))\n",
        "\n",
        "\n",
        "def show_slices(slices: List[np.ndarray]):\n",
        "   fig, axes = plt.subplots(1, len(slices))\n",
        "   for i, data_slice in enumerate(slices):\n",
        "       axes[i].imshow(data_slice.T, cmap=\"gray\", origin=\"lower\")"
      ],
      "execution_count": null,
      "outputs": []
    },
    {
      "cell_type": "markdown",
      "metadata": {
        "id": "YNh14hLCy6iW"
      },
      "source": [
        "Create dirs for images"
      ]
    },
    {
      "cell_type": "code",
      "metadata": {
        "colab": {
          "base_uri": "https://localhost:8080/"
        },
        "id": "WPEbLLXBy3qQ",
        "outputId": "fb88ec3e-acba-447e-c644-bc11ae4ec177"
      },
      "source": [
        "!rm -rf /content/Images\n",
        "\n",
        "!mkdir /content/Images\n",
        "\n",
        "!mkdir /content/Images/valid\n",
        "!mkdir /content/Images/valid/images\n",
        "!mkdir /content/Images/valid/images/images\n",
        "!mkdir /content/Images/valid/masks\n",
        "!mkdir /content/Images/valid/masks/masks\n",
        "\n",
        "!mkdir /content/Images/train\n",
        "!mkdir /content/Images/train/images\n",
        "!mkdir /content/Images/train/images/images\n",
        "!mkdir /content/Images/train/masks\n",
        "!mkdir /content/Images/train/masks/masks\n",
        "\n",
        "print(\"done\")"
      ],
      "execution_count": null,
      "outputs": [
        {
          "output_type": "stream",
          "text": [
            "done\n"
          ],
          "name": "stdout"
        }
      ]
    },
    {
      "cell_type": "code",
      "metadata": {
        "id": "b3RgFWGlh9b0"
      },
      "source": [
        "!ls /content/Images/valid/images/images"
      ],
      "execution_count": null,
      "outputs": []
    },
    {
      "cell_type": "code",
      "metadata": {
        "id": "gRgSlt7bJ0x8"
      },
      "source": [
        "print(y_train)"
      ],
      "execution_count": null,
      "outputs": []
    },
    {
      "cell_type": "markdown",
      "metadata": {
        "id": "t6AGYKrR4c6i"
      },
      "source": [
        "Export to png"
      ]
    },
    {
      "cell_type": "code",
      "metadata": {
        "id": "ZKfmAV5P0Cdh"
      },
      "source": [
        "import matplotlib\n",
        "import matplotlib.pyplot as plt\n",
        "import cv2\n",
        "import numpy as np\n",
        "\n",
        "\n",
        "image_train_path = '/content/Images/train/images/images/'\n",
        "mask_train_path = '/content/Images/train/masks/masks/'\n",
        "\n",
        "image_valid_path = '/content/Images/valid/images/images/'\n",
        "mask_valid_path = '/content/Images/valid/masks/masks/'\n",
        "\n",
        "\n",
        "print('X_train start')\n",
        "for scan_idx, scan_path in enumerate(X_train):\n",
        "  print(scan_path)\n",
        "\n",
        "  raw_volume, affine = load_raw_volume(scan_path)\n",
        "\n",
        "  for slice_idx in range(raw_volume.shape[0]):\n",
        "    path = f'{image_train_path}train_image_{scan_idx}_slice_{slice_idx}_.png'\n",
        "\n",
        "    volume = raw_volume[slice_idx]\n",
        "\n",
        "    volume_max = np.amax(volume)\n",
        "    volume_min = np.amin(volume)\n",
        "\n",
        "    volume = (volume-volume_min)/(volume_max-volume_min)\n",
        "    volume = volume*255\n",
        "    volume = volume.astype('uint8')\n",
        "\n",
        "    matplotlib.image.imsave(path, volume, cmap=\"gray\")\n",
        "\n",
        "print(\"X_train finish\")\n",
        "\n",
        "\n",
        "print('y_train start')\n",
        "for scan_idx, scan_path in enumerate(y_train):\n",
        "  print(scan_path)\n",
        "\n",
        "  mask_volume = load_labels_volume(scan_path)\n",
        "  for slice_idx in range(mask_volume.shape[0]):\n",
        "    path = f'{mask_train_path}train_mask_{scan_idx}_slice_{slice_idx}_.png'\n",
        "\n",
        "    matplotlib.image.imsave(path, mask_volume[slice_idx], cmap=\"gray\")\n",
        "\n",
        "print(\"y_train finish\")\n",
        "\n",
        "\n",
        "print('X_valid start')\n",
        "for scan_idx, scan_path in enumerate(X_valid):\n",
        "  print(scan_path)\n",
        "\n",
        "  raw_volume, affine = load_raw_volume(scan_path)\n",
        "\n",
        "  for slice_idx in range(raw_volume.shape[0]):\n",
        "    path = f'{image_valid_path}valid_image_{scan_idx}_slice_{slice_idx}_.png'\n",
        "    volume = raw_volume[slice_idx]\n",
        "\n",
        "    volume_max = np.amax(volume)\n",
        "    volume_min = np.amin(volume)\n",
        "\n",
        "    volume = (volume-volume_min)/(volume_max-volume_min)\n",
        "    volume = volume*255\n",
        "    volume = volume.astype('uint8')\n",
        "\n",
        "    matplotlib.image.imsave(path, volume, cmap=\"gray\")\n",
        "print(\"X_valid finish\")\n",
        "\n",
        "\n",
        "print('y_valid start')\n",
        "for scan_idx, scan_path in enumerate(y_valid):\n",
        "  print(scan_path)\n",
        "\n",
        "  mask_volume = load_labels_volume(scan_path)\n",
        "  for slice_idx in range(mask_volume.shape[0]):\n",
        "    path = f'{mask_valid_path}train_mask_{scan_idx}_slice_{slice_idx}_.png'\n",
        "\n",
        "    matplotlib.image.imsave(path, mask_volume[slice_idx], cmap=\"gray\")\n",
        "print(\"y_valid finish\")\n",
        "\n"
      ],
      "execution_count": null,
      "outputs": []
    },
    {
      "cell_type": "code",
      "metadata": {
        "id": "9DZB88y7Cdbe"
      },
      "source": [
        "import PIL\n",
        "from PIL import Image\n",
        "import matplotlib.pyplot as plt\n",
        "from matplotlib import image\n",
        "import numpy as np\n",
        "from google.colab.patches import cv2_imshow\n",
        "\n",
        "img = cv2.imread('/content/Images/valid/images/images/valid_image_2_slice_77_.png') \n",
        "  \n",
        "print(img.shape)\n",
        "print(np.amax(img))\n",
        "print(np.amin(img))\n",
        "cv2_imshow(img) \n",
        "\n",
        "# image = Image.open('/content/Images/train/images/images/train_image_0_slice_100_.png')#.convert('L')\n",
        "# print(image.size)\n",
        "# print(np.amax(image))\n",
        "# print(np.amin(image))\n",
        "# plt.imshow(image)"
      ],
      "execution_count": null,
      "outputs": []
    },
    {
      "cell_type": "code",
      "metadata": {
        "id": "pl1aL0FZK08T"
      },
      "source": [
        "img = cv2.imread('/content/Images/valid/masks/masks/train_mask_0_slice_105_.png') \n",
        "  \n",
        "print(img.shape)\n",
        "print(np.amax(img))\n",
        "print(np.amin(img))\n",
        "cv2_imshow(img) "
      ],
      "execution_count": null,
      "outputs": []
    },
    {
      "cell_type": "markdown",
      "metadata": {
        "id": "BZ_Oebq1RP8-"
      },
      "source": [
        "Save dataset"
      ]
    },
    {
      "cell_type": "code",
      "metadata": {
        "id": "Kme9WA3v9mZk"
      },
      "source": [
        "!zip -r data_images2.zip /content/Images"
      ],
      "execution_count": null,
      "outputs": []
    },
    {
      "cell_type": "code",
      "metadata": {
        "id": "Oz7sA62CQdqB"
      },
      "source": [
        "!cp /content/data_images2.zip -r /content/drive/MyDrive/ZPO_projekt"
      ],
      "execution_count": null,
      "outputs": []
    }
  ]
}
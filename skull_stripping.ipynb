{
  "nbformat": 4,
  "nbformat_minor": 0,
  "metadata": {
    "accelerator": "GPU",
    "colab": {
      "name": "skull_stripping",
      "provenance": [],
      "collapsed_sections": [],
      "toc_visible": true,
      "authorship_tag": "ABX9TyPBZqx9N5iKNgRn3f/TdrTA"
    },
    "kernelspec": {
      "display_name": "Python 3",
      "name": "python3"
    }
  },
  "cells": [
    {
      "cell_type": "code",
      "metadata": {
        "id": "bIIljEKfPipS"
      },
      "source": [
        "!pip install --upgrade nibabel"
      ],
      "execution_count": null,
      "outputs": []
    },
    {
      "cell_type": "markdown",
      "metadata": {
        "id": "HWjslM5C7fsb"
      },
      "source": [
        "Get data\n"
      ]
    },
    {
      "cell_type": "code",
      "metadata": {
        "colab": {
          "base_uri": "https://localhost:8080/"
        },
        "id": "sJkyvhVv7dXu",
        "outputId": "dcb75699-0d27-46ea-e52c-2f150485a32b"
      },
      "source": [
        "!wget \"https://putpoznanpl-my.sharepoint.com/:u:/g/personal/dominik_pieczynski_put_poznan_pl/EWIZ_xm8wXpMjQDgF2VQ1csB4QuHPKoj5vDpj6CQi9p-AA?e=yQr6fn&download=1\" -O public.zip\n",
        "!unzip -q public.zip\n",
        "!rm public.zip"
      ],
      "execution_count": null,
      "outputs": [
        {
          "output_type": "stream",
          "text": [
            "--2021-02-13 11:09:41--  https://putpoznanpl-my.sharepoint.com/:u:/g/personal/dominik_pieczynski_put_poznan_pl/EWIZ_xm8wXpMjQDgF2VQ1csB4QuHPKoj5vDpj6CQi9p-AA?e=yQr6fn&download=1\n",
            "Resolving putpoznanpl-my.sharepoint.com (putpoznanpl-my.sharepoint.com)... 13.107.136.9\n",
            "Connecting to putpoznanpl-my.sharepoint.com (putpoznanpl-my.sharepoint.com)|13.107.136.9|:443... connected.\n",
            "HTTP request sent, awaiting response... 302 Found\n",
            "Location: /personal/dominik_pieczynski_put_poznan_pl/Documents/Public.zip?originalPath=aHR0cHM6Ly9wdXRwb3puYW5wbC1teS5zaGFyZXBvaW50LmNvbS86dTovZy9wZXJzb25hbC9kb21pbmlrX3BpZWN6eW5za2lfcHV0X3Bvem5hbl9wbC9FV0laX3htOHdYcE1qUURnRjJWUTFjc0I0UXVIUEtvajV2RHBqNkNRaTlwLUFBP3J0aW1lPUE5X3kzQV9RMkVn [following]\n",
            "--2021-02-13 11:09:42--  https://putpoznanpl-my.sharepoint.com/personal/dominik_pieczynski_put_poznan_pl/Documents/Public.zip?originalPath=aHR0cHM6Ly9wdXRwb3puYW5wbC1teS5zaGFyZXBvaW50LmNvbS86dTovZy9wZXJzb25hbC9kb21pbmlrX3BpZWN6eW5za2lfcHV0X3Bvem5hbl9wbC9FV0laX3htOHdYcE1qUURnRjJWUTFjc0I0UXVIUEtvajV2RHBqNkNRaTlwLUFBP3J0aW1lPUE5X3kzQV9RMkVn\n",
            "Reusing existing connection to putpoznanpl-my.sharepoint.com:443.\n",
            "HTTP request sent, awaiting response... 200 OK\n",
            "Length: 5672415949 (5.3G) [application/x-zip-compressed]\n",
            "Saving to: ‘public.zip’\n",
            "\n",
            "public.zip          100%[===================>]   5.28G  59.3MB/s    in 1m 51s  \n",
            "\n",
            "2021-02-13 11:11:34 (48.6 MB/s) - ‘public.zip’ saved [5672415949/5672415949]\n",
            "\n"
          ],
          "name": "stdout"
        }
      ]
    },
    {
      "cell_type": "markdown",
      "metadata": {
        "id": "KRRjwPzY7jdk"
      },
      "source": [
        "Create valid dirs"
      ]
    },
    {
      "cell_type": "code",
      "metadata": {
        "id": "w8u0p9IG7i0r"
      },
      "source": [
        "!mkdir /content/FirstDataset/valid\n",
        "!mkdir /content/SecondDataset/valid"
      ],
      "execution_count": null,
      "outputs": []
    },
    {
      "cell_type": "code",
      "metadata": {
        "id": "9BOc8CgV4OMt"
      },
      "source": [
        "!mkdir /content/FirstDataset/train2"
      ],
      "execution_count": null,
      "outputs": []
    },
    {
      "cell_type": "markdown",
      "metadata": {
        "id": "6dOQI1hd7pwy"
      },
      "source": [
        "Checking the number of scans in dirs "
      ]
    },
    {
      "cell_type": "code",
      "metadata": {
        "colab": {
          "base_uri": "https://localhost:8080/"
        },
        "id": "GNW-oJqM7oVa",
        "outputId": "59b29698-f5fe-497b-b1bd-305d0fa985dc"
      },
      "source": [
        "import os\n",
        "import shutil\n",
        "\n",
        "print(\"FirstDataset\")\n",
        "filepath1 = '/content/FirstDataset/train'\n",
        "filenames1 = os.listdir(filepath1)\n",
        "filenames1 = sorted(filenames1)\n",
        "print('train', len(filenames1))\n",
        "print('test', len(os.listdir('/content/FirstDataset/test')))\n",
        "print(int(len(filenames1)/5)) #114\n",
        "\n",
        "print(\"SecondDataset\")\n",
        "filepath2 = '/content/SecondDataset/train'\n",
        "filenames2 = os.listdir(filepath2)\n",
        "filenames2 = sorted(filenames2)\n",
        "print('train', len(filenames2))\n",
        "print('test', len(os.listdir('/content/SecondDataset/test')))\n",
        "print(int(len(filenames2)/5)) # 20"
      ],
      "execution_count": null,
      "outputs": [
        {
          "output_type": "stream",
          "text": [
            "FirstDataset\n",
            "train 574\n",
            "test 72\n",
            "114\n",
            "SecondDataset\n",
            "train 100\n",
            "test 25\n",
            "20\n"
          ],
          "name": "stdout"
        }
      ]
    },
    {
      "cell_type": "markdown",
      "metadata": {
        "id": "HDDLBtQe73iy"
      },
      "source": [
        "Transfer of some data from train dir to valid dir"
      ]
    },
    {
      "cell_type": "code",
      "metadata": {
        "colab": {
          "base_uri": "https://localhost:8080/",
          "height": 243
        },
        "id": "YbG-rMgq726q",
        "outputId": "1d6527b0-716d-447c-bcd7-224881799aed"
      },
      "source": [
        "import os\n",
        "import shutil\n",
        "\n",
        "# FirstDataset\n",
        "filepath1 = '/content/FirstDataset/train'\n",
        "\n",
        "filenames1 = os.listdir(filepath1)\n",
        "filenames1 = sorted(filenames1)\n",
        "\n",
        "valid_filenames1 = filenames1[:int(len(filenames1)/5)]\n",
        "# print(valid_filenames1)\n",
        "for file_name in valid_filenames1:\n",
        "  shutil.move(f\"/content/FirstDataset/train/{file_name}\", f\"/content/FirstDataset/valid/{file_name}\")\n",
        "\n",
        "print(\"train len:\", len(os.listdir('/content/FirstDataset/train')))\n",
        "print(\"train2 len:\", len(os.listdir('/content/FirstDataset/train2')))\n",
        "print(\"valid len:\", len(os.listdir('/content/FirstDataset/valid')))\n",
        "print('test len', len(os.listdir('/content/FirstDataset/test')))\n",
        "#print('finish firstDataset')\n",
        "\n",
        "filenames2 = os.listdir(filepath1)\n",
        "filenames2 = sorted(filenames2)\n",
        "\n",
        "train2_filenames = filenames2[:int(len(filenames2)/2)]\n",
        "\n",
        "for file_name in train2_filenames:\n",
        "  shutil.move(f\"/content/FirstDataset/train/{file_name}\", f\"/content/FirstDataset/train2/{file_name}\")\n",
        "\n",
        "print(\"train len:\", len(os.listdir('/content/FirstDataset/train')))\n",
        "print(\"train2 len:\", len(os.listdir('/content/FirstDataset/train2')))\n",
        "print(\"valid len:\", len(os.listdir('/content/FirstDataset/valid')))\n",
        "print('test len', len(os.listdir('/content/FirstDataset/test')))\n",
        "#print('finish firstDataset')\n",
        "\n",
        "# --------------------------------------------------------------------\n",
        "'''\n",
        "# SecondDataset\n",
        "filepath2 = '/content/SecondDataset/train'\n",
        "filenames2 = os.listdir(filepath2)\n",
        "filenames2 = sorted(filenames2)\n",
        "# print(len(filenames2))\n",
        "valid_filenames2 = filenames2[:int(len(filenames2)/5)]\n",
        "# print(valid_filenames2)\n",
        "for file_name in valid_filenames2:\n",
        "  shutil.move(f\"/content/SecondDataset/train/{file_name}\", f\"/content/SecondDataset/valid/{file_name}\")\n",
        "print(\"train len:\", len(os.listdir('/content/SecondDataset/train')))\n",
        "print(\"valid len:\", len(os.listdir('/content/SecondDataset/valid')))\n",
        "print('test len', len(os.listdir('/content/SecondDataset/test')))\n",
        "print('finish secondDataset')\n",
        "'''"
      ],
      "execution_count": null,
      "outputs": [
        {
          "output_type": "stream",
          "text": [
            "train len: 460\n",
            "train2 len: 0\n",
            "valid len: 114\n",
            "test len 72\n",
            "train len: 230\n",
            "train2 len: 230\n",
            "valid len: 114\n",
            "test len 72\n"
          ],
          "name": "stdout"
        },
        {
          "output_type": "execute_result",
          "data": {
            "application/vnd.google.colaboratory.intrinsic+json": {
              "type": "string"
            },
            "text/plain": [
              "'\\n# SecondDataset\\nfilepath2 = \\'/content/SecondDataset/train\\'\\nfilenames2 = os.listdir(filepath2)\\nfilenames2 = sorted(filenames2)\\n# print(len(filenames2))\\nvalid_filenames2 = filenames2[:int(len(filenames2)/5)]\\n# print(valid_filenames2)\\nfor file_name in valid_filenames2:\\n  shutil.move(f\"/content/SecondDataset/train/{file_name}\", f\"/content/SecondDataset/valid/{file_name}\")\\nprint(\"train len:\", len(os.listdir(\\'/content/SecondDataset/train\\')))\\nprint(\"valid len:\", len(os.listdir(\\'/content/SecondDataset/valid\\')))\\nprint(\\'test len\\', len(os.listdir(\\'/content/SecondDataset/test\\')))\\nprint(\\'finish secondDataset\\')\\n'"
            ]
          },
          "metadata": {
            "tags": []
          },
          "execution_count": 15
        }
      ]
    },
    {
      "cell_type": "markdown",
      "metadata": {
        "id": "fDPrcVQzy34B"
      },
      "source": [
        "###Eksport to png"
      ]
    },
    {
      "cell_type": "markdown",
      "metadata": {
        "id": "w2Qg0vUbzbja"
      },
      "source": [
        "Template methods"
      ]
    },
    {
      "cell_type": "code",
      "metadata": {
        "id": "grIXGjAEza4Q"
      },
      "source": [
        "import numpy as np\n",
        "import nibabel as nib\n",
        "\n",
        "from typing import Tuple, List\n",
        "from pathlib import Path\n",
        "\n",
        "\n",
        "def load_raw_volume(path: Path) -> Tuple[np.ndarray, np.ndarray]:\n",
        "  data: nib.Nifti1Image = nib.load(str(path))\n",
        "  data = nib.as_closest_canonical(data)\n",
        "  raw_data = data.get_fdata(caching='unchanged', dtype=np.float32)\n",
        "  return raw_data, data.affine\n",
        "\n",
        "\n",
        "def load_labels_volume(path: Path) -> np.ndarray:\n",
        "  return load_raw_volume(path)[0].astype(np.uint8)\n",
        "\n",
        "\n",
        "def save_labels(data: np.ndarray, affine: np.ndarray, path: Path):\n",
        "  nib.save(nib.Nifti1Image(data, affine), str(path))\n",
        "\n",
        "\n",
        "def show_slices(slices: List[np.ndarray]):\n",
        "   fig, axes = plt.subplots(1, len(slices))\n",
        "   for i, data_slice in enumerate(slices):\n",
        "       axes[i].imshow(data_slice.T, cmap=\"gray\", origin=\"lower\")"
      ],
      "execution_count": null,
      "outputs": []
    },
    {
      "cell_type": "markdown",
      "metadata": {
        "id": "YNh14hLCy6iW"
      },
      "source": [
        "Create dirs for images"
      ]
    },
    {
      "cell_type": "code",
      "metadata": {
        "colab": {
          "base_uri": "https://localhost:8080/"
        },
        "id": "MkSoab3GXay4",
        "outputId": "55cfcb74-6439-47e7-9fa5-f4d923d8976e"
      },
      "source": [
        "from google.colab import drive\n",
        "drive.mount(\"/content/drive\")"
      ],
      "execution_count": null,
      "outputs": [
        {
          "output_type": "stream",
          "text": [
            "Mounted at /content/drive\n"
          ],
          "name": "stdout"
        }
      ]
    },
    {
      "cell_type": "code",
      "metadata": {
        "colab": {
          "base_uri": "https://localhost:8080/"
        },
        "id": "WPEbLLXBy3qQ",
        "outputId": "7b983c1a-9bbd-48f8-e68e-1657802c9a4b"
      },
      "source": [
        "# !rm -rf FirstDataset_images\n",
        "\n",
        "# !mkdir /content/FirstDataset_images\n",
        "\n",
        "# !mkdir /content/FirstDataset_images/train\n",
        "# !mkdir /content/FirstDataset_images/train/images\n",
        "# !mkdir /content/FirstDataset_images/train/masks\n",
        "\n",
        "# !mkdir /content/FirstDataset_images/valid\n",
        "# !mkdir /content/FirstDataset_images/valid/images\n",
        "# !mkdir /content/FirstDataset_images/valid/masks\n",
        "\n",
        "!rm -rf /content/drive/MyDrive/FirstDataset_images\n",
        "\n",
        "!mkdir /content/drive/MyDrive/FirstDataset_images\n",
        "\n",
        "!mkdir /content/drive/MyDrive/FirstDataset_images/train\n",
        "!mkdir /content/drive/MyDrive/FirstDataset_images/train/images\n",
        "!mkdir /content/drive/MyDrive/FirstDataset_images/train/masks\n",
        "\n",
        "# #!rm -rf /content/drive/MyDrive/FirstDataset_images/valid\n",
        "!mkdir /content/drive/MyDrive/FirstDataset_images/valid\n",
        "!mkdir /content/drive/MyDrive/FirstDataset_images/valid/images\n",
        "!mkdir /content/drive/MyDrive/FirstDataset_images/valid/masks\n",
        "print(\"done\")"
      ],
      "execution_count": null,
      "outputs": [
        {
          "output_type": "stream",
          "text": [
            "done\n"
          ],
          "name": "stdout"
        }
      ]
    },
    {
      "cell_type": "code",
      "metadata": {
        "id": "92fc0SVb7CYT"
      },
      "source": [
        "!mkdir /content/drive/MyDrive/FirstDataset_images/train/images/images\n",
        "!mkdir /content/drive/MyDrive/FirstDataset_images/train/masks/masks\n",
        "\n",
        "!mkdir /content/drive/MyDrive/FirstDataset_images/valid/images/images\n",
        "!mkdir /content/drive/MyDrive/FirstDataset_images/valid/masks/masks"
      ],
      "execution_count": null,
      "outputs": []
    },
    {
      "cell_type": "code",
      "metadata": {
        "id": "b3RgFWGlh9b0"
      },
      "source": [
        "!ls /content/drive/MyDrive/FirstDataset_images/valid/images/images"
      ],
      "execution_count": null,
      "outputs": []
    },
    {
      "cell_type": "markdown",
      "metadata": {
        "id": "t6AGYKrR4c6i"
      },
      "source": [
        "Export to png"
      ]
    },
    {
      "cell_type": "code",
      "metadata": {
        "id": "10ouG7EUyCxf"
      },
      "source": [
        "!mkdir /content/drive/MyDrive/Test_images\n",
        "!mkdir /content/drive/MyDrive/Test_images/test"
      ],
      "execution_count": null,
      "outputs": []
    },
    {
      "cell_type": "code",
      "metadata": {
        "colab": {
          "base_uri": "https://localhost:8080/",
          "height": 443
        },
        "id": "DJzVXgexySTw",
        "outputId": "7e44f9eb-fd8b-4353-ab38-f4523a83bd37"
      },
      "source": [
        "import matplotlib\n",
        "import cv2\n",
        "\n",
        "first_dataset_train_path = Path('/content/FirstDataset/train2')\n",
        "first_dataset_image_train_path = '/content/drive/MyDrive/Test_images/test/'\n",
        "\n",
        "for scan_path in first_dataset_train_path.iterdir():\n",
        "  print(scan_path)\n",
        "\n",
        "  if scan_path.name.endswith('mask.nii.gz'):\n",
        "    pass\n",
        "  else:\n",
        "    raw_volume, affine = load_raw_volume(scan_path)\n",
        "    volume_max = np.amax(raw_volume)\n",
        "    volume_min = np.amin(raw_volume)\n",
        "\n",
        "    for idx in range(raw_volume.shape[0]):\n",
        "      path = f'{first_dataset_image_train_path}{scan_path.name}_{100}_.png'\n",
        "\n",
        "      volume = (raw_volume[100]-volume_min)/(volume_max-volume_min)\n",
        "      volume = volume*255\n",
        "      volume = volume.astype('uint8')\n",
        "\n",
        "\n",
        "      print(volume)\n",
        "      print(type(volume))\n",
        "      print(np.shape(volume))\n",
        "\n",
        "      plt.imshow(volume, vmin=0, vmax=255)\n",
        "      plt.imsave(path, volume,  vmin=0, vmax=255)\n",
        "      # matplotlib.image.imsave(path, volume,  vmin=0, vmax=255)\n",
        "      break\n",
        "    break\n",
        "\n"
      ],
      "execution_count": null,
      "outputs": [
        {
          "output_type": "stream",
          "text": [
            "/content/FirstDataset/train2/58f4e1954e11a28da97e9aa62e5f5deb.nii.gz\n",
            "[[1 2 1 ... 0 0 0]\n",
            " [0 2 2 ... 0 0 0]\n",
            " [0 3 4 ... 1 0 0]\n",
            " ...\n",
            " [5 5 0 ... 1 1 0]\n",
            " [3 2 4 ... 1 1 0]\n",
            " [0 0 0 ... 0 0 0]]\n",
            "<class 'numpy.ndarray'>\n",
            "(256, 256)\n"
          ],
          "name": "stdout"
        },
        {
          "output_type": "display_data",
          "data": {
            "image/png": "[encoded data removed]",
            "text/plain": [
              "<Figure size 432x288 with 1 Axes>"
            ]
          },
          "metadata": {
            "tags": [],
            "needs_background": "light"
          }
        }
      ]
    },
    {
      "cell_type": "code",
      "metadata": {
        "id": "BXUByHFqzwwL"
      },
      "source": [
        "import numpy as np\n",
        "import cv2\n",
        "from google.colab.patches import cv2_imshow\n",
        "\n",
        "img = cv2.imread('/content/drive/MyDrive/Test_images/test/58f4e1954e11a28da97e9aa62e5f5deb.nii.gz_100_.png')\n",
        "print(img)\n",
        "print(type(img))\n",
        "print(np.shape(img))\n",
        "plt.imshow(img)"
      ],
      "execution_count": null,
      "outputs": []
    },
    {
      "cell_type": "code",
      "metadata": {
        "id": "jlyOMNXZYZSy"
      },
      "source": [
        "import numpy as np\n",
        "\n",
        "\n",
        "img = plt.imread('/content/drive/MyDrive/Test_images/test/58f4e1954e11a28da97e9aa62e5f5deb.nii.gz_100_.png')\n",
        "\n",
        "print(img)\n",
        "print(np.shape(img))\n",
        "plt.imshow(img)"
      ],
      "execution_count": null,
      "outputs": []
    },
    {
      "cell_type": "code",
      "metadata": {
        "id": "DEvnrZUXKccT"
      },
      "source": [
        "def raw_volume_to_png():\n",
        "  pass"
      ],
      "execution_count": null,
      "outputs": []
    },
    {
      "cell_type": "code",
      "metadata": {
        "id": "ZKfmAV5P0Cdh"
      },
      "source": [
        "import matplotlib.pyplot as plt\n",
        "import cv2\n",
        "\n",
        "\n",
        "first_dataset_train_path = Path('/content/FirstDataset/train2')\n",
        "first_dataset_image_train_path = '/content/drive/MyDrive/FirstDataset_images/train/images/images/'\n",
        "first_dataset_mask_train_path = '/content/drive/MyDrive/FirstDataset_images/train/masks/masks/'\n",
        "\n",
        "\n",
        "for scan_path in first_dataset_train_path.iterdir():\n",
        "\n",
        "  print(scan_path)\n",
        "  \n",
        "  if scan_path.name.endswith('mask.nii.gz'):\n",
        "    mask_volume = load_labels_volume(scan_path)\n",
        "    volume_max = np.amax(mask_volume)\n",
        "    volume_min = np.amin(mask_volume)\n",
        "\n",
        "    for idx in range(mask_volume.shape[0]):\n",
        "      path = f'{first_dataset_mask_train_path}{scan_path.name}_{idx}_.png'\n",
        "\n",
        "      volume = (mask_volume[idx]-volume_min)/(volume_max-volume_min)\n",
        "      volume = volume*255\n",
        "      volume = volume.astype('int32')\n",
        "      # print(volume[0])\n",
        "      matplotlib.image.imsave(path, volume, vmin=0, vmax=255)\n",
        "\n",
        "  else:\n",
        "\n",
        "    raw_volume, affine = load_raw_volume(scan_path)\n",
        "    volume_max = np.amax(raw_volume)\n",
        "    volume_min = np.amin(raw_volume)\n",
        "\n",
        "    for idx in range(raw_volume.shape[0]):\n",
        "      path = f'{first_dataset_image_train_path}{scan_path.name}_{idx}_.png'\n",
        "\n",
        "      volume = (raw_volume[idx]-volume_min)/(volume_max-volume_min)\n",
        "      volume = volume*255\n",
        "      volume = volume.astype('int32')\n",
        "\n",
        "      # print(volume[0])\n",
        "      # plt.imshow(volume, vmin=0, vmax=255)\n",
        "      # break\n",
        "\n",
        "      matplotlib.image.imsave(path, volume, vmin=0, vmax=255)\n",
        "\n",
        "#     # break\n",
        "    \n",
        "\n",
        "print(\"TRAIN DATASET FINISHED\")\n",
        "\n",
        "first_dataset_valid_path = Path('/content/FirstDataset/valid')\n",
        "first_dataset_image_valid_path = '/content/drive/MyDrive/FirstDataset_images/valid/images/images/'\n",
        "first_dataset_mask_valid_path = '/content/drive/MyDrive/FirstDataset_images/valid/masks/masks/'\n",
        "\n",
        "for scan_path in first_dataset_valid_path.iterdir():\n",
        "  print(scan_path)\n",
        "  \n",
        "\n",
        "  if scan_path.name.endswith('mask.nii.gz'):\n",
        "    mask_volume = load_labels_volume(scan_path)\n",
        "\n",
        "    volume_max = np.amax(mask_volume)\n",
        "    volume_min = np.amin(mask_volume)\n",
        "\n",
        "    for idx in range(mask_volume.shape[0]):\n",
        "      path = f'{first_dataset_mask_valid_path}{scan_path.name}_{idx}_.png'\n",
        "\n",
        "      volume = (mask_volume[idx]-volume_min)/(volume_max-volume_min)\n",
        "      volume = volume*255\n",
        "      volume = volume.astype('int32')\n",
        "\n",
        "      matplotlib.image.imsave(path, volume, vmin=0, vmax=255)\n",
        "\n",
        "  else:\n",
        "    raw_volume, affine = load_raw_volume(scan_path)\n",
        "    volume_max = np.amax(raw_volume)\n",
        "    volume_min = np.amin(raw_volume)\n",
        "\n",
        "    for idx in range(raw_volume.shape[0]):\n",
        "      path = f'{first_dataset_image_valid_path}{scan_path.name}_{idx}_.png'\n",
        "\n",
        "      volume = (raw_volume[idx]-volume_min)/(volume_max-volume_min)\n",
        "      volume = volume*255\n",
        "      volume = volume.astype('int32')\n",
        "\n",
        "      matplotlib.image.imsave(path, volume, vmin=0, vmax=255)\n",
        "\n",
        "\n",
        "print(\"VALID DATASET FINISHED\")\n"
      ],
      "execution_count": null,
      "outputs": []
    },
    {
      "cell_type": "code",
      "metadata": {
        "id": "UdzeRy_bkXro"
      },
      "source": [
        "!ls /content/drive/MyDrive/FirstDataset_images/train/masks/masks\n"
      ],
      "execution_count": null,
      "outputs": []
    },
    {
      "cell_type": "code",
      "metadata": {
        "id": "DFhQfL-K0TQq"
      },
      "source": [
        "!ls /content/drive/MyDrive/FirstDataset_images/valid/masks/masks"
      ],
      "execution_count": null,
      "outputs": []
    },
    {
      "cell_type": "code",
      "metadata": {
        "colab": {
          "base_uri": "https://localhost:8080/"
        },
        "id": "BdoH7y7izsZW",
        "outputId": "a9cf5274-b43a-4cab-e5d9-992c3a713bcd"
      },
      "source": [
        "print('test')"
      ],
      "execution_count": null,
      "outputs": [
        {
          "output_type": "stream",
          "text": [
            "test\n"
          ],
          "name": "stdout"
        }
      ]
    },
    {
      "cell_type": "code",
      "metadata": {
        "colab": {
          "base_uri": "https://localhost:8080/"
        },
        "id": "WmUC23wrxKvk",
        "outputId": "b64cdf16-1a7e-4b5e-a62f-36a212973986"
      },
      "source": [
        "\n",
        "# train\n",
        "# !mkdir /content/drive/MyDrive/FirstDataset_images/train/images/images\n",
        "# !mv /content/drive/MyDrive/FirstDataset_images/train/images/*.png /content/drive/MyDrive/FirstDataset_images/train/images/images\n",
        "\n",
        "# !!mkdir /content/drive/MyDrive/FirstDataset_images/train/masks/masks\n",
        "# !mv /content/drive/MyDrive/FirstDataset_images/train/masks/*.png /content/drive/MyDrive/FirstDataset_images/train/masks/masks\n",
        "\n",
        "# valid\n",
        "# !mkdir /content/drive/MyDrive/FirstDataset_images/valid/images/images\n",
        "# !mv /content/drive/MyDrive/FirstDataset_images/valid/images/*.png /content/drive/MyDrive/FirstDataset_images/valid/images/images\n",
        "\n",
        "# !!mkdir /content/drive/MyDrive/FirstDataset_images/valid/masks/masks\n",
        "# !mv /content/drive/MyDrive/FirstDataset_images/valid/masks/*.png /content/drive/MyDrive/FirstDataset_images/valid/masks/masks\n",
        "\n"
      ],
      "execution_count": null,
      "outputs": [
        {
          "output_type": "stream",
          "text": [
            "mkdir: cannot create directory ‘/content/drive/MyDrive/FirstDataset_images/train/images/images’: File exists\n",
            "/bin/bash: /bin/mv: Argument list too long\n",
            "/bin/bash: /bin/mv: Argument list too long\n"
          ],
          "name": "stdout"
        }
      ]
    },
    {
      "cell_type": "code",
      "metadata": {
        "id": "g6WAkf-7su7G"
      },
      "source": [
        "import tensorflow as tf\n",
        "from segmentation_models import get_preprocessing\n",
        "\n",
        "\n",
        "preprocesing_function = get_preprocessing('efficientnetb0')\n",
        "\n",
        "augmentations = dict(horizontal_flip=True)\n",
        "\n",
        "images_datagen = tf.keras.preprocessing.image.ImageDataGenerator(\n",
        "    # preprocessing_function=preprocesing_function,\n",
        "    # rescale = 1/255,\n",
        "    )\n",
        "\n",
        "mask_datagen = tf.keras.preprocessing.image.ImageDataGenerator( )"
      ],
      "execution_count": null,
      "outputs": []
    },
    {
      "cell_type": "code",
      "metadata": {
        "colab": {
          "base_uri": "https://localhost:8080/"
        },
        "id": "Ubs7wwNenQQf",
        "outputId": "34905c10-37e2-465d-f24b-9295ae6c19c2"
      },
      "source": [
        "import tensorflow as tf\n",
        "# from segmentation_models import get_preprocessing\n",
        "\n",
        "\n",
        "batch_size = 128\n",
        "# preprocesing_function = get_preprocessing('efficientnetb0')\n",
        "\n",
        "\n",
        "train_images_generator = images_datagen.flow_from_directory(\n",
        "    '/content/drive/MyDrive/FirstDataset_images/train/images',\n",
        "    target_size=(128, 128),\n",
        "    batch_size=batch_size,\n",
        "    seed=42,\n",
        "    interpolation='bilinear',\n",
        "    class_mode=None,\n",
        "    # subset = 'training'\n",
        "    )\n",
        "\n",
        "\n",
        "\n",
        "train_mask_generator = mask_datagen.flow_from_directory(\n",
        "    '/content/drive/MyDrive/FirstDataset_images/train/masks',\n",
        "     target_size=(128, 128),\n",
        "     batch_size=batch_size,\n",
        "     seed=42,\n",
        "     class_mode=None\n",
        "    #  subset = 'training'\n",
        "    )\n",
        "\n",
        "val_images_generator = images_datagen.flow_from_directory(\n",
        "    '/content/drive/MyDrive/FirstDataset_images/valid/images',\n",
        "    target_size=(128, 128),\n",
        "    batch_size=batch_size,\n",
        "    seed=42,\n",
        "    interpolation='bilinear',\n",
        "    class_mode=None\n",
        "    # subset = 'validation'\n",
        "    )\n",
        "\n",
        "\n",
        "\n",
        "val_mask_generator = mask_datagen.flow_from_directory(\n",
        "    '/content/drive/MyDrive/FirstDataset_images/valid/masks',\n",
        "     target_size=(128, 128),\n",
        "     batch_size=batch_size,\n",
        "     seed=42,\n",
        "     class_mode=None\n",
        "    #  subset = 'validation'\n",
        "    )\n",
        "\n",
        "train_combined_generator = zip(train_images_generator, train_mask_generator)\n",
        "val_combined_generator = zip(val_images_generator, val_mask_generator)\n",
        "\n",
        "\n"
      ],
      "execution_count": null,
      "outputs": [
        {
          "output_type": "stream",
          "text": [
            "Found 23338 images belonging to 1 classes.\n",
            "Found 23338 images belonging to 1 classes.\n",
            "Found 10669 images belonging to 1 classes.\n",
            "Found 11207 images belonging to 1 classes.\n"
          ],
          "name": "stdout"
        }
      ]
    },
    {
      "cell_type": "code",
      "metadata": {
        "id": "TUbYcdHMIeDP"
      },
      "source": [
        "joined_generator = zip(train_images_generator, train_mask_generator)"
      ],
      "execution_count": null,
      "outputs": []
    },
    {
      "cell_type": "code",
      "metadata": {
        "id": "p1Sx7RtxIhrK",
        "colab": {
          "base_uri": "https://localhost:8080/",
          "height": 220
        },
        "outputId": "e0646842-ffff-4adb-ce50-6ff872e0940d"
      },
      "source": [
        "import matplotlib.pyplot as plt\n",
        "import numpy as np\n",
        "\n",
        "images,masks = next(joined_generator)\n",
        "# print(np.shape(images[0]))\n",
        "# print(images[0])\n",
        "fig = plt.figure()\n",
        "fig.add_subplot(1, 2, 1)\n",
        "plt.imshow(images[0].astype(int))\n",
        "fig.add_subplot(1, 2, 2)\n",
        "plt.imshow(masks[0].astype(int))"
      ],
      "execution_count": null,
      "outputs": [
        {
          "output_type": "execute_result",
          "data": {
            "text/plain": [
              "<matplotlib.image.AxesImage at 0x7fcacee88ac8>"
            ]
          },
          "metadata": {
            "tags": []
          },
          "execution_count": 21
        },
        {
          "output_type": "display_data",
          "data": {
            "image/png": "[encoded data removed]",
            "text/plain": [
              "<Figure size 432x288 with 2 Axes>"
            ]
          },
          "metadata": {
            "tags": [],
            "needs_background": "light"
          }
        }
      ]
    },
    {
      "cell_type": "code",
      "metadata": {
        "colab": {
          "base_uri": "https://localhost:8080/"
        },
        "id": "5XAObqfWbLl6",
        "outputId": "648cfb92-57f3-4cbe-e072-a6993a8404d8"
      },
      "source": [
        "# segmentation_models nie jest domyślnie zainstalowane w Colabie\n",
        "!pip install segmentation_models"
      ],
      "execution_count": null,
      "outputs": [
        {
          "output_type": "stream",
          "text": [
            "Requirement already satisfied: segmentation_models in /usr/local/lib/python3.6/dist-packages (1.0.1)\n",
            "Requirement already satisfied: image-classifiers==1.0.0 in /usr/local/lib/python3.6/dist-packages (from segmentation_models) (1.0.0)\n",
            "Requirement already satisfied: keras-applications<=1.0.8,>=1.0.7 in /usr/local/lib/python3.6/dist-packages (from segmentation_models) (1.0.8)\n",
            "Requirement already satisfied: efficientnet==1.0.0 in /usr/local/lib/python3.6/dist-packages (from segmentation_models) (1.0.0)\n",
            "Requirement already satisfied: numpy>=1.9.1 in /usr/local/lib/python3.6/dist-packages (from keras-applications<=1.0.8,>=1.0.7->segmentation_models) (1.19.5)\n",
            "Requirement already satisfied: h5py in /usr/local/lib/python3.6/dist-packages (from keras-applications<=1.0.8,>=1.0.7->segmentation_models) (2.10.0)\n",
            "Requirement already satisfied: scikit-image in /usr/local/lib/python3.6/dist-packages (from efficientnet==1.0.0->segmentation_models) (0.16.2)\n",
            "Requirement already satisfied: six in /usr/local/lib/python3.6/dist-packages (from h5py->keras-applications<=1.0.8,>=1.0.7->segmentation_models) (1.15.0)\n",
            "Requirement already satisfied: networkx>=2.0 in /usr/local/lib/python3.6/dist-packages (from scikit-image->efficientnet==1.0.0->segmentation_models) (2.5)\n",
            "Requirement already satisfied: imageio>=2.3.0 in /usr/local/lib/python3.6/dist-packages (from scikit-image->efficientnet==1.0.0->segmentation_models) (2.4.1)\n",
            "Requirement already satisfied: pillow>=4.3.0 in /usr/local/lib/python3.6/dist-packages (from scikit-image->efficientnet==1.0.0->segmentation_models) (7.0.0)\n",
            "Requirement already satisfied: matplotlib!=3.0.0,>=2.0.0 in /usr/local/lib/python3.6/dist-packages (from scikit-image->efficientnet==1.0.0->segmentation_models) (3.2.2)\n",
            "Requirement already satisfied: scipy>=0.19.0 in /usr/local/lib/python3.6/dist-packages (from scikit-image->efficientnet==1.0.0->segmentation_models) (1.4.1)\n",
            "Requirement already satisfied: PyWavelets>=0.4.0 in /usr/local/lib/python3.6/dist-packages (from scikit-image->efficientnet==1.0.0->segmentation_models) (1.1.1)\n",
            "Requirement already satisfied: decorator>=4.3.0 in /usr/local/lib/python3.6/dist-packages (from networkx>=2.0->scikit-image->efficientnet==1.0.0->segmentation_models) (4.4.2)\n",
            "Requirement already satisfied: python-dateutil>=2.1 in /usr/local/lib/python3.6/dist-packages (from matplotlib!=3.0.0,>=2.0.0->scikit-image->efficientnet==1.0.0->segmentation_models) (2.8.1)\n",
            "Requirement already satisfied: cycler>=0.10 in /usr/local/lib/python3.6/dist-packages (from matplotlib!=3.0.0,>=2.0.0->scikit-image->efficientnet==1.0.0->segmentation_models) (0.10.0)\n",
            "Requirement already satisfied: pyparsing!=2.0.4,!=2.1.2,!=2.1.6,>=2.0.1 in /usr/local/lib/python3.6/dist-packages (from matplotlib!=3.0.0,>=2.0.0->scikit-image->efficientnet==1.0.0->segmentation_models) (2.4.7)\n",
            "Requirement already satisfied: kiwisolver>=1.0.1 in /usr/local/lib/python3.6/dist-packages (from matplotlib!=3.0.0,>=2.0.0->scikit-image->efficientnet==1.0.0->segmentation_models) (1.3.1)\n"
          ],
          "name": "stdout"
        }
      ]
    },
    {
      "cell_type": "code",
      "metadata": {
        "colab": {
          "base_uri": "https://localhost:8080/"
        },
        "id": "eHYyJO3ebQSS",
        "outputId": "02bf162c-a0de-4c0f-e7b4-40114aff087f"
      },
      "source": [
        "%env SM_FRAMEWORK=tf.keras"
      ],
      "execution_count": null,
      "outputs": [
        {
          "output_type": "stream",
          "text": [
            "env: SM_FRAMEWORK=tf.keras\n"
          ],
          "name": "stdout"
        }
      ]
    },
    {
      "cell_type": "code",
      "metadata": {
        "colab": {
          "base_uri": "https://localhost:8080/"
        },
        "id": "ZID650yfbT-E",
        "outputId": "fde5848a-0779-4432-c5cc-4cd34dcf40a5"
      },
      "source": [
        "from segmentation_models import Unet\n",
        "# import segmentation_models. as smp\n",
        "\n",
        "\n",
        "model = Unet('efficientnetb1', classes=1, activation='sigmoid', encoder_weights='imagenet', encoder_freeze=True)\n"
      ],
      "execution_count": null,
      "outputs": [
        {
          "output_type": "stream",
          "text": [
            "Segmentation Models: using `tf.keras` framework.\n"
          ],
          "name": "stdout"
        }
      ]
    },
    {
      "cell_type": "code",
      "metadata": {
        "id": "4rE55nmPFiK5"
      },
      "source": [
        "model.summary()"
      ],
      "execution_count": null,
      "outputs": []
    },
    {
      "cell_type": "code",
      "metadata": {
        "colab": {
          "base_uri": "https://localhost:8080/"
        },
        "id": "L07h2WjLbVxR",
        "outputId": "18426c94-ecaa-4b30-8131-4ceb1dcc268f"
      },
      "source": [
        "model.compile(\n",
        "    optimizer=tf.keras.optimizers.Adam(lr=3e-4),\n",
        "    loss=tf.keras.losses.BinaryCrossentropy(),\n",
        "    metrics=[tf.keras.metrics.BinaryAccuracy()]\n",
        ")\n",
        "\n",
        "\n",
        "training_samples = train_images_generator.n\n",
        "validation_samples = val_images_generator.n\n",
        "\n",
        "batch_size = 16\n",
        "validaton_batch_size = 32\n",
        "\n",
        "model.fit(\n",
        "    train_combined_generator, \n",
        "    steps_per_epoch=training_samples // batch_size,\n",
        "    # batch_size=16,\n",
        "    # validation_data = val_combined_generator,\n",
        "    # validation_steps = validation_samples // validaton_batch_size,\n",
        "    epochs=20,\n",
        "    use_multiprocessing=True,\n",
        "    verbose=1\n",
        ")"
      ],
      "execution_count": null,
      "outputs": [
        {
          "output_type": "stream",
          "text": [
            "Epoch 1/20\n",
            "WARNING:tensorflow:multiprocessing can interact badly with TensorFlow, causing nondeterministic deadlocks. For high performance data pipelines tf.data is recommended.\n",
            "  51/1458 [>.............................] - ETA: 3:35:42 - loss: -121.0566 - binary_accuracy: 0.0685"
          ],
          "name": "stdout"
        },
        {
          "output_type": "stream",
          "text": [
            "Process Keras_worker_ForkPoolWorker-3:\n",
            "Traceback (most recent call last):\n",
            "  File \"/usr/lib/python3.6/multiprocessing/process.py\", line 258, in _bootstrap\n",
            "    self.run()\n",
            "  File \"/usr/lib/python3.6/multiprocessing/process.py\", line 93, in run\n",
            "    self._target(*self._args, **self._kwargs)\n",
            "  File \"/usr/lib/python3.6/multiprocessing/pool.py\", line 119, in worker\n",
            "    result = (True, func(*args, **kwds))\n",
            "  File \"/usr/local/lib/python3.6/dist-packages/tensorflow/python/keras/utils/data_utils.py\", line 831, in next_sample\n",
            "    return six.next(_SHARED_SEQUENCES[uid])\n",
            "  File \"/usr/local/lib/python3.6/dist-packages/keras_preprocessing/image/iterator.py\", line 104, in __next__\n",
            "    return self.next(*args, **kwargs)\n",
            "  File \"/usr/local/lib/python3.6/dist-packages/keras_preprocessing/image/iterator.py\", line 116, in next\n",
            "    return self._get_batches_of_transformed_samples(index_array)\n",
            "  File \"/usr/local/lib/python3.6/dist-packages/keras_preprocessing/image/iterator.py\", line 230, in _get_batches_of_transformed_samples\n",
            "    interpolation=self.interpolation)\n",
            "  File \"/usr/local/lib/python3.6/dist-packages/keras_preprocessing/image/utils.py\", line 114, in load_img\n",
            "    img = pil_image.open(io.BytesIO(f.read()))\n",
            "KeyboardInterrupt\n",
            "Process Keras_worker_ForkPoolWorker-4:\n",
            "Process Keras_worker_ForkPoolWorker-5:\n",
            "Traceback (most recent call last):\n",
            "  File \"/usr/lib/python3.6/multiprocessing/process.py\", line 258, in _bootstrap\n",
            "    self.run()\n",
            "Traceback (most recent call last):\n",
            "  File \"/usr/lib/python3.6/multiprocessing/process.py\", line 93, in run\n",
            "    self._target(*self._args, **self._kwargs)\n",
            "  File \"/usr/lib/python3.6/multiprocessing/process.py\", line 258, in _bootstrap\n",
            "    self.run()\n",
            "  File \"/usr/lib/python3.6/multiprocessing/pool.py\", line 108, in worker\n",
            "    task = get()\n",
            "  File \"/usr/lib/python3.6/multiprocessing/queues.py\", line 335, in get\n",
            "    res = self._reader.recv_bytes()\n",
            "  File \"/usr/lib/python3.6/multiprocessing/process.py\", line 93, in run\n",
            "    self._target(*self._args, **self._kwargs)\n",
            "  File \"/usr/lib/python3.6/multiprocessing/pool.py\", line 108, in worker\n",
            "    task = get()\n",
            "  File \"/usr/lib/python3.6/multiprocessing/connection.py\", line 216, in recv_bytes\n",
            "    buf = self._recv_bytes(maxlength)\n",
            "  File \"/usr/lib/python3.6/multiprocessing/queues.py\", line 335, in get\n",
            "    res = self._reader.recv_bytes()\n",
            "  File \"/usr/lib/python3.6/multiprocessing/connection.py\", line 407, in _recv_bytes\n",
            "    buf = self._recv(4)\n",
            "  File \"/usr/lib/python3.6/multiprocessing/connection.py\", line 379, in _recv\n",
            "    chunk = read(handle, remaining)\n",
            "  File \"/usr/lib/python3.6/multiprocessing/connection.py\", line 216, in recv_bytes\n",
            "    buf = self._recv_bytes(maxlength)\n",
            "  File \"/usr/lib/python3.6/multiprocessing/connection.py\", line 407, in _recv_bytes\n",
            "    buf = self._recv(4)\n",
            "  File \"/usr/lib/python3.6/multiprocessing/connection.py\", line 379, in _recv\n",
            "    chunk = read(handle, remaining)\n",
            "KeyboardInterrupt\n",
            "KeyboardInterrupt\n"
          ],
          "name": "stderr"
        }
      ]
    }
  ]
}
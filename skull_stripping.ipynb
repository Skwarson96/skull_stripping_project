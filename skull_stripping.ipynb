{
  "nbformat": 4,
  "nbformat_minor": 0,
  "metadata": {
    "colab": {
      "name": "skull_stripping",
      "provenance": [],
      "authorship_tag": "ABX9TyOA6MdVB0UFltJekdeTqM4l"
    },
    "kernelspec": {
      "name": "python3",
      "display_name": "Python 3"
    }
  },
  "cells": [
    {
      "cell_type": "code",
      "metadata": {
        "id": "bIIljEKfPipS"
      },
      "source": [
        "!pip install --upgrade nibabel"
      ],
      "execution_count": null,
      "outputs": []
    },
    {
      "cell_type": "markdown",
      "metadata": {
        "id": "HWjslM5C7fsb"
      },
      "source": [
        "Get data\n"
      ]
    },
    {
      "cell_type": "code",
      "metadata": {
        "id": "sJkyvhVv7dXu"
      },
      "source": [
        "!wget \"https://putpoznanpl-my.sharepoint.com/:u:/g/personal/dominik_pieczynski_put_poznan_pl/EWIZ_xm8wXpMjQDgF2VQ1csB4QuHPKoj5vDpj6CQi9p-AA?e=yQr6fn&download=1\" -O public.zip\n",
        "!unzip -q public.zip\n",
        "!rm public.zip"
      ],
      "execution_count": null,
      "outputs": []
    },
    {
      "cell_type": "markdown",
      "metadata": {
        "id": "KRRjwPzY7jdk"
      },
      "source": [
        "Create valid dirs"
      ]
    },
    {
      "cell_type": "code",
      "metadata": {
        "id": "w8u0p9IG7i0r"
      },
      "source": [
        "!mkdir /content/FirstDataset/valid\n",
        "!mkdir /content/SecondDataset/valid"
      ],
      "execution_count": null,
      "outputs": []
    },
    {
      "cell_type": "markdown",
      "metadata": {
        "id": "6dOQI1hd7pwy"
      },
      "source": [
        "Checking the number of scans in dirs "
      ]
    },
    {
      "cell_type": "code",
      "metadata": {
        "id": "GNW-oJqM7oVa"
      },
      "source": [
        "import os\n",
        "import shutil\n",
        "\n",
        "print(\"FirstDataset\")\n",
        "filepath1 = '/content/FirstDataset/train'\n",
        "filenames1 = os.listdir(filepath1)\n",
        "filenames1 = sorted(filenames1)\n",
        "print('train', len(filenames1))\n",
        "print('test', len(os.listdir('/content/FirstDataset/test')))\n",
        "print(int(len(filenames1)/5)) #114\n",
        "\n",
        "print(\"SecondDataset\")\n",
        "filepath2 = '/content/SecondDataset/train'\n",
        "filenames2 = os.listdir(filepath2)\n",
        "filenames2 = sorted(filenames2)\n",
        "print('train', len(filenames2))\n",
        "print('test', len(os.listdir('/content/SecondDataset/test')))\n",
        "print(int(len(filenames2)/5)) # 20"
      ],
      "execution_count": null,
      "outputs": []
    },
    {
      "cell_type": "markdown",
      "metadata": {
        "id": "HDDLBtQe73iy"
      },
      "source": [
        "Transfer of some data from train dir to valid dir"
      ]
    },
    {
      "cell_type": "code",
      "metadata": {
        "id": "YbG-rMgq726q"
      },
      "source": [
        "import os\n",
        "import shutil\n",
        "\n",
        "# FirstDataset\n",
        "filepath1 = '/content/FirstDataset/train'\n",
        "filenames1 = os.listdir(filepath1)\n",
        "filenames1 = sorted(filenames1)\n",
        "# print(len(filenames1))\n",
        "valid_filenames1 = filenames1[:int(len(filenames1)/5)]\n",
        "# print(valid_filenames1)\n",
        "for file_name in valid_filenames1:\n",
        "  shutil.move(f\"/content/FirstDataset/train/{file_name}\", f\"/content/FirstDataset/valid/{file_name}\")\n",
        "print(\"train len:\", len(os.listdir('/content/FirstDataset/train')))\n",
        "print(\"valid len:\", len(os.listdir('/content/FirstDataset/valid')))\n",
        "print('test len', len(os.listdir('/content/FirstDataset/test')))\n",
        "print('finish 1')\n",
        "\n",
        "# SecondDataset\n",
        "filepath2 = '/content/SecondDataset/train'\n",
        "filenames2 = os.listdir(filepath2)\n",
        "filenames2 = sorted(filenames2)\n",
        "# print(len(filenames2))\n",
        "valid_filenames2 = filenames2[:int(len(filenames2)/5)]\n",
        "# print(valid_filenames2)\n",
        "for file_name in valid_filenames2:\n",
        "  shutil.move(f\"/content/SecondDataset/train/{file_name}\", f\"/content/SecondDataset/valid/{file_name}\")\n",
        "print(\"train len:\", len(os.listdir('/content/SecondDataset/train')))\n",
        "print(\"valid len:\", len(os.listdir('/content/SecondDataset/valid')))\n",
        "print('test len', len(os.listdir('/content/SecondDataset/test')))\n",
        "print('finish 2')"
      ],
      "execution_count": null,
      "outputs": []
    }
  ]
}
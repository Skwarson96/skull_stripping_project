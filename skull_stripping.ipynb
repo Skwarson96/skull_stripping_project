{
  "nbformat": 4,
  "nbformat_minor": 0,
  "metadata": {
    "colab": {
      "name": "skull_stripping",
      "provenance": [],
      "authorship_tag": "ABX9TyOKBbJ4hVeTpc9gd4z7NsVg"
    },
    "kernelspec": {
      "name": "python3",
      "display_name": "Python 3"
    }
  },
  "cells": [
    {
      "cell_type": "code",
      "metadata": {
        "id": "bIIljEKfPipS",
        "colab": {
          "base_uri": "https://localhost:8080/"
        },
        "outputId": "6dd9b492-2d38-4657-ec31-fe8781b6ab2f"
      },
      "source": [
        "print('test')"
      ],
      "execution_count": null,
      "outputs": [
        {
          "output_type": "stream",
          "text": [
            "test\n"
          ],
          "name": "stdout"
        }
      ]
    }
  ]
}
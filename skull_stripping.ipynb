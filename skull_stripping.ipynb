{
  "nbformat": 4,
  "nbformat_minor": 0,
  "metadata": {
    "accelerator": "GPU",
    "colab": {
      "name": "skull_stripping",
      "provenance": [],
      "collapsed_sections": [],
      "toc_visible": true,
      "authorship_tag": "ABX9TyPQzddIkAT+o/CL//oDCtED",
      "include_colab_link": true
    },
    "kernelspec": {
      "display_name": "Python 3",
      "name": "python3"
    }
  },
  "cells": [
    {
      "cell_type": "markdown",
      "metadata": {
        "id": "view-in-github",
        "colab_type": "text"
      },
      "source": [
        "<a href=\"https://colab.research.google.com/github/Skwarson96/skull_stripping_project/blob/main/skull_stripping.ipynb\" target=\"_parent\"><img src=\"https://colab.research.google.com/assets/colab-badge.svg\" alt=\"Open In Colab\"/></a>"
      ]
    },
    {
      "cell_type": "code",
      "metadata": {
        "id": "bIIljEKfPipS",
        "colab": {
          "base_uri": "https://localhost:8080/"
        },
        "outputId": "2bc23b4b-48ae-4363-e077-1e7c41a8ecba"
      },
      "source": [
        "!pip install --upgrade nibabel"
      ],
      "execution_count": 1,
      "outputs": [
        {
          "output_type": "stream",
          "text": [
            "Collecting nibabel\n",
            "\u001b[?25l  Downloading https://files.pythonhosted.org/packages/42/bf/ba089fec67237f6439c345b8977ca6dde67402ada6592bf84c2c78d557ff/nibabel-3.2.1-py3-none-any.whl (3.3MB)\n",
            "\u001b[K     |████████████████████████████████| 3.3MB 29.1MB/s \n",
            "\u001b[?25hRequirement already satisfied, skipping upgrade: packaging>=14.3 in /usr/local/lib/python3.6/dist-packages (from nibabel) (20.9)\n",
            "Requirement already satisfied, skipping upgrade: numpy>=1.14 in /usr/local/lib/python3.6/dist-packages (from nibabel) (1.19.5)\n",
            "Requirement already satisfied, skipping upgrade: pyparsing>=2.0.2 in /usr/local/lib/python3.6/dist-packages (from packaging>=14.3->nibabel) (2.4.7)\n",
            "Installing collected packages: nibabel\n",
            "  Found existing installation: nibabel 3.0.2\n",
            "    Uninstalling nibabel-3.0.2:\n",
            "      Successfully uninstalled nibabel-3.0.2\n",
            "Successfully installed nibabel-3.2.1\n"
          ],
          "name": "stdout"
        }
      ]
    },
    {
      "cell_type": "markdown",
      "metadata": {
        "id": "HWjslM5C7fsb"
      },
      "source": [
        "Get data\n"
      ]
    },
    {
      "cell_type": "code",
      "metadata": {
        "colab": {
          "base_uri": "https://localhost:8080/"
        },
        "id": "sJkyvhVv7dXu",
        "outputId": "4eca3c36-a628-4150-9fec-c1bdbfcf541f"
      },
      "source": [
        "!wget \"https://putpoznanpl-my.sharepoint.com/:u:/g/personal/dominik_pieczynski_put_poznan_pl/EWIZ_xm8wXpMjQDgF2VQ1csB4QuHPKoj5vDpj6CQi9p-AA?e=yQr6fn&download=1\" -O public.zip\n",
        "!unzip -q public.zip\n",
        "!rm public.zip"
      ],
      "execution_count": 2,
      "outputs": [
        {
          "output_type": "stream",
          "text": [
            "--2021-02-15 12:24:24--  https://putpoznanpl-my.sharepoint.com/:u:/g/personal/dominik_pieczynski_put_poznan_pl/EWIZ_xm8wXpMjQDgF2VQ1csB4QuHPKoj5vDpj6CQi9p-AA?e=yQr6fn&download=1\n",
            "Resolving putpoznanpl-my.sharepoint.com (putpoznanpl-my.sharepoint.com)... 13.107.136.9\n",
            "Connecting to putpoznanpl-my.sharepoint.com (putpoznanpl-my.sharepoint.com)|13.107.136.9|:443... connected.\n",
            "HTTP request sent, awaiting response... 302 Found\n",
            "Location: /personal/dominik_pieczynski_put_poznan_pl/Documents/Public.zip?originalPath=aHR0cHM6Ly9wdXRwb3puYW5wbC1teS5zaGFyZXBvaW50LmNvbS86dTovZy9wZXJzb25hbC9kb21pbmlrX3BpZWN6eW5za2lfcHV0X3Bvem5hbl9wbC9FV0laX3htOHdYcE1qUURnRjJWUTFjc0I0UXVIUEtvajV2RHBqNkNRaTlwLUFBP3J0aW1lPW5WTHhvYXpSMkVn [following]\n",
            "--2021-02-15 12:24:25--  https://putpoznanpl-my.sharepoint.com/personal/dominik_pieczynski_put_poznan_pl/Documents/Public.zip?originalPath=aHR0cHM6Ly9wdXRwb3puYW5wbC1teS5zaGFyZXBvaW50LmNvbS86dTovZy9wZXJzb25hbC9kb21pbmlrX3BpZWN6eW5za2lfcHV0X3Bvem5hbl9wbC9FV0laX3htOHdYcE1qUURnRjJWUTFjc0I0UXVIUEtvajV2RHBqNkNRaTlwLUFBP3J0aW1lPW5WTHhvYXpSMkVn\n",
            "Reusing existing connection to putpoznanpl-my.sharepoint.com:443.\n",
            "HTTP request sent, awaiting response... 200 OK\n",
            "Length: 5672415949 (5.3G) [application/x-zip-compressed]\n",
            "Saving to: ‘public.zip’\n",
            "\n",
            "public.zip          100%[===================>]   5.28G  40.4MB/s    in 1m 54s  \n",
            "\n",
            "2021-02-15 12:26:20 (47.4 MB/s) - ‘public.zip’ saved [5672415949/5672415949]\n",
            "\n"
          ],
          "name": "stdout"
        }
      ]
    },
    {
      "cell_type": "code",
      "metadata": {
        "colab": {
          "base_uri": "https://localhost:8080/"
        },
        "id": "yMzpRaOapr0K",
        "outputId": "4ab81b5d-1a42-4e68-a5b5-96099cac38c8"
      },
      "source": [
        "from google.colab import drive\n",
        "drive.mount(\"/content/drive\")"
      ],
      "execution_count": 3,
      "outputs": [
        {
          "output_type": "stream",
          "text": [
            "Mounted at /content/drive\n"
          ],
          "name": "stdout"
        }
      ]
    },
    {
      "cell_type": "markdown",
      "metadata": {
        "id": "KRRjwPzY7jdk"
      },
      "source": [
        "Create valid dirs"
      ]
    },
    {
      "cell_type": "code",
      "metadata": {
        "id": "w8u0p9IG7i0r"
      },
      "source": [
        "!mkdir /content/FirstDataset/valid\n",
        "!mkdir /content/SecondDataset/valid"
      ],
      "execution_count": 17,
      "outputs": []
    },
    {
      "cell_type": "code",
      "metadata": {
        "id": "9BOc8CgV4OMt"
      },
      "source": [
        "!mkdir /content/FirstDataset/train2"
      ],
      "execution_count": 18,
      "outputs": []
    },
    {
      "cell_type": "markdown",
      "metadata": {
        "id": "6dOQI1hd7pwy"
      },
      "source": [
        "Checking the number of scans in dirs "
      ]
    },
    {
      "cell_type": "code",
      "metadata": {
        "colab": {
          "base_uri": "https://localhost:8080/"
        },
        "id": "GNW-oJqM7oVa",
        "outputId": "59b29698-f5fe-497b-b1bd-305d0fa985dc"
      },
      "source": [
        "import os\n",
        "import shutil\n",
        "\n",
        "print(\"FirstDataset\")\n",
        "filepath1 = '/content/FirstDataset/train'\n",
        "filenames1 = os.listdir(filepath1)\n",
        "filenames1 = sorted(filenames1)\n",
        "print('train', len(filenames1))\n",
        "print('test', len(os.listdir('/content/FirstDataset/test')))\n",
        "print(int(len(filenames1)/5)) #114\n",
        "\n",
        "print(\"SecondDataset\")\n",
        "filepath2 = '/content/SecondDataset/train'\n",
        "filenames2 = os.listdir(filepath2)\n",
        "filenames2 = sorted(filenames2)\n",
        "print('train', len(filenames2))\n",
        "print('test', len(os.listdir('/content/SecondDataset/test')))\n",
        "print(int(len(filenames2)/5)) # 20"
      ],
      "execution_count": null,
      "outputs": [
        {
          "output_type": "stream",
          "text": [
            "FirstDataset\n",
            "train 574\n",
            "test 72\n",
            "114\n",
            "SecondDataset\n",
            "train 100\n",
            "test 25\n",
            "20\n"
          ],
          "name": "stdout"
        }
      ]
    },
    {
      "cell_type": "markdown",
      "metadata": {
        "id": "HDDLBtQe73iy"
      },
      "source": [
        "Transfer of some data from train dir to valid dir"
      ]
    },
    {
      "cell_type": "code",
      "metadata": {
        "colab": {
          "base_uri": "https://localhost:8080/"
        },
        "id": "YbG-rMgq726q",
        "outputId": "f9f3c96e-8cfa-4d5a-c564-5be4c2d6a679"
      },
      "source": [
        "import os\n",
        "import shutil\n",
        "from pathlib import Path\n",
        "\n",
        "# FirstDataset\n",
        "filepath1 = Path('/content/FirstDataset/train')\n",
        "\n",
        "train_X_1 = []\n",
        "train_y_1 = []\n",
        "\n",
        "for scan_path in sorted(filepath1.iterdir()):\n",
        "  if scan_path.name.endswith('mask.nii.gz'):\n",
        "    train_y_1.append(scan_path)\n",
        "  else:\n",
        "    train_X_1.append(scan_path)\n",
        "\n",
        "print(len(train_X_1), train_X_1)\n",
        "print(len(train_y_1), train_y_1)\n",
        "\n",
        "# SecondDataset\n",
        "filepath2 = Path('/content/SecondDataset/train')\n",
        "\n",
        "train_X_2 = []\n",
        "train_y_2 = []\n",
        "\n",
        "for scan_path in sorted(filepath2.iterdir()):\n",
        "    train_y_2.append(scan_path/'mask.nii.gz')\n",
        "    train_X_2.append(scan_path/'T1w.nii.gz')\n",
        "\n",
        "print(len(train_X_2), train_X_2)\n",
        "print(len(train_y_2), train_y_2)\n",
        "\n",
        "# valid_filenames1 = filenames1[:int(len(filenames1)/5)]\n",
        "# # print(valid_filenames1)\n",
        "# for file_name in valid_filenames1:\n",
        "#   shutil.move(f\"/content/FirstDataset/train/{file_name}\", f\"/content/FirstDataset/valid/{file_name}\")\n",
        "\n",
        "# print(\"train len:\", len(os.listdir('/content/FirstDataset/train')))\n",
        "# print(\"train2 len:\", len(os.listdir('/content/FirstDataset/train2')))\n",
        "# print(\"valid len:\", len(os.listdir('/content/FirstDataset/valid')))\n",
        "# print('test len', len(os.listdir('/content/FirstDataset/test')))\n",
        "# #print('finish firstDataset')\n",
        "\n",
        "# filenames2 = os.listdir(filepath1)\n",
        "# filenames2 = sorted(filenames2)\n",
        "\n",
        "# train2_filenames = filenames2[:int(len(filenames2)/2)]\n",
        "\n",
        "# for file_name in train2_filenames:\n",
        "#   shutil.move(f\"/content/FirstDataset/train/{file_name}\", f\"/content/FirstDataset/train2/{file_name}\")\n",
        "\n",
        "# print(\"train len:\", len(os.listdir('/content/FirstDataset/train')))\n",
        "# print(\"train2 len:\", len(os.listdir('/content/FirstDataset/train2')))\n",
        "# print(\"valid len:\", len(os.listdir('/content/FirstDataset/valid')))\n",
        "# print('test len', len(os.listdir('/content/FirstDataset/test')))\n",
        "# #print('finish firstDataset')\n",
        "\n",
        "# --------------------------------------------------------------------\n",
        "\n",
        "# # SecondDataset\n",
        "# filepath2 = '/content/SecondDataset/train'\n",
        "# filenames2 = os.listdir(filepath2)\n",
        "# filenames2 = sorted(filenames2)\n",
        "# # print(len(filenames2))\n",
        "# valid_filenames2 = filenames2[:int(len(filenames2)/5)]\n",
        "# # print(valid_filenames2)\n",
        "# for file_name in valid_filenames2:\n",
        "#   shutil.move(f\"/content/SecondDataset/train/{file_name}\", f\"/content/SecondDataset/valid/{file_name}\")\n",
        "# print(\"train len:\", len(os.listdir('/content/SecondDataset/train')))\n",
        "# print(\"valid len:\", len(os.listdir('/content/SecondDataset/valid')))\n",
        "# print('test len', len(os.listdir('/content/SecondDataset/test')))\n",
        "# print('finish secondDataset')\n"
      ],
      "execution_count": 9,
      "outputs": [
        {
          "output_type": "stream",
          "text": [
            "287 [PosixPath('/content/FirstDataset/train/011e40c2b1d3c9bb53bd9e5a7efd04ba.nii.gz'), PosixPath('/content/FirstDataset/train/0187e4cb2fb4971848c8981e9ece0849.nii.gz'), PosixPath('/content/FirstDataset/train/022161680299e1f3bea7169947dc45b6.nii.gz'), PosixPath('/content/FirstDataset/train/02862555e24fd75a84a3259e4210e73b.nii.gz'), PosixPath('/content/FirstDataset/train/04e0e6ed0432fd737fd3f29fe551b77c.nii.gz'), PosixPath('/content/FirstDataset/train/05b438c4933b77168c529ea19486a1c9.nii.gz'), PosixPath('/content/FirstDataset/train/06503d8025b2830c50599cfcc0febd39.nii.gz'), PosixPath('/content/FirstDataset/train/0a2de3cae8ca66ea62b7e2dae3bdffca.nii.gz'), PosixPath('/content/FirstDataset/train/0b3ea09bb26b17af2b596e96875d2ca2.nii.gz'), PosixPath('/content/FirstDataset/train/0c7dc995949da4278941d36c048ff2c9.nii.gz'), PosixPath('/content/FirstDataset/train/0efee62646deb97c8c7cfa0f457fa4dc.nii.gz'), PosixPath('/content/FirstDataset/train/105625ce5c645192e3c3ca78b7b32edb.nii.gz'), PosixPath('/content/FirstDataset/train/117ced821b54b4a72be4c0ef73dabec0.nii.gz'), PosixPath('/content/FirstDataset/train/13978bc02f30e15fbd521412784d8510.nii.gz'), PosixPath('/content/FirstDataset/train/14e56328418c740eed3c9dacd5d1b889.nii.gz'), PosixPath('/content/FirstDataset/train/16322accc881f047f552651330251e58.nii.gz'), PosixPath('/content/FirstDataset/train/163a641965d65c42a1f67ad38d3d940b.nii.gz'), PosixPath('/content/FirstDataset/train/193c13f971d9859ed1f74db2799c3b51.nii.gz'), PosixPath('/content/FirstDataset/train/1b848abc984a32be6af0792d7293f63f.nii.gz'), PosixPath('/content/FirstDataset/train/1b966a3db4f9992e40f0800905dc9ee4.nii.gz'), PosixPath('/content/FirstDataset/train/1bd637ec336fd6bc752c5d57a6a93a80.nii.gz'), PosixPath('/content/FirstDataset/train/1ca7dda65596e2830245f8b5863aa32a.nii.gz'), PosixPath('/content/FirstDataset/train/1cdd4ddcbd83403d890b14cb499776e5.nii.gz'), PosixPath('/content/FirstDataset/train/1d6b4d841c0b9d673ac93c397385a032.nii.gz'), PosixPath('/content/FirstDataset/train/1d6d9dee686d7088cc6266eab3b3e0fd.nii.gz'), PosixPath('/content/FirstDataset/train/1deb6c80a003f1b16d2816f4c6158c62.nii.gz'), PosixPath('/content/FirstDataset/train/1e9d86cdfac8565a068016843e43ca75.nii.gz'), PosixPath('/content/FirstDataset/train/20667b7d5f8adc5ce2785e9d29d2b453.nii.gz'), PosixPath('/content/FirstDataset/train/22d543ce52640dc545d993301b1dd114.nii.gz'), PosixPath('/content/FirstDataset/train/230fc584dd1d830029c2541b92a9d706.nii.gz'), PosixPath('/content/FirstDataset/train/24331f8c41e24b158a13a5653634558f.nii.gz'), PosixPath('/content/FirstDataset/train/247f4d2981ddfb18e004fa88311b2798.nii.gz'), PosixPath('/content/FirstDataset/train/24805671584664e6c3339d8515ec0755.nii.gz'), PosixPath('/content/FirstDataset/train/25a4d9cad364b5ecdfa8cd4191955c55.nii.gz'), PosixPath('/content/FirstDataset/train/27a4be33ffa50c310c9878bbd7003895.nii.gz'), PosixPath('/content/FirstDataset/train/29f9752af4a89d20212221ba8bc6fded.nii.gz'), PosixPath('/content/FirstDataset/train/2c28b68aef975c391a96b6bc8bb1ad48.nii.gz'), PosixPath('/content/FirstDataset/train/2c46b1f3e0a39ad91ce6f8278a9bebc8.nii.gz'), PosixPath('/content/FirstDataset/train/2e95bc23d0d3d1b2fcb152b5d8e55a75.nii.gz'), PosixPath('/content/FirstDataset/train/2fa3623f2dd0b6f244844c816f012289.nii.gz'), PosixPath('/content/FirstDataset/train/2fab3b0d1eb9f16ebf7c0171b5343d25.nii.gz'), PosixPath('/content/FirstDataset/train/317915fef2c5cbc2954100c7c7432a44.nii.gz'), PosixPath('/content/FirstDataset/train/31a1d5a10bfef78b092fa157a9a57e77.nii.gz'), PosixPath('/content/FirstDataset/train/339c167abec9d9f8650ad4d4227cd569.nii.gz'), PosixPath('/content/FirstDataset/train/33cb6ae6baabe339e7e1d000cd8349af.nii.gz'), PosixPath('/content/FirstDataset/train/35a602e498a4a1a7290077a0d59785e3.nii.gz'), PosixPath('/content/FirstDataset/train/3600b0c2de04973782eee6256d453fb3.nii.gz'), PosixPath('/content/FirstDataset/train/369737269ff35db09a49a0545d1031d7.nii.gz'), PosixPath('/content/FirstDataset/train/37b59c6b064148f7106a3cbcaa61adeb.nii.gz'), PosixPath('/content/FirstDataset/train/389c6febb5679a4543a140ced9a9e723.nii.gz'), PosixPath('/content/FirstDataset/train/38d9b1568d6fcdad2fb93a029fd767e2.nii.gz'), PosixPath('/content/FirstDataset/train/3900c1dfc0a74a16f209f64000e003ac.nii.gz'), PosixPath('/content/FirstDataset/train/39a1b5e5ceffd15ce4ea7133c640cb02.nii.gz'), PosixPath('/content/FirstDataset/train/39c1908e50f20cc3b0056f37a488a50f.nii.gz'), PosixPath('/content/FirstDataset/train/39cce6388f4c181e3eae029356ce81cf.nii.gz'), PosixPath('/content/FirstDataset/train/3a14401f2de9c2eb4fe22f2228f81309.nii.gz'), PosixPath('/content/FirstDataset/train/3adbc91530f4d1d9dc046719cfea1445.nii.gz'), PosixPath('/content/FirstDataset/train/3c12ed1aae7103e0ce9e706f139e677b.nii.gz'), PosixPath('/content/FirstDataset/train/3c552087b28359431988d43ee0a5e061.nii.gz'), PosixPath('/content/FirstDataset/train/3cdcfd4cde291448c9942bb1b45fa7d7.nii.gz'), PosixPath('/content/FirstDataset/train/3ceea673d5e9be71c0baf5e12e809408.nii.gz'), PosixPath('/content/FirstDataset/train/3da414bfe6aa91a2046547c0087b0ffa.nii.gz'), PosixPath('/content/FirstDataset/train/3e4705f5e5420bfae3caaac2d1f4b2b3.nii.gz'), PosixPath('/content/FirstDataset/train/3f7b1d4641cf3fd007effa36f8c87811.nii.gz'), PosixPath('/content/FirstDataset/train/4016eed02fb502d4352fc13013cc1bbc.nii.gz'), PosixPath('/content/FirstDataset/train/408ee94e66a846bf5fd82d0fa59b5006.nii.gz'), PosixPath('/content/FirstDataset/train/436e4e65c8c5b6c29bfb1fb608f40142.nii.gz'), PosixPath('/content/FirstDataset/train/4413cec5c1990d1d851692e449e640d5.nii.gz'), PosixPath('/content/FirstDataset/train/4477e4f0690aecdc196490850a6cd365.nii.gz'), PosixPath('/content/FirstDataset/train/4502b172504adaacefa162003163388a.nii.gz'), PosixPath('/content/FirstDataset/train/4574a48cdbd803e41eaedb4ad5284083.nii.gz'), PosixPath('/content/FirstDataset/train/46b1cb48fd0adefcdf4cad3821a653ac.nii.gz'), PosixPath('/content/FirstDataset/train/46ed78b75ae3539079682d97562c7a53.nii.gz'), PosixPath('/content/FirstDataset/train/4750ba54b682be8a877af7bc147c3242.nii.gz'), PosixPath('/content/FirstDataset/train/475e37614b058943108666b8b117cc2d.nii.gz'), PosixPath('/content/FirstDataset/train/48816b122782e2a7b55a40d9ae3bf7a4.nii.gz'), PosixPath('/content/FirstDataset/train/4a0e8d6497a9bb7f2873987b2d2ac2ee.nii.gz'), PosixPath('/content/FirstDataset/train/4aadafa8126f890d9963d0c9e9a9f8f3.nii.gz'), PosixPath('/content/FirstDataset/train/4abaa67b2638e479f302cf82eaf074cb.nii.gz'), PosixPath('/content/FirstDataset/train/4ae230ea291e91c956c0e6777a69c3b2.nii.gz'), PosixPath('/content/FirstDataset/train/4b478332111404d5ee67d06cb8c01e74.nii.gz'), PosixPath('/content/FirstDataset/train/4d4c75c5e9a36c41e39490b3483ad4ec.nii.gz'), PosixPath('/content/FirstDataset/train/4ddb5f7f83a1cca31a1252d17feedbfe.nii.gz'), PosixPath('/content/FirstDataset/train/4ede7fbafcf1ce0925c0c6691080e69e.nii.gz'), PosixPath('/content/FirstDataset/train/4fa05bac7cd34856c79fa1a32347c8e3.nii.gz'), PosixPath('/content/FirstDataset/train/5063fed39a27b0644e70bd23050a18e4.nii.gz'), PosixPath('/content/FirstDataset/train/50e33dbbf1c955c80057c4584d64ff12.nii.gz'), PosixPath('/content/FirstDataset/train/5121112e67777a6ef0279a2b0d0eab0a.nii.gz'), PosixPath('/content/FirstDataset/train/51313f5d602ae98daafe708a0d5d6cbe.nii.gz'), PosixPath('/content/FirstDataset/train/51bb5f777dc2dadd309b9fbdd2edfbc1.nii.gz'), PosixPath('/content/FirstDataset/train/51c1153ed41c0437f5ff9dd1adee9080.nii.gz'), PosixPath('/content/FirstDataset/train/53b8991eefad27512c9d5def5f207859.nii.gz'), PosixPath('/content/FirstDataset/train/5620f0607730f7fd945e8276b86deade.nii.gz'), PosixPath('/content/FirstDataset/train/565b27aec019efff1d3e494a27f4ced6.nii.gz'), PosixPath('/content/FirstDataset/train/576733f032b56c10e946fce9c77b30e7.nii.gz'), PosixPath('/content/FirstDataset/train/58b85e25f66cf46d5ca46bdd861c79c9.nii.gz'), PosixPath('/content/FirstDataset/train/58efb5a391a345e41b6e78467e5c0c06.nii.gz'), PosixPath('/content/FirstDataset/train/58f4e1954e11a28da97e9aa62e5f5deb.nii.gz'), PosixPath('/content/FirstDataset/train/58ffd96b09e7337b2eedd17762778b8c.nii.gz'), PosixPath('/content/FirstDataset/train/5a8610ea7222b57c17841df8d8605a5d.nii.gz'), PosixPath('/content/FirstDataset/train/5aee24cafae090c75bdb9976864b6b4a.nii.gz'), PosixPath('/content/FirstDataset/train/5b218b1dc9e7dc7e3f5012b42779e88b.nii.gz'), PosixPath('/content/FirstDataset/train/5c49fb9a443e7b786c238427a327d5b7.nii.gz'), PosixPath('/content/FirstDataset/train/5caa3f73f8045baf49fc9ad1a91f9fbd.nii.gz'), PosixPath('/content/FirstDataset/train/5eb8a90c38b6ba6c28ed5a554ebb2221.nii.gz'), PosixPath('/content/FirstDataset/train/5ed4f7043368444551c73b75be7bdd32.nii.gz'), PosixPath('/content/FirstDataset/train/5ffb2f4e39d099fc189ff6787408c3a1.nii.gz'), PosixPath('/content/FirstDataset/train/5ffc5a2c9ce5c260a21f0914aa9d4844.nii.gz'), PosixPath('/content/FirstDataset/train/60082a68029d76d3e011f91829dae1ac.nii.gz'), PosixPath('/content/FirstDataset/train/60f24565ac5fb32bc919d21077f1b64a.nii.gz'), PosixPath('/content/FirstDataset/train/61241ae9448bf1d6a2bcb50ed250e63d.nii.gz'), PosixPath('/content/FirstDataset/train/623ed8ac245f19ae203cc229044310b1.nii.gz'), PosixPath('/content/FirstDataset/train/633fc6f4b78b0fba7f735e2dda2634fc.nii.gz'), PosixPath('/content/FirstDataset/train/6461dd16b22690f10b96e04f4f859015.nii.gz'), PosixPath('/content/FirstDataset/train/64fc34796f18199faaf9cc60998c5bbb.nii.gz'), PosixPath('/content/FirstDataset/train/688df41a73dd40e456ce384bfa1843b9.nii.gz'), PosixPath('/content/FirstDataset/train/68b91fb712cd2c2a577a39966b9938b6.nii.gz'), PosixPath('/content/FirstDataset/train/69281e30720018d197d5813274700a51.nii.gz'), PosixPath('/content/FirstDataset/train/6abdd91504e3864922908db40ad35795.nii.gz'), PosixPath('/content/FirstDataset/train/6b46cb701035d0bb03bf0a0fa090038e.nii.gz'), PosixPath('/content/FirstDataset/train/6c251e4f25b565b8658587c11f1965e0.nii.gz'), PosixPath('/content/FirstDataset/train/6c46b569f3b1adc391f17d11d216b547.nii.gz'), PosixPath('/content/FirstDataset/train/6d3e82944ef5fddaf3b9bfdcd146558b.nii.gz'), PosixPath('/content/FirstDataset/train/6e14b7ac45ed7c73437e06f0a2bb8628.nii.gz'), PosixPath('/content/FirstDataset/train/6f5175fb37e3ad1dcd767480ac4ea74a.nii.gz'), PosixPath('/content/FirstDataset/train/6f64f9b68b4dec682df15fe350b35102.nii.gz'), PosixPath('/content/FirstDataset/train/6fa86294da51db647a7f78ac8038a019.nii.gz'), PosixPath('/content/FirstDataset/train/72af9a9a9d7f55ceedda2cf20d91a294.nii.gz'), PosixPath('/content/FirstDataset/train/748e016a9433a595d7cd71f418d76b6d.nii.gz'), PosixPath('/content/FirstDataset/train/74f0e19333da03bcc2df760ddefdae01.nii.gz'), PosixPath('/content/FirstDataset/train/755be9c7e1dfc007f88ea847e9a0cf51.nii.gz'), PosixPath('/content/FirstDataset/train/768f98c704dabc5dfa0e8a9f787178dc.nii.gz'), PosixPath('/content/FirstDataset/train/76b2b5b6569fafdeb6cc443a7c69311e.nii.gz'), PosixPath('/content/FirstDataset/train/77615dc4b68661aa9f68185d846960c1.nii.gz'), PosixPath('/content/FirstDataset/train/77ff0872fc2b9740169f9de1093f1c65.nii.gz'), PosixPath('/content/FirstDataset/train/79533968f0b53a3f2e7537f17fc92519.nii.gz'), PosixPath('/content/FirstDataset/train/7994d4852c0095c2575a4a88ba7bd072.nii.gz'), PosixPath('/content/FirstDataset/train/7a20e0898482830c313de2657ada3fd8.nii.gz'), PosixPath('/content/FirstDataset/train/7a7f66d38dbe5c4e4c03ce13acbdc949.nii.gz'), PosixPath('/content/FirstDataset/train/7adf14a618903a126b1e263b44d69efb.nii.gz'), PosixPath('/content/FirstDataset/train/7c12d05b03bcbd69f88959461738f0c2.nii.gz'), PosixPath('/content/FirstDataset/train/7d7b2e55e2cc6efaadeafa4a36e77628.nii.gz'), PosixPath('/content/FirstDataset/train/7dfa3d525ea6603ae4e2dc76470de99a.nii.gz'), PosixPath('/content/FirstDataset/train/8042e0bfec57c355b8d0d016bc1db213.nii.gz'), PosixPath('/content/FirstDataset/train/83182c5425f81a4ab116d680ba4a27f9.nii.gz'), PosixPath('/content/FirstDataset/train/832be25cb8a259627f92e921a11cffe2.nii.gz'), PosixPath('/content/FirstDataset/train/86a24279c3ff2eacdc3d2c35ee3d5e60.nii.gz'), PosixPath('/content/FirstDataset/train/86c65c6de48c4428a032a24f64b43393.nii.gz'), PosixPath('/content/FirstDataset/train/86e621a906947b308ad825edbb6c6605.nii.gz'), PosixPath('/content/FirstDataset/train/873ca863e7d5b6bf9e1bdb082d53a184.nii.gz'), PosixPath('/content/FirstDataset/train/87fcfae6be7a67dffd1dcbff8180a9ee.nii.gz'), PosixPath('/content/FirstDataset/train/8a389b146940a12dbe188fe250665a7d.nii.gz'), PosixPath('/content/FirstDataset/train/8c9fe7f6db1ccc6a646dbed5292b64f4.nii.gz'), PosixPath('/content/FirstDataset/train/8cc6f19643dc15bb849f60fb26745e76.nii.gz'), PosixPath('/content/FirstDataset/train/8d18fc4de6de7f22d2fbba86bb70abec.nii.gz'), PosixPath('/content/FirstDataset/train/8d658a6cd2eb3e0423a8249ddb754a9d.nii.gz'), PosixPath('/content/FirstDataset/train/8e174ae4108e983350300b66c23c9400.nii.gz'), PosixPath('/content/FirstDataset/train/8e410fd0e738f93b522dc4c28559b0bf.nii.gz'), PosixPath('/content/FirstDataset/train/90b2177da2831a2a726c331087b24806.nii.gz'), PosixPath('/content/FirstDataset/train/914f96b7bdd547d65531841a6c2f893f.nii.gz'), PosixPath('/content/FirstDataset/train/919d31ae18d73df7f123fd9697c6c597.nii.gz'), PosixPath('/content/FirstDataset/train/91a954c383693f822338afbc82ab01cf.nii.gz'), PosixPath('/content/FirstDataset/train/91fac31aee832d06eb34764281954b3c.nii.gz'), PosixPath('/content/FirstDataset/train/9279ffc4248febd39caa81aec96127ae.nii.gz'), PosixPath('/content/FirstDataset/train/92f452ba1020d4ed51e2463b95aafca0.nii.gz'), PosixPath('/content/FirstDataset/train/92f57a31ca1d72eb4b4725f76ae70b69.nii.gz'), PosixPath('/content/FirstDataset/train/93a161dd0ab4eef03f2021b61ecbfe8c.nii.gz'), PosixPath('/content/FirstDataset/train/95188131b9f39e1a83f9e17c134ee440.nii.gz'), PosixPath('/content/FirstDataset/train/95c70ae79f166bbcfb3d5e436b02ca90.nii.gz'), PosixPath('/content/FirstDataset/train/96bc655a1cae4f2e482f0fe8e538bdb8.nii.gz'), PosixPath('/content/FirstDataset/train/976e47d395894e0dcc56694083ed13aa.nii.gz'), PosixPath('/content/FirstDataset/train/977cfe9bdcc649bfd2e75e0a8194f057.nii.gz'), PosixPath('/content/FirstDataset/train/97997cb00a71ec010c553063616c17e9.nii.gz'), PosixPath('/content/FirstDataset/train/984fd65e754d18a501918652b8f93bf9.nii.gz'), PosixPath('/content/FirstDataset/train/98ef65090afe5ca57df160dad8b1c6bb.nii.gz'), PosixPath('/content/FirstDataset/train/992decae68838ce3f88b782c115bfac7.nii.gz'), PosixPath('/content/FirstDataset/train/99b2c32c2be258884475e30b5d116caa.nii.gz'), PosixPath('/content/FirstDataset/train/9a347d41025b4c8e60e1ab3c77e809de.nii.gz'), PosixPath('/content/FirstDataset/train/9a996042b63b0d2a2514cb70f465284d.nii.gz'), PosixPath('/content/FirstDataset/train/9af5021435c68e7aae86f678c9e6539c.nii.gz'), PosixPath('/content/FirstDataset/train/9cdc3a57413f33e4635c2c576c01a172.nii.gz'), PosixPath('/content/FirstDataset/train/9e6abc913cf682dd895fb1546075d585.nii.gz'), PosixPath('/content/FirstDataset/train/9fcd0dc0a5c0fec8406692f6157d7411.nii.gz'), PosixPath('/content/FirstDataset/train/a00ab95d79e2b9e16a5681e7943bd745.nii.gz'), PosixPath('/content/FirstDataset/train/a1bbd1250b350ce51133430867006ebd.nii.gz'), PosixPath('/content/FirstDataset/train/a1ef050c5206ce323aaedb57a9b69305.nii.gz'), PosixPath('/content/FirstDataset/train/a4668fc3679a7c87ad5b4ec5a8f0f959.nii.gz'), PosixPath('/content/FirstDataset/train/aa3eab8fa2c04cac7823919753b62f66.nii.gz'), PosixPath('/content/FirstDataset/train/ab369ac55a48b689153d3ba522409830.nii.gz'), PosixPath('/content/FirstDataset/train/ac24cb5775bef1a1a56814f6db6928d4.nii.gz'), PosixPath('/content/FirstDataset/train/ac9bd32d1a6508116060143f9f8bf14c.nii.gz'), PosixPath('/content/FirstDataset/train/ad512ea4ba7998880954b4f75d3c6838.nii.gz'), PosixPath('/content/FirstDataset/train/ad9dbd2a0719b6c89332fa13dae33c50.nii.gz'), PosixPath('/content/FirstDataset/train/ae9ac1ba9049e8988834022ce42b7bb9.nii.gz'), PosixPath('/content/FirstDataset/train/b13151e196a0c8e89f5c7e3e30c2200f.nii.gz'), PosixPath('/content/FirstDataset/train/b2810391eab3c44ca6980c0c57e7a5af.nii.gz'), PosixPath('/content/FirstDataset/train/b3910c0237028f91f70bf2a1c71949be.nii.gz'), PosixPath('/content/FirstDataset/train/b3fb10655decdd2a93bc0bed99d0137e.nii.gz'), PosixPath('/content/FirstDataset/train/b404fd6eed21b2d13282e9ec238a1afb.nii.gz'), PosixPath('/content/FirstDataset/train/b43c15aacf47859279260cdd3e529782.nii.gz'), PosixPath('/content/FirstDataset/train/b59effd5bb2c7958f6d7e9ab207cfe91.nii.gz'), PosixPath('/content/FirstDataset/train/b5f3f3efa4d1b81f70e5a7b1c807b986.nii.gz'), PosixPath('/content/FirstDataset/train/b651fc3aafaf79268a47179a0bdfb596.nii.gz'), PosixPath('/content/FirstDataset/train/b666a963805cb535a16312b81a369250.nii.gz'), PosixPath('/content/FirstDataset/train/b68bc91bc100d28554c9649fc857c248.nii.gz'), PosixPath('/content/FirstDataset/train/b6f5c586d6381579635b2f6d7d87a3f8.nii.gz'), PosixPath('/content/FirstDataset/train/b70696ad0a9158805479026052367ffc.nii.gz'), PosixPath('/content/FirstDataset/train/b733c96ae9806d2242522a805042c461.nii.gz'), PosixPath('/content/FirstDataset/train/b76e06ed30fcb27a2f39d61f5f12b713.nii.gz'), PosixPath('/content/FirstDataset/train/b842c90ff5bd37be57e492c9395b51b0.nii.gz'), PosixPath('/content/FirstDataset/train/b88620463e0d75b4613b87f046b62a73.nii.gz'), PosixPath('/content/FirstDataset/train/b9bb79675d87cb1dc88928687f569dab.nii.gz'), PosixPath('/content/FirstDataset/train/ba49199eed46b6daf8d933170624e02d.nii.gz'), PosixPath('/content/FirstDataset/train/bb9f4f79ea935f0f2fe052845fb18916.nii.gz'), PosixPath('/content/FirstDataset/train/bbd77c697f010fc06e094317a915ca93.nii.gz'), PosixPath('/content/FirstDataset/train/c21ae99f6b8260f1a520a3cc7ab469a2.nii.gz'), PosixPath('/content/FirstDataset/train/c4efcd7c3d26f2cc802ff4e323717182.nii.gz'), PosixPath('/content/FirstDataset/train/c57cb6eb70fe279064ca3b51c3551a4e.nii.gz'), PosixPath('/content/FirstDataset/train/c844248bbe6195964fed9608d0bca756.nii.gz'), PosixPath('/content/FirstDataset/train/c972979d432532e1f3f01e4f7decc1c2.nii.gz'), PosixPath('/content/FirstDataset/train/ca187bff525d7dec725f61d48b3197d2.nii.gz'), PosixPath('/content/FirstDataset/train/cba0de8d5a8dd1271c50f593e32596c8.nii.gz'), PosixPath('/content/FirstDataset/train/cbab2172468035987821c11d29290633.nii.gz'), PosixPath('/content/FirstDataset/train/ccd2022bb43115bdb0518c9f26c831e9.nii.gz'), PosixPath('/content/FirstDataset/train/ccf75b11b57ab70f280da53252ff228a.nii.gz'), PosixPath('/content/FirstDataset/train/cd4167e2a501785e47b611f2821c310f.nii.gz'), PosixPath('/content/FirstDataset/train/cd45d12102e1b3a3b098ef4fc0f7ba05.nii.gz'), PosixPath('/content/FirstDataset/train/cd877a3d2941cdd10b1e9e8034afdff9.nii.gz'), PosixPath('/content/FirstDataset/train/ce43d5f1707475e85f864ffafeb16d12.nii.gz'), PosixPath('/content/FirstDataset/train/ce8f62de14ef4409259ac5f6d0ce853b.nii.gz'), PosixPath('/content/FirstDataset/train/ce921428838f6933d693415dbab8e55e.nii.gz'), PosixPath('/content/FirstDataset/train/cec3c15499daf4f7dd7462111397355e.nii.gz'), PosixPath('/content/FirstDataset/train/cffb3c1f11d75b137491d20bcb918025.nii.gz'), PosixPath('/content/FirstDataset/train/d0676ca8504e971220344bd7e94149f8.nii.gz'), PosixPath('/content/FirstDataset/train/d0ebfa402db0c523bd051c5ec53ddaf9.nii.gz'), PosixPath('/content/FirstDataset/train/d1462b885b43a576baa0fcef700d03b3.nii.gz'), PosixPath('/content/FirstDataset/train/d48f1beaa21ffba24931f9b7fe5ffde0.nii.gz'), PosixPath('/content/FirstDataset/train/d5a5df4143f5750b07556b5d494d6f4d.nii.gz'), PosixPath('/content/FirstDataset/train/d5f2869ed9fb89a98557dab65a51d898.nii.gz'), PosixPath('/content/FirstDataset/train/d68edaf87a43d0531d527f7f8dfc11fb.nii.gz'), PosixPath('/content/FirstDataset/train/d796e05f84bd2ec20b5f43d4277f47f8.nii.gz'), PosixPath('/content/FirstDataset/train/d7ed74133749884f745c527baabcaeff.nii.gz'), PosixPath('/content/FirstDataset/train/d8b2e9621869d2a4fe010f9b420cb337.nii.gz'), PosixPath('/content/FirstDataset/train/da4d02654aaf425dd506f5ae3065034a.nii.gz'), PosixPath('/content/FirstDataset/train/dacc79e83e7d584190ad7604a680ad2f.nii.gz'), PosixPath('/content/FirstDataset/train/dafd1cbae4b4e6d69b370aa262e52d2b.nii.gz'), PosixPath('/content/FirstDataset/train/dce4ae3f8ecbb8ca9e37f2d3ec823851.nii.gz'), PosixPath('/content/FirstDataset/train/ddb411f805c8467bafe23a1b3b8c8d2d.nii.gz'), PosixPath('/content/FirstDataset/train/decfc1342a45e9e4a474f4c0bc456273.nii.gz'), PosixPath('/content/FirstDataset/train/df92f4e6059342f3323274a250209e90.nii.gz'), PosixPath('/content/FirstDataset/train/dfd38769c966b7556de896154c0e065d.nii.gz'), PosixPath('/content/FirstDataset/train/e1974dc1b6679e5554b2dc42edda265b.nii.gz'), PosixPath('/content/FirstDataset/train/e2ce5b719c88ac6656aff908870c204b.nii.gz'), PosixPath('/content/FirstDataset/train/e3cbe998e2d0b49376f1fc1fbc850829.nii.gz'), PosixPath('/content/FirstDataset/train/e4e9650ecb68db7f61152bce3bf867d5.nii.gz'), PosixPath('/content/FirstDataset/train/e506c7774f64b8d10ac01e498c28a1b7.nii.gz'), PosixPath('/content/FirstDataset/train/e548487f1e639a320c32928f3e32b90e.nii.gz'), PosixPath('/content/FirstDataset/train/e57db4f1a53abd766c97d8e43a842897.nii.gz'), PosixPath('/content/FirstDataset/train/e66ce7e96b277d7d1b8835e5d2c94cd6.nii.gz'), PosixPath('/content/FirstDataset/train/e897087b0efd8d0cffcdbc1c56d47fc8.nii.gz'), PosixPath('/content/FirstDataset/train/e915a3dff4198ad13fe584d517dd76cb.nii.gz'), PosixPath('/content/FirstDataset/train/e91727f54f5c195e41767dcc8035cdf8.nii.gz'), PosixPath('/content/FirstDataset/train/e96195fe149896df48b784f3d3b93d4c.nii.gz'), PosixPath('/content/FirstDataset/train/ea5ec0092dc0b60e4289995d36aab4ef.nii.gz'), PosixPath('/content/FirstDataset/train/eb0492ee36ac7ece4d9aff7a3aa5e253.nii.gz'), PosixPath('/content/FirstDataset/train/eb0d8cae63a8d66d400142bb3cb72dd0.nii.gz'), PosixPath('/content/FirstDataset/train/eb2ebca2c6a7dd87de9e1d3b783d226b.nii.gz'), PosixPath('/content/FirstDataset/train/ee1d2e5f3a6e9bf0dbbf6819217eb920.nii.gz'), PosixPath('/content/FirstDataset/train/ef6519cc2a0703ed78f3d38ae832d8da.nii.gz'), PosixPath('/content/FirstDataset/train/f04ed51fee638fddcdd56fb7c5e373b9.nii.gz'), PosixPath('/content/FirstDataset/train/f1e5b1375baa55b625ec8ae3d29088f3.nii.gz'), PosixPath('/content/FirstDataset/train/f204c71ef3a2203d018fc4efe29eed45.nii.gz'), PosixPath('/content/FirstDataset/train/f2480c597c39845b9ba4d1d0714c3940.nii.gz'), PosixPath('/content/FirstDataset/train/f59e44b743d941e8c6a4257efa92f7d4.nii.gz'), PosixPath('/content/FirstDataset/train/f7423e8a2c40ac5093aa207bc180ca48.nii.gz'), PosixPath('/content/FirstDataset/train/f748a493bd58831fcb2976572bfc4335.nii.gz'), PosixPath('/content/FirstDataset/train/f77b934a9ad45529b213993a0c96f521.nii.gz'), PosixPath('/content/FirstDataset/train/f8bff349c7db6300c31c0d32bcc499fc.nii.gz'), PosixPath('/content/FirstDataset/train/fa0fb1f99c8132323440bb2a5b4a9f36.nii.gz'), PosixPath('/content/FirstDataset/train/fa24f2cec205b4162d27150096ad52e7.nii.gz'), PosixPath('/content/FirstDataset/train/facc52e047affeb776b57884c8cef041.nii.gz'), PosixPath('/content/FirstDataset/train/fb827ee20813fbf7927082bbbf4f4fdf.nii.gz'), PosixPath('/content/FirstDataset/train/fbbaba5473e1133d8d0bfc48d3fff20c.nii.gz'), PosixPath('/content/FirstDataset/train/fcd7ef3c8ee90908fe01854bfc5ea1e5.nii.gz'), PosixPath('/content/FirstDataset/train/fd90fbcf1edcdd8f5f24751db05f3c45.nii.gz'), PosixPath('/content/FirstDataset/train/fda95182a5e1a9f3165401fa90af43e5.nii.gz'), PosixPath('/content/FirstDataset/train/ff201212b8c2d041da9213e99ffb89f0.nii.gz')]\n",
            "287 [PosixPath('/content/FirstDataset/train/011e40c2b1d3c9bb53bd9e5a7efd04ba_mask.nii.gz'), PosixPath('/content/FirstDataset/train/0187e4cb2fb4971848c8981e9ece0849_mask.nii.gz'), PosixPath('/content/FirstDataset/train/022161680299e1f3bea7169947dc45b6_mask.nii.gz'), PosixPath('/content/FirstDataset/train/02862555e24fd75a84a3259e4210e73b_mask.nii.gz'), PosixPath('/content/FirstDataset/train/04e0e6ed0432fd737fd3f29fe551b77c_mask.nii.gz'), PosixPath('/content/FirstDataset/train/05b438c4933b77168c529ea19486a1c9_mask.nii.gz'), PosixPath('/content/FirstDataset/train/06503d8025b2830c50599cfcc0febd39_mask.nii.gz'), PosixPath('/content/FirstDataset/train/0a2de3cae8ca66ea62b7e2dae3bdffca_mask.nii.gz'), PosixPath('/content/FirstDataset/train/0b3ea09bb26b17af2b596e96875d2ca2_mask.nii.gz'), PosixPath('/content/FirstDataset/train/0c7dc995949da4278941d36c048ff2c9_mask.nii.gz'), PosixPath('/content/FirstDataset/train/0efee62646deb97c8c7cfa0f457fa4dc_mask.nii.gz'), PosixPath('/content/FirstDataset/train/105625ce5c645192e3c3ca78b7b32edb_mask.nii.gz'), PosixPath('/content/FirstDataset/train/117ced821b54b4a72be4c0ef73dabec0_mask.nii.gz'), PosixPath('/content/FirstDataset/train/13978bc02f30e15fbd521412784d8510_mask.nii.gz'), PosixPath('/content/FirstDataset/train/14e56328418c740eed3c9dacd5d1b889_mask.nii.gz'), PosixPath('/content/FirstDataset/train/16322accc881f047f552651330251e58_mask.nii.gz'), PosixPath('/content/FirstDataset/train/163a641965d65c42a1f67ad38d3d940b_mask.nii.gz'), PosixPath('/content/FirstDataset/train/193c13f971d9859ed1f74db2799c3b51_mask.nii.gz'), PosixPath('/content/FirstDataset/train/1b848abc984a32be6af0792d7293f63f_mask.nii.gz'), PosixPath('/content/FirstDataset/train/1b966a3db4f9992e40f0800905dc9ee4_mask.nii.gz'), PosixPath('/content/FirstDataset/train/1bd637ec336fd6bc752c5d57a6a93a80_mask.nii.gz'), PosixPath('/content/FirstDataset/train/1ca7dda65596e2830245f8b5863aa32a_mask.nii.gz'), PosixPath('/content/FirstDataset/train/1cdd4ddcbd83403d890b14cb499776e5_mask.nii.gz'), PosixPath('/content/FirstDataset/train/1d6b4d841c0b9d673ac93c397385a032_mask.nii.gz'), PosixPath('/content/FirstDataset/train/1d6d9dee686d7088cc6266eab3b3e0fd_mask.nii.gz'), PosixPath('/content/FirstDataset/train/1deb6c80a003f1b16d2816f4c6158c62_mask.nii.gz'), PosixPath('/content/FirstDataset/train/1e9d86cdfac8565a068016843e43ca75_mask.nii.gz'), PosixPath('/content/FirstDataset/train/20667b7d5f8adc5ce2785e9d29d2b453_mask.nii.gz'), PosixPath('/content/FirstDataset/train/22d543ce52640dc545d993301b1dd114_mask.nii.gz'), PosixPath('/content/FirstDataset/train/230fc584dd1d830029c2541b92a9d706_mask.nii.gz'), PosixPath('/content/FirstDataset/train/24331f8c41e24b158a13a5653634558f_mask.nii.gz'), PosixPath('/content/FirstDataset/train/247f4d2981ddfb18e004fa88311b2798_mask.nii.gz'), PosixPath('/content/FirstDataset/train/24805671584664e6c3339d8515ec0755_mask.nii.gz'), PosixPath('/content/FirstDataset/train/25a4d9cad364b5ecdfa8cd4191955c55_mask.nii.gz'), PosixPath('/content/FirstDataset/train/27a4be33ffa50c310c9878bbd7003895_mask.nii.gz'), PosixPath('/content/FirstDataset/train/29f9752af4a89d20212221ba8bc6fded_mask.nii.gz'), PosixPath('/content/FirstDataset/train/2c28b68aef975c391a96b6bc8bb1ad48_mask.nii.gz'), PosixPath('/content/FirstDataset/train/2c46b1f3e0a39ad91ce6f8278a9bebc8_mask.nii.gz'), PosixPath('/content/FirstDataset/train/2e95bc23d0d3d1b2fcb152b5d8e55a75_mask.nii.gz'), PosixPath('/content/FirstDataset/train/2fa3623f2dd0b6f244844c816f012289_mask.nii.gz'), PosixPath('/content/FirstDataset/train/2fab3b0d1eb9f16ebf7c0171b5343d25_mask.nii.gz'), PosixPath('/content/FirstDataset/train/317915fef2c5cbc2954100c7c7432a44_mask.nii.gz'), PosixPath('/content/FirstDataset/train/31a1d5a10bfef78b092fa157a9a57e77_mask.nii.gz'), PosixPath('/content/FirstDataset/train/339c167abec9d9f8650ad4d4227cd569_mask.nii.gz'), PosixPath('/content/FirstDataset/train/33cb6ae6baabe339e7e1d000cd8349af_mask.nii.gz'), PosixPath('/content/FirstDataset/train/35a602e498a4a1a7290077a0d59785e3_mask.nii.gz'), PosixPath('/content/FirstDataset/train/3600b0c2de04973782eee6256d453fb3_mask.nii.gz'), PosixPath('/content/FirstDataset/train/369737269ff35db09a49a0545d1031d7_mask.nii.gz'), PosixPath('/content/FirstDataset/train/37b59c6b064148f7106a3cbcaa61adeb_mask.nii.gz'), PosixPath('/content/FirstDataset/train/389c6febb5679a4543a140ced9a9e723_mask.nii.gz'), PosixPath('/content/FirstDataset/train/38d9b1568d6fcdad2fb93a029fd767e2_mask.nii.gz'), PosixPath('/content/FirstDataset/train/3900c1dfc0a74a16f209f64000e003ac_mask.nii.gz'), PosixPath('/content/FirstDataset/train/39a1b5e5ceffd15ce4ea7133c640cb02_mask.nii.gz'), PosixPath('/content/FirstDataset/train/39c1908e50f20cc3b0056f37a488a50f_mask.nii.gz'), PosixPath('/content/FirstDataset/train/39cce6388f4c181e3eae029356ce81cf_mask.nii.gz'), PosixPath('/content/FirstDataset/train/3a14401f2de9c2eb4fe22f2228f81309_mask.nii.gz'), PosixPath('/content/FirstDataset/train/3adbc91530f4d1d9dc046719cfea1445_mask.nii.gz'), PosixPath('/content/FirstDataset/train/3c12ed1aae7103e0ce9e706f139e677b_mask.nii.gz'), PosixPath('/content/FirstDataset/train/3c552087b28359431988d43ee0a5e061_mask.nii.gz'), PosixPath('/content/FirstDataset/train/3cdcfd4cde291448c9942bb1b45fa7d7_mask.nii.gz'), PosixPath('/content/FirstDataset/train/3ceea673d5e9be71c0baf5e12e809408_mask.nii.gz'), PosixPath('/content/FirstDataset/train/3da414bfe6aa91a2046547c0087b0ffa_mask.nii.gz'), PosixPath('/content/FirstDataset/train/3e4705f5e5420bfae3caaac2d1f4b2b3_mask.nii.gz'), PosixPath('/content/FirstDataset/train/3f7b1d4641cf3fd007effa36f8c87811_mask.nii.gz'), PosixPath('/content/FirstDataset/train/4016eed02fb502d4352fc13013cc1bbc_mask.nii.gz'), PosixPath('/content/FirstDataset/train/408ee94e66a846bf5fd82d0fa59b5006_mask.nii.gz'), PosixPath('/content/FirstDataset/train/436e4e65c8c5b6c29bfb1fb608f40142_mask.nii.gz'), PosixPath('/content/FirstDataset/train/4413cec5c1990d1d851692e449e640d5_mask.nii.gz'), PosixPath('/content/FirstDataset/train/4477e4f0690aecdc196490850a6cd365_mask.nii.gz'), PosixPath('/content/FirstDataset/train/4502b172504adaacefa162003163388a_mask.nii.gz'), PosixPath('/content/FirstDataset/train/4574a48cdbd803e41eaedb4ad5284083_mask.nii.gz'), PosixPath('/content/FirstDataset/train/46b1cb48fd0adefcdf4cad3821a653ac_mask.nii.gz'), PosixPath('/content/FirstDataset/train/46ed78b75ae3539079682d97562c7a53_mask.nii.gz'), PosixPath('/content/FirstDataset/train/4750ba54b682be8a877af7bc147c3242_mask.nii.gz'), PosixPath('/content/FirstDataset/train/475e37614b058943108666b8b117cc2d_mask.nii.gz'), PosixPath('/content/FirstDataset/train/48816b122782e2a7b55a40d9ae3bf7a4_mask.nii.gz'), PosixPath('/content/FirstDataset/train/4a0e8d6497a9bb7f2873987b2d2ac2ee_mask.nii.gz'), PosixPath('/content/FirstDataset/train/4aadafa8126f890d9963d0c9e9a9f8f3_mask.nii.gz'), PosixPath('/content/FirstDataset/train/4abaa67b2638e479f302cf82eaf074cb_mask.nii.gz'), PosixPath('/content/FirstDataset/train/4ae230ea291e91c956c0e6777a69c3b2_mask.nii.gz'), PosixPath('/content/FirstDataset/train/4b478332111404d5ee67d06cb8c01e74_mask.nii.gz'), PosixPath('/content/FirstDataset/train/4d4c75c5e9a36c41e39490b3483ad4ec_mask.nii.gz'), PosixPath('/content/FirstDataset/train/4ddb5f7f83a1cca31a1252d17feedbfe_mask.nii.gz'), PosixPath('/content/FirstDataset/train/4ede7fbafcf1ce0925c0c6691080e69e_mask.nii.gz'), PosixPath('/content/FirstDataset/train/4fa05bac7cd34856c79fa1a32347c8e3_mask.nii.gz'), PosixPath('/content/FirstDataset/train/5063fed39a27b0644e70bd23050a18e4_mask.nii.gz'), PosixPath('/content/FirstDataset/train/50e33dbbf1c955c80057c4584d64ff12_mask.nii.gz'), PosixPath('/content/FirstDataset/train/5121112e67777a6ef0279a2b0d0eab0a_mask.nii.gz'), PosixPath('/content/FirstDataset/train/51313f5d602ae98daafe708a0d5d6cbe_mask.nii.gz'), PosixPath('/content/FirstDataset/train/51bb5f777dc2dadd309b9fbdd2edfbc1_mask.nii.gz'), PosixPath('/content/FirstDataset/train/51c1153ed41c0437f5ff9dd1adee9080_mask.nii.gz'), PosixPath('/content/FirstDataset/train/53b8991eefad27512c9d5def5f207859_mask.nii.gz'), PosixPath('/content/FirstDataset/train/5620f0607730f7fd945e8276b86deade_mask.nii.gz'), PosixPath('/content/FirstDataset/train/565b27aec019efff1d3e494a27f4ced6_mask.nii.gz'), PosixPath('/content/FirstDataset/train/576733f032b56c10e946fce9c77b30e7_mask.nii.gz'), PosixPath('/content/FirstDataset/train/58b85e25f66cf46d5ca46bdd861c79c9_mask.nii.gz'), PosixPath('/content/FirstDataset/train/58efb5a391a345e41b6e78467e5c0c06_mask.nii.gz'), PosixPath('/content/FirstDataset/train/58f4e1954e11a28da97e9aa62e5f5deb_mask.nii.gz'), PosixPath('/content/FirstDataset/train/58ffd96b09e7337b2eedd17762778b8c_mask.nii.gz'), PosixPath('/content/FirstDataset/train/5a8610ea7222b57c17841df8d8605a5d_mask.nii.gz'), PosixPath('/content/FirstDataset/train/5aee24cafae090c75bdb9976864b6b4a_mask.nii.gz'), PosixPath('/content/FirstDataset/train/5b218b1dc9e7dc7e3f5012b42779e88b_mask.nii.gz'), PosixPath('/content/FirstDataset/train/5c49fb9a443e7b786c238427a327d5b7_mask.nii.gz'), PosixPath('/content/FirstDataset/train/5caa3f73f8045baf49fc9ad1a91f9fbd_mask.nii.gz'), PosixPath('/content/FirstDataset/train/5eb8a90c38b6ba6c28ed5a554ebb2221_mask.nii.gz'), PosixPath('/content/FirstDataset/train/5ed4f7043368444551c73b75be7bdd32_mask.nii.gz'), PosixPath('/content/FirstDataset/train/5ffb2f4e39d099fc189ff6787408c3a1_mask.nii.gz'), PosixPath('/content/FirstDataset/train/5ffc5a2c9ce5c260a21f0914aa9d4844_mask.nii.gz'), PosixPath('/content/FirstDataset/train/60082a68029d76d3e011f91829dae1ac_mask.nii.gz'), PosixPath('/content/FirstDataset/train/60f24565ac5fb32bc919d21077f1b64a_mask.nii.gz'), PosixPath('/content/FirstDataset/train/61241ae9448bf1d6a2bcb50ed250e63d_mask.nii.gz'), PosixPath('/content/FirstDataset/train/623ed8ac245f19ae203cc229044310b1_mask.nii.gz'), PosixPath('/content/FirstDataset/train/633fc6f4b78b0fba7f735e2dda2634fc_mask.nii.gz'), PosixPath('/content/FirstDataset/train/6461dd16b22690f10b96e04f4f859015_mask.nii.gz'), PosixPath('/content/FirstDataset/train/64fc34796f18199faaf9cc60998c5bbb_mask.nii.gz'), PosixPath('/content/FirstDataset/train/688df41a73dd40e456ce384bfa1843b9_mask.nii.gz'), PosixPath('/content/FirstDataset/train/68b91fb712cd2c2a577a39966b9938b6_mask.nii.gz'), PosixPath('/content/FirstDataset/train/69281e30720018d197d5813274700a51_mask.nii.gz'), PosixPath('/content/FirstDataset/train/6abdd91504e3864922908db40ad35795_mask.nii.gz'), PosixPath('/content/FirstDataset/train/6b46cb701035d0bb03bf0a0fa090038e_mask.nii.gz'), PosixPath('/content/FirstDataset/train/6c251e4f25b565b8658587c11f1965e0_mask.nii.gz'), PosixPath('/content/FirstDataset/train/6c46b569f3b1adc391f17d11d216b547_mask.nii.gz'), PosixPath('/content/FirstDataset/train/6d3e82944ef5fddaf3b9bfdcd146558b_mask.nii.gz'), PosixPath('/content/FirstDataset/train/6e14b7ac45ed7c73437e06f0a2bb8628_mask.nii.gz'), PosixPath('/content/FirstDataset/train/6f5175fb37e3ad1dcd767480ac4ea74a_mask.nii.gz'), PosixPath('/content/FirstDataset/train/6f64f9b68b4dec682df15fe350b35102_mask.nii.gz'), PosixPath('/content/FirstDataset/train/6fa86294da51db647a7f78ac8038a019_mask.nii.gz'), PosixPath('/content/FirstDataset/train/72af9a9a9d7f55ceedda2cf20d91a294_mask.nii.gz'), PosixPath('/content/FirstDataset/train/748e016a9433a595d7cd71f418d76b6d_mask.nii.gz'), PosixPath('/content/FirstDataset/train/74f0e19333da03bcc2df760ddefdae01_mask.nii.gz'), PosixPath('/content/FirstDataset/train/755be9c7e1dfc007f88ea847e9a0cf51_mask.nii.gz'), PosixPath('/content/FirstDataset/train/768f98c704dabc5dfa0e8a9f787178dc_mask.nii.gz'), PosixPath('/content/FirstDataset/train/76b2b5b6569fafdeb6cc443a7c69311e_mask.nii.gz'), PosixPath('/content/FirstDataset/train/77615dc4b68661aa9f68185d846960c1_mask.nii.gz'), PosixPath('/content/FirstDataset/train/77ff0872fc2b9740169f9de1093f1c65_mask.nii.gz'), PosixPath('/content/FirstDataset/train/79533968f0b53a3f2e7537f17fc92519_mask.nii.gz'), PosixPath('/content/FirstDataset/train/7994d4852c0095c2575a4a88ba7bd072_mask.nii.gz'), PosixPath('/content/FirstDataset/train/7a20e0898482830c313de2657ada3fd8_mask.nii.gz'), PosixPath('/content/FirstDataset/train/7a7f66d38dbe5c4e4c03ce13acbdc949_mask.nii.gz'), PosixPath('/content/FirstDataset/train/7adf14a618903a126b1e263b44d69efb_mask.nii.gz'), PosixPath('/content/FirstDataset/train/7c12d05b03bcbd69f88959461738f0c2_mask.nii.gz'), PosixPath('/content/FirstDataset/train/7d7b2e55e2cc6efaadeafa4a36e77628_mask.nii.gz'), PosixPath('/content/FirstDataset/train/7dfa3d525ea6603ae4e2dc76470de99a_mask.nii.gz'), PosixPath('/content/FirstDataset/train/8042e0bfec57c355b8d0d016bc1db213_mask.nii.gz'), PosixPath('/content/FirstDataset/train/83182c5425f81a4ab116d680ba4a27f9_mask.nii.gz'), PosixPath('/content/FirstDataset/train/832be25cb8a259627f92e921a11cffe2_mask.nii.gz'), PosixPath('/content/FirstDataset/train/86a24279c3ff2eacdc3d2c35ee3d5e60_mask.nii.gz'), PosixPath('/content/FirstDataset/train/86c65c6de48c4428a032a24f64b43393_mask.nii.gz'), PosixPath('/content/FirstDataset/train/86e621a906947b308ad825edbb6c6605_mask.nii.gz'), PosixPath('/content/FirstDataset/train/873ca863e7d5b6bf9e1bdb082d53a184_mask.nii.gz'), PosixPath('/content/FirstDataset/train/87fcfae6be7a67dffd1dcbff8180a9ee_mask.nii.gz'), PosixPath('/content/FirstDataset/train/8a389b146940a12dbe188fe250665a7d_mask.nii.gz'), PosixPath('/content/FirstDataset/train/8c9fe7f6db1ccc6a646dbed5292b64f4_mask.nii.gz'), PosixPath('/content/FirstDataset/train/8cc6f19643dc15bb849f60fb26745e76_mask.nii.gz'), PosixPath('/content/FirstDataset/train/8d18fc4de6de7f22d2fbba86bb70abec_mask.nii.gz'), PosixPath('/content/FirstDataset/train/8d658a6cd2eb3e0423a8249ddb754a9d_mask.nii.gz'), PosixPath('/content/FirstDataset/train/8e174ae4108e983350300b66c23c9400_mask.nii.gz'), PosixPath('/content/FirstDataset/train/8e410fd0e738f93b522dc4c28559b0bf_mask.nii.gz'), PosixPath('/content/FirstDataset/train/90b2177da2831a2a726c331087b24806_mask.nii.gz'), PosixPath('/content/FirstDataset/train/914f96b7bdd547d65531841a6c2f893f_mask.nii.gz'), PosixPath('/content/FirstDataset/train/919d31ae18d73df7f123fd9697c6c597_mask.nii.gz'), PosixPath('/content/FirstDataset/train/91a954c383693f822338afbc82ab01cf_mask.nii.gz'), PosixPath('/content/FirstDataset/train/91fac31aee832d06eb34764281954b3c_mask.nii.gz'), PosixPath('/content/FirstDataset/train/9279ffc4248febd39caa81aec96127ae_mask.nii.gz'), PosixPath('/content/FirstDataset/train/92f452ba1020d4ed51e2463b95aafca0_mask.nii.gz'), PosixPath('/content/FirstDataset/train/92f57a31ca1d72eb4b4725f76ae70b69_mask.nii.gz'), PosixPath('/content/FirstDataset/train/93a161dd0ab4eef03f2021b61ecbfe8c_mask.nii.gz'), PosixPath('/content/FirstDataset/train/95188131b9f39e1a83f9e17c134ee440_mask.nii.gz'), PosixPath('/content/FirstDataset/train/95c70ae79f166bbcfb3d5e436b02ca90_mask.nii.gz'), PosixPath('/content/FirstDataset/train/96bc655a1cae4f2e482f0fe8e538bdb8_mask.nii.gz'), PosixPath('/content/FirstDataset/train/976e47d395894e0dcc56694083ed13aa_mask.nii.gz'), PosixPath('/content/FirstDataset/train/977cfe9bdcc649bfd2e75e0a8194f057_mask.nii.gz'), PosixPath('/content/FirstDataset/train/97997cb00a71ec010c553063616c17e9_mask.nii.gz'), PosixPath('/content/FirstDataset/train/984fd65e754d18a501918652b8f93bf9_mask.nii.gz'), PosixPath('/content/FirstDataset/train/98ef65090afe5ca57df160dad8b1c6bb_mask.nii.gz'), PosixPath('/content/FirstDataset/train/992decae68838ce3f88b782c115bfac7_mask.nii.gz'), PosixPath('/content/FirstDataset/train/99b2c32c2be258884475e30b5d116caa_mask.nii.gz'), PosixPath('/content/FirstDataset/train/9a347d41025b4c8e60e1ab3c77e809de_mask.nii.gz'), PosixPath('/content/FirstDataset/train/9a996042b63b0d2a2514cb70f465284d_mask.nii.gz'), PosixPath('/content/FirstDataset/train/9af5021435c68e7aae86f678c9e6539c_mask.nii.gz'), PosixPath('/content/FirstDataset/train/9cdc3a57413f33e4635c2c576c01a172_mask.nii.gz'), PosixPath('/content/FirstDataset/train/9e6abc913cf682dd895fb1546075d585_mask.nii.gz'), PosixPath('/content/FirstDataset/train/9fcd0dc0a5c0fec8406692f6157d7411_mask.nii.gz'), PosixPath('/content/FirstDataset/train/a00ab95d79e2b9e16a5681e7943bd745_mask.nii.gz'), PosixPath('/content/FirstDataset/train/a1bbd1250b350ce51133430867006ebd_mask.nii.gz'), PosixPath('/content/FirstDataset/train/a1ef050c5206ce323aaedb57a9b69305_mask.nii.gz'), PosixPath('/content/FirstDataset/train/a4668fc3679a7c87ad5b4ec5a8f0f959_mask.nii.gz'), PosixPath('/content/FirstDataset/train/aa3eab8fa2c04cac7823919753b62f66_mask.nii.gz'), PosixPath('/content/FirstDataset/train/ab369ac55a48b689153d3ba522409830_mask.nii.gz'), PosixPath('/content/FirstDataset/train/ac24cb5775bef1a1a56814f6db6928d4_mask.nii.gz'), PosixPath('/content/FirstDataset/train/ac9bd32d1a6508116060143f9f8bf14c_mask.nii.gz'), PosixPath('/content/FirstDataset/train/ad512ea4ba7998880954b4f75d3c6838_mask.nii.gz'), PosixPath('/content/FirstDataset/train/ad9dbd2a0719b6c89332fa13dae33c50_mask.nii.gz'), PosixPath('/content/FirstDataset/train/ae9ac1ba9049e8988834022ce42b7bb9_mask.nii.gz'), PosixPath('/content/FirstDataset/train/b13151e196a0c8e89f5c7e3e30c2200f_mask.nii.gz'), PosixPath('/content/FirstDataset/train/b2810391eab3c44ca6980c0c57e7a5af_mask.nii.gz'), PosixPath('/content/FirstDataset/train/b3910c0237028f91f70bf2a1c71949be_mask.nii.gz'), PosixPath('/content/FirstDataset/train/b3fb10655decdd2a93bc0bed99d0137e_mask.nii.gz'), PosixPath('/content/FirstDataset/train/b404fd6eed21b2d13282e9ec238a1afb_mask.nii.gz'), PosixPath('/content/FirstDataset/train/b43c15aacf47859279260cdd3e529782_mask.nii.gz'), PosixPath('/content/FirstDataset/train/b59effd5bb2c7958f6d7e9ab207cfe91_mask.nii.gz'), PosixPath('/content/FirstDataset/train/b5f3f3efa4d1b81f70e5a7b1c807b986_mask.nii.gz'), PosixPath('/content/FirstDataset/train/b651fc3aafaf79268a47179a0bdfb596_mask.nii.gz'), PosixPath('/content/FirstDataset/train/b666a963805cb535a16312b81a369250_mask.nii.gz'), PosixPath('/content/FirstDataset/train/b68bc91bc100d28554c9649fc857c248_mask.nii.gz'), PosixPath('/content/FirstDataset/train/b6f5c586d6381579635b2f6d7d87a3f8_mask.nii.gz'), PosixPath('/content/FirstDataset/train/b70696ad0a9158805479026052367ffc_mask.nii.gz'), PosixPath('/content/FirstDataset/train/b733c96ae9806d2242522a805042c461_mask.nii.gz'), PosixPath('/content/FirstDataset/train/b76e06ed30fcb27a2f39d61f5f12b713_mask.nii.gz'), PosixPath('/content/FirstDataset/train/b842c90ff5bd37be57e492c9395b51b0_mask.nii.gz'), PosixPath('/content/FirstDataset/train/b88620463e0d75b4613b87f046b62a73_mask.nii.gz'), PosixPath('/content/FirstDataset/train/b9bb79675d87cb1dc88928687f569dab_mask.nii.gz'), PosixPath('/content/FirstDataset/train/ba49199eed46b6daf8d933170624e02d_mask.nii.gz'), PosixPath('/content/FirstDataset/train/bb9f4f79ea935f0f2fe052845fb18916_mask.nii.gz'), PosixPath('/content/FirstDataset/train/bbd77c697f010fc06e094317a915ca93_mask.nii.gz'), PosixPath('/content/FirstDataset/train/c21ae99f6b8260f1a520a3cc7ab469a2_mask.nii.gz'), PosixPath('/content/FirstDataset/train/c4efcd7c3d26f2cc802ff4e323717182_mask.nii.gz'), PosixPath('/content/FirstDataset/train/c57cb6eb70fe279064ca3b51c3551a4e_mask.nii.gz'), PosixPath('/content/FirstDataset/train/c844248bbe6195964fed9608d0bca756_mask.nii.gz'), PosixPath('/content/FirstDataset/train/c972979d432532e1f3f01e4f7decc1c2_mask.nii.gz'), PosixPath('/content/FirstDataset/train/ca187bff525d7dec725f61d48b3197d2_mask.nii.gz'), PosixPath('/content/FirstDataset/train/cba0de8d5a8dd1271c50f593e32596c8_mask.nii.gz'), PosixPath('/content/FirstDataset/train/cbab2172468035987821c11d29290633_mask.nii.gz'), PosixPath('/content/FirstDataset/train/ccd2022bb43115bdb0518c9f26c831e9_mask.nii.gz'), PosixPath('/content/FirstDataset/train/ccf75b11b57ab70f280da53252ff228a_mask.nii.gz'), PosixPath('/content/FirstDataset/train/cd4167e2a501785e47b611f2821c310f_mask.nii.gz'), PosixPath('/content/FirstDataset/train/cd45d12102e1b3a3b098ef4fc0f7ba05_mask.nii.gz'), PosixPath('/content/FirstDataset/train/cd877a3d2941cdd10b1e9e8034afdff9_mask.nii.gz'), PosixPath('/content/FirstDataset/train/ce43d5f1707475e85f864ffafeb16d12_mask.nii.gz'), PosixPath('/content/FirstDataset/train/ce8f62de14ef4409259ac5f6d0ce853b_mask.nii.gz'), PosixPath('/content/FirstDataset/train/ce921428838f6933d693415dbab8e55e_mask.nii.gz'), PosixPath('/content/FirstDataset/train/cec3c15499daf4f7dd7462111397355e_mask.nii.gz'), PosixPath('/content/FirstDataset/train/cffb3c1f11d75b137491d20bcb918025_mask.nii.gz'), PosixPath('/content/FirstDataset/train/d0676ca8504e971220344bd7e94149f8_mask.nii.gz'), PosixPath('/content/FirstDataset/train/d0ebfa402db0c523bd051c5ec53ddaf9_mask.nii.gz'), PosixPath('/content/FirstDataset/train/d1462b885b43a576baa0fcef700d03b3_mask.nii.gz'), PosixPath('/content/FirstDataset/train/d48f1beaa21ffba24931f9b7fe5ffde0_mask.nii.gz'), PosixPath('/content/FirstDataset/train/d5a5df4143f5750b07556b5d494d6f4d_mask.nii.gz'), PosixPath('/content/FirstDataset/train/d5f2869ed9fb89a98557dab65a51d898_mask.nii.gz'), PosixPath('/content/FirstDataset/train/d68edaf87a43d0531d527f7f8dfc11fb_mask.nii.gz'), PosixPath('/content/FirstDataset/train/d796e05f84bd2ec20b5f43d4277f47f8_mask.nii.gz'), PosixPath('/content/FirstDataset/train/d7ed74133749884f745c527baabcaeff_mask.nii.gz'), PosixPath('/content/FirstDataset/train/d8b2e9621869d2a4fe010f9b420cb337_mask.nii.gz'), PosixPath('/content/FirstDataset/train/da4d02654aaf425dd506f5ae3065034a_mask.nii.gz'), PosixPath('/content/FirstDataset/train/dacc79e83e7d584190ad7604a680ad2f_mask.nii.gz'), PosixPath('/content/FirstDataset/train/dafd1cbae4b4e6d69b370aa262e52d2b_mask.nii.gz'), PosixPath('/content/FirstDataset/train/dce4ae3f8ecbb8ca9e37f2d3ec823851_mask.nii.gz'), PosixPath('/content/FirstDataset/train/ddb411f805c8467bafe23a1b3b8c8d2d_mask.nii.gz'), PosixPath('/content/FirstDataset/train/decfc1342a45e9e4a474f4c0bc456273_mask.nii.gz'), PosixPath('/content/FirstDataset/train/df92f4e6059342f3323274a250209e90_mask.nii.gz'), PosixPath('/content/FirstDataset/train/dfd38769c966b7556de896154c0e065d_mask.nii.gz'), PosixPath('/content/FirstDataset/train/e1974dc1b6679e5554b2dc42edda265b_mask.nii.gz'), PosixPath('/content/FirstDataset/train/e2ce5b719c88ac6656aff908870c204b_mask.nii.gz'), PosixPath('/content/FirstDataset/train/e3cbe998e2d0b49376f1fc1fbc850829_mask.nii.gz'), PosixPath('/content/FirstDataset/train/e4e9650ecb68db7f61152bce3bf867d5_mask.nii.gz'), PosixPath('/content/FirstDataset/train/e506c7774f64b8d10ac01e498c28a1b7_mask.nii.gz'), PosixPath('/content/FirstDataset/train/e548487f1e639a320c32928f3e32b90e_mask.nii.gz'), PosixPath('/content/FirstDataset/train/e57db4f1a53abd766c97d8e43a842897_mask.nii.gz'), PosixPath('/content/FirstDataset/train/e66ce7e96b277d7d1b8835e5d2c94cd6_mask.nii.gz'), PosixPath('/content/FirstDataset/train/e897087b0efd8d0cffcdbc1c56d47fc8_mask.nii.gz'), PosixPath('/content/FirstDataset/train/e915a3dff4198ad13fe584d517dd76cb_mask.nii.gz'), PosixPath('/content/FirstDataset/train/e91727f54f5c195e41767dcc8035cdf8_mask.nii.gz'), PosixPath('/content/FirstDataset/train/e96195fe149896df48b784f3d3b93d4c_mask.nii.gz'), PosixPath('/content/FirstDataset/train/ea5ec0092dc0b60e4289995d36aab4ef_mask.nii.gz'), PosixPath('/content/FirstDataset/train/eb0492ee36ac7ece4d9aff7a3aa5e253_mask.nii.gz'), PosixPath('/content/FirstDataset/train/eb0d8cae63a8d66d400142bb3cb72dd0_mask.nii.gz'), PosixPath('/content/FirstDataset/train/eb2ebca2c6a7dd87de9e1d3b783d226b_mask.nii.gz'), PosixPath('/content/FirstDataset/train/ee1d2e5f3a6e9bf0dbbf6819217eb920_mask.nii.gz'), PosixPath('/content/FirstDataset/train/ef6519cc2a0703ed78f3d38ae832d8da_mask.nii.gz'), PosixPath('/content/FirstDataset/train/f04ed51fee638fddcdd56fb7c5e373b9_mask.nii.gz'), PosixPath('/content/FirstDataset/train/f1e5b1375baa55b625ec8ae3d29088f3_mask.nii.gz'), PosixPath('/content/FirstDataset/train/f204c71ef3a2203d018fc4efe29eed45_mask.nii.gz'), PosixPath('/content/FirstDataset/train/f2480c597c39845b9ba4d1d0714c3940_mask.nii.gz'), PosixPath('/content/FirstDataset/train/f59e44b743d941e8c6a4257efa92f7d4_mask.nii.gz'), PosixPath('/content/FirstDataset/train/f7423e8a2c40ac5093aa207bc180ca48_mask.nii.gz'), PosixPath('/content/FirstDataset/train/f748a493bd58831fcb2976572bfc4335_mask.nii.gz'), PosixPath('/content/FirstDataset/train/f77b934a9ad45529b213993a0c96f521_mask.nii.gz'), PosixPath('/content/FirstDataset/train/f8bff349c7db6300c31c0d32bcc499fc_mask.nii.gz'), PosixPath('/content/FirstDataset/train/fa0fb1f99c8132323440bb2a5b4a9f36_mask.nii.gz'), PosixPath('/content/FirstDataset/train/fa24f2cec205b4162d27150096ad52e7_mask.nii.gz'), PosixPath('/content/FirstDataset/train/facc52e047affeb776b57884c8cef041_mask.nii.gz'), PosixPath('/content/FirstDataset/train/fb827ee20813fbf7927082bbbf4f4fdf_mask.nii.gz'), PosixPath('/content/FirstDataset/train/fbbaba5473e1133d8d0bfc48d3fff20c_mask.nii.gz'), PosixPath('/content/FirstDataset/train/fcd7ef3c8ee90908fe01854bfc5ea1e5_mask.nii.gz'), PosixPath('/content/FirstDataset/train/fd90fbcf1edcdd8f5f24751db05f3c45_mask.nii.gz'), PosixPath('/content/FirstDataset/train/fda95182a5e1a9f3165401fa90af43e5_mask.nii.gz'), PosixPath('/content/FirstDataset/train/ff201212b8c2d041da9213e99ffb89f0_mask.nii.gz')]\n",
            "100 [PosixPath('/content/SecondDataset/train/002ba78366d686322ef3f45484ed876b/T1w.nii.gz'), PosixPath('/content/SecondDataset/train/0496c2b3ee61801760bca149acd3ada6/T1w.nii.gz'), PosixPath('/content/SecondDataset/train/06163739ea16b5c6b66ab6eb4f9713dc/T1w.nii.gz'), PosixPath('/content/SecondDataset/train/091725c4c2fb77b775f28f57884904ce/T1w.nii.gz'), PosixPath('/content/SecondDataset/train/0a2bab2c80835a3597c3e423012e1be7/T1w.nii.gz'), PosixPath('/content/SecondDataset/train/1455167b547e66418b3ed8e5d39ec329/T1w.nii.gz'), PosixPath('/content/SecondDataset/train/1dfd5a0c2a80a1539b1e61c43b0880d7/T1w.nii.gz'), PosixPath('/content/SecondDataset/train/1e9c819d320e6f79af9995bc21b35165/T1w.nii.gz'), PosixPath('/content/SecondDataset/train/201768d5b5b61c2bb6c5aa73a3ca649d/T1w.nii.gz'), PosixPath('/content/SecondDataset/train/234ee1b402665d51cd8a61831fc1969e/T1w.nii.gz'), PosixPath('/content/SecondDataset/train/259c4b2047aeabafa8288fc0486eb86f/T1w.nii.gz'), PosixPath('/content/SecondDataset/train/2646428696d25bdc99ca55738879f685/T1w.nii.gz'), PosixPath('/content/SecondDataset/train/275c200bdab34799fa76c3951e8e9805/T1w.nii.gz'), PosixPath('/content/SecondDataset/train/29e9cc5252f20fccdc31f5b2498c2cea/T1w.nii.gz'), PosixPath('/content/SecondDataset/train/328000174705ae263c249bf05fde0dcd/T1w.nii.gz'), PosixPath('/content/SecondDataset/train/34291e22551b2ce48584509c0e80c934/T1w.nii.gz'), PosixPath('/content/SecondDataset/train/3883a099bd6e36829fa2146189e621ce/T1w.nii.gz'), PosixPath('/content/SecondDataset/train/3b244166ae29a28acdb7ec2a0bf9b681/T1w.nii.gz'), PosixPath('/content/SecondDataset/train/3b37fbfa3d702aac69e12143a5146d42/T1w.nii.gz'), PosixPath('/content/SecondDataset/train/3b5221a2a43fa38729b9724a3ed745c8/T1w.nii.gz'), PosixPath('/content/SecondDataset/train/3ea72ad0706e3b5687212feac100e2cd/T1w.nii.gz'), PosixPath('/content/SecondDataset/train/427ed4779c21001782ac2e752fa8c54b/T1w.nii.gz'), PosixPath('/content/SecondDataset/train/47e340c8a5d5d72746a74c7d681700d3/T1w.nii.gz'), PosixPath('/content/SecondDataset/train/493a5d19593e35e3f1f27c412dfc7bfe/T1w.nii.gz'), PosixPath('/content/SecondDataset/train/4a321624e7b8071554b8c07923f505d4/T1w.nii.gz'), PosixPath('/content/SecondDataset/train/4b05cc6510bd528c92b2be5490f93966/T1w.nii.gz'), PosixPath('/content/SecondDataset/train/4e218d62ea98b0387cd3877c3528ad23/T1w.nii.gz'), PosixPath('/content/SecondDataset/train/506d0406e0105cc27d1dcc0eb0d676c5/T1w.nii.gz'), PosixPath('/content/SecondDataset/train/51a9162e2538d22459501a260a16b006/T1w.nii.gz'), PosixPath('/content/SecondDataset/train/525311ecd91cc8459c018a50e0469a4d/T1w.nii.gz'), PosixPath('/content/SecondDataset/train/54778eeec78208050bbd9629b9c9536a/T1w.nii.gz'), PosixPath('/content/SecondDataset/train/55f6037a6301f1d84da97ad0715818a0/T1w.nii.gz'), PosixPath('/content/SecondDataset/train/568dffa0a6d793bb5e6474997f3c2105/T1w.nii.gz'), PosixPath('/content/SecondDataset/train/5836dde5076e3d47f3cc259698db650b/T1w.nii.gz'), PosixPath('/content/SecondDataset/train/5a08187be9ab2f8a0a97a7f053ee4ead/T1w.nii.gz'), PosixPath('/content/SecondDataset/train/5a2a9458078204fdf66a088ec5756549/T1w.nii.gz'), PosixPath('/content/SecondDataset/train/5aa71c806db24f1c9fa70a42665697eb/T1w.nii.gz'), PosixPath('/content/SecondDataset/train/5ae0e746e26f1fa59c2238444bdb6973/T1w.nii.gz'), PosixPath('/content/SecondDataset/train/5beab7b0ffe08d8651f3e3f52855031a/T1w.nii.gz'), PosixPath('/content/SecondDataset/train/6224b7f1a8b69b0b1e4967348cb64ed2/T1w.nii.gz'), PosixPath('/content/SecondDataset/train/66101f7869ff4b06988f65a730a27975/T1w.nii.gz'), PosixPath('/content/SecondDataset/train/68a64b9a5d6856f706e2fceb300c9f0b/T1w.nii.gz'), PosixPath('/content/SecondDataset/train/69a168ce7c580007fdfd968bf2ee2d00/T1w.nii.gz'), PosixPath('/content/SecondDataset/train/6dea5756aa47caf4b1c984d9c982946d/T1w.nii.gz'), PosixPath('/content/SecondDataset/train/71be4353b96c7f51ab9118badc88e181/T1w.nii.gz'), PosixPath('/content/SecondDataset/train/7254ea2e55c4976eb0b0e9b735950b1f/T1w.nii.gz'), PosixPath('/content/SecondDataset/train/743e552b9bfd9aa83a5d1a9801995782/T1w.nii.gz'), PosixPath('/content/SecondDataset/train/77484a081add6cda280619c39736e490/T1w.nii.gz'), PosixPath('/content/SecondDataset/train/7b3d39b6bc79d693d45f3b78118ebb62/T1w.nii.gz'), PosixPath('/content/SecondDataset/train/7cd9a85ae2e284a07f0a67a537f2af66/T1w.nii.gz'), PosixPath('/content/SecondDataset/train/7ddc22f818cc2706ad26e39088997bb2/T1w.nii.gz'), PosixPath('/content/SecondDataset/train/7e5e861429125828d7ebfdcd115058ec/T1w.nii.gz'), PosixPath('/content/SecondDataset/train/80417c085fa81d7f4d8aeccdcaeae376/T1w.nii.gz'), PosixPath('/content/SecondDataset/train/8375a31ef72a54c4629d7a004b23827c/T1w.nii.gz'), PosixPath('/content/SecondDataset/train/83aa841e1ed55aba5163ca10ce628202/T1w.nii.gz'), PosixPath('/content/SecondDataset/train/84dcea4844a26e6854980c8cb6868b28/T1w.nii.gz'), PosixPath('/content/SecondDataset/train/88696561f10b40c903b086dc39a0ebad/T1w.nii.gz'), PosixPath('/content/SecondDataset/train/89ab2a2184f4c717165a1d6762300a0c/T1w.nii.gz'), PosixPath('/content/SecondDataset/train/9284b04152ce02a73d7d1528ae692d6c/T1w.nii.gz'), PosixPath('/content/SecondDataset/train/957cba39d6eca2733b6fbe03d1a366ca/T1w.nii.gz'), PosixPath('/content/SecondDataset/train/95ff2686976f07351e20add0eb5c0122/T1w.nii.gz'), PosixPath('/content/SecondDataset/train/972d90ef5ac8019dabd85d36c7cea75e/T1w.nii.gz'), PosixPath('/content/SecondDataset/train/9917d828a41b0fb1985a9cbbc5d771b9/T1w.nii.gz'), PosixPath('/content/SecondDataset/train/9b40e562324c873604853690b75916e1/T1w.nii.gz'), PosixPath('/content/SecondDataset/train/9c16aa40d8082b4bb2b14b4be153f393/T1w.nii.gz'), PosixPath('/content/SecondDataset/train/9d548b39dd3f0b4ffa1dcc4a422d34b2/T1w.nii.gz'), PosixPath('/content/SecondDataset/train/a2a3a413217fed5cc09551422af36ccc/T1w.nii.gz'), PosixPath('/content/SecondDataset/train/a647a086447ece0378e00fb41ac8ef23/T1w.nii.gz'), PosixPath('/content/SecondDataset/train/a77a722e6aeddf3cd4a3bb317934f913/T1w.nii.gz'), PosixPath('/content/SecondDataset/train/a82a4fb92fbd769da5c416dded43f29b/T1w.nii.gz'), PosixPath('/content/SecondDataset/train/aa5bf5d54f569d92e8a129c49793981a/T1w.nii.gz'), PosixPath('/content/SecondDataset/train/ab0e7115336f3479bffd60059bb259d3/T1w.nii.gz'), PosixPath('/content/SecondDataset/train/ad203e853a51e28f809fbd06451988d0/T1w.nii.gz'), PosixPath('/content/SecondDataset/train/b10071b6c1d64d02dfc9d73317e56afd/T1w.nii.gz'), PosixPath('/content/SecondDataset/train/bb5ef18b0e6ceee93599fe31d0a66d25/T1w.nii.gz'), PosixPath('/content/SecondDataset/train/bce32491497655423e5af47a62bdcf95/T1w.nii.gz'), PosixPath('/content/SecondDataset/train/be849368ff05b38b13468e3301b26349/T1w.nii.gz'), PosixPath('/content/SecondDataset/train/c2f7c28901d7feb55b2656f56a844593/T1w.nii.gz'), PosixPath('/content/SecondDataset/train/c8afb6c91545fe69b0f108b86cb8f9bd/T1w.nii.gz'), PosixPath('/content/SecondDataset/train/ccf433f1d2da37630c0c770610f4bf73/T1w.nii.gz'), PosixPath('/content/SecondDataset/train/cedef072e517327ff534ce9179e3c8a7/T1w.nii.gz'), PosixPath('/content/SecondDataset/train/d69e77fd05ab990eb6228db2d093e2b8/T1w.nii.gz'), PosixPath('/content/SecondDataset/train/d6a0c6072a5db68bc4d5bba8abb782b2/T1w.nii.gz'), PosixPath('/content/SecondDataset/train/d70c45d13fcef32c7cec4875c8ea8e3c/T1w.nii.gz'), PosixPath('/content/SecondDataset/train/d84a7e8ed5cc39b684d7ff4799d179d6/T1w.nii.gz'), PosixPath('/content/SecondDataset/train/daef3925a5488bf96994618eea68a0c8/T1w.nii.gz'), PosixPath('/content/SecondDataset/train/de92a232042e6d0040126d9aa058dd6f/T1w.nii.gz'), PosixPath('/content/SecondDataset/train/dece429af90d5264468bacc9b25d85e1/T1w.nii.gz'), PosixPath('/content/SecondDataset/train/e3761883ae252609e1beb7ef91092702/T1w.nii.gz'), PosixPath('/content/SecondDataset/train/e9dfaab97b75f3a630acc5bea6f681f1/T1w.nii.gz'), PosixPath('/content/SecondDataset/train/ea2439dc3437b1964f3b4232edc4437d/T1w.nii.gz'), PosixPath('/content/SecondDataset/train/eae37c9fae5a0f5aa465852de9e90965/T1w.nii.gz'), PosixPath('/content/SecondDataset/train/ec18a0b1667119aa8dc3b9abeefe5dd7/T1w.nii.gz'), PosixPath('/content/SecondDataset/train/ec22425c9e89b5272d1fd714da310703/T1w.nii.gz'), PosixPath('/content/SecondDataset/train/eef27b096cf5313376a8c97b137dd4d9/T1w.nii.gz'), PosixPath('/content/SecondDataset/train/ef8b0b1e652c4eb01478fa6a0905d649/T1w.nii.gz'), PosixPath('/content/SecondDataset/train/f1413fec32f1ac7b1e2417df7957557f/T1w.nii.gz'), PosixPath('/content/SecondDataset/train/f42e8dcfc72183009882e85a5c13efb7/T1w.nii.gz'), PosixPath('/content/SecondDataset/train/f8a6e51b9d4b8c0d1db579aec43f4d56/T1w.nii.gz'), PosixPath('/content/SecondDataset/train/fb464c9a61b74bc983f8160988a09b7e/T1w.nii.gz')]\n",
            "100 [PosixPath('/content/SecondDataset/train/002ba78366d686322ef3f45484ed876b/mask.nii.gz'), PosixPath('/content/SecondDataset/train/0496c2b3ee61801760bca149acd3ada6/mask.nii.gz'), PosixPath('/content/SecondDataset/train/06163739ea16b5c6b66ab6eb4f9713dc/mask.nii.gz'), PosixPath('/content/SecondDataset/train/091725c4c2fb77b775f28f57884904ce/mask.nii.gz'), PosixPath('/content/SecondDataset/train/0a2bab2c80835a3597c3e423012e1be7/mask.nii.gz'), PosixPath('/content/SecondDataset/train/1455167b547e66418b3ed8e5d39ec329/mask.nii.gz'), PosixPath('/content/SecondDataset/train/1dfd5a0c2a80a1539b1e61c43b0880d7/mask.nii.gz'), PosixPath('/content/SecondDataset/train/1e9c819d320e6f79af9995bc21b35165/mask.nii.gz'), PosixPath('/content/SecondDataset/train/201768d5b5b61c2bb6c5aa73a3ca649d/mask.nii.gz'), PosixPath('/content/SecondDataset/train/234ee1b402665d51cd8a61831fc1969e/mask.nii.gz'), PosixPath('/content/SecondDataset/train/259c4b2047aeabafa8288fc0486eb86f/mask.nii.gz'), PosixPath('/content/SecondDataset/train/2646428696d25bdc99ca55738879f685/mask.nii.gz'), PosixPath('/content/SecondDataset/train/275c200bdab34799fa76c3951e8e9805/mask.nii.gz'), PosixPath('/content/SecondDataset/train/29e9cc5252f20fccdc31f5b2498c2cea/mask.nii.gz'), PosixPath('/content/SecondDataset/train/328000174705ae263c249bf05fde0dcd/mask.nii.gz'), PosixPath('/content/SecondDataset/train/34291e22551b2ce48584509c0e80c934/mask.nii.gz'), PosixPath('/content/SecondDataset/train/3883a099bd6e36829fa2146189e621ce/mask.nii.gz'), PosixPath('/content/SecondDataset/train/3b244166ae29a28acdb7ec2a0bf9b681/mask.nii.gz'), PosixPath('/content/SecondDataset/train/3b37fbfa3d702aac69e12143a5146d42/mask.nii.gz'), PosixPath('/content/SecondDataset/train/3b5221a2a43fa38729b9724a3ed745c8/mask.nii.gz'), PosixPath('/content/SecondDataset/train/3ea72ad0706e3b5687212feac100e2cd/mask.nii.gz'), PosixPath('/content/SecondDataset/train/427ed4779c21001782ac2e752fa8c54b/mask.nii.gz'), PosixPath('/content/SecondDataset/train/47e340c8a5d5d72746a74c7d681700d3/mask.nii.gz'), PosixPath('/content/SecondDataset/train/493a5d19593e35e3f1f27c412dfc7bfe/mask.nii.gz'), PosixPath('/content/SecondDataset/train/4a321624e7b8071554b8c07923f505d4/mask.nii.gz'), PosixPath('/content/SecondDataset/train/4b05cc6510bd528c92b2be5490f93966/mask.nii.gz'), PosixPath('/content/SecondDataset/train/4e218d62ea98b0387cd3877c3528ad23/mask.nii.gz'), PosixPath('/content/SecondDataset/train/506d0406e0105cc27d1dcc0eb0d676c5/mask.nii.gz'), PosixPath('/content/SecondDataset/train/51a9162e2538d22459501a260a16b006/mask.nii.gz'), PosixPath('/content/SecondDataset/train/525311ecd91cc8459c018a50e0469a4d/mask.nii.gz'), PosixPath('/content/SecondDataset/train/54778eeec78208050bbd9629b9c9536a/mask.nii.gz'), PosixPath('/content/SecondDataset/train/55f6037a6301f1d84da97ad0715818a0/mask.nii.gz'), PosixPath('/content/SecondDataset/train/568dffa0a6d793bb5e6474997f3c2105/mask.nii.gz'), PosixPath('/content/SecondDataset/train/5836dde5076e3d47f3cc259698db650b/mask.nii.gz'), PosixPath('/content/SecondDataset/train/5a08187be9ab2f8a0a97a7f053ee4ead/mask.nii.gz'), PosixPath('/content/SecondDataset/train/5a2a9458078204fdf66a088ec5756549/mask.nii.gz'), PosixPath('/content/SecondDataset/train/5aa71c806db24f1c9fa70a42665697eb/mask.nii.gz'), PosixPath('/content/SecondDataset/train/5ae0e746e26f1fa59c2238444bdb6973/mask.nii.gz'), PosixPath('/content/SecondDataset/train/5beab7b0ffe08d8651f3e3f52855031a/mask.nii.gz'), PosixPath('/content/SecondDataset/train/6224b7f1a8b69b0b1e4967348cb64ed2/mask.nii.gz'), PosixPath('/content/SecondDataset/train/66101f7869ff4b06988f65a730a27975/mask.nii.gz'), PosixPath('/content/SecondDataset/train/68a64b9a5d6856f706e2fceb300c9f0b/mask.nii.gz'), PosixPath('/content/SecondDataset/train/69a168ce7c580007fdfd968bf2ee2d00/mask.nii.gz'), PosixPath('/content/SecondDataset/train/6dea5756aa47caf4b1c984d9c982946d/mask.nii.gz'), PosixPath('/content/SecondDataset/train/71be4353b96c7f51ab9118badc88e181/mask.nii.gz'), PosixPath('/content/SecondDataset/train/7254ea2e55c4976eb0b0e9b735950b1f/mask.nii.gz'), PosixPath('/content/SecondDataset/train/743e552b9bfd9aa83a5d1a9801995782/mask.nii.gz'), PosixPath('/content/SecondDataset/train/77484a081add6cda280619c39736e490/mask.nii.gz'), PosixPath('/content/SecondDataset/train/7b3d39b6bc79d693d45f3b78118ebb62/mask.nii.gz'), PosixPath('/content/SecondDataset/train/7cd9a85ae2e284a07f0a67a537f2af66/mask.nii.gz'), PosixPath('/content/SecondDataset/train/7ddc22f818cc2706ad26e39088997bb2/mask.nii.gz'), PosixPath('/content/SecondDataset/train/7e5e861429125828d7ebfdcd115058ec/mask.nii.gz'), PosixPath('/content/SecondDataset/train/80417c085fa81d7f4d8aeccdcaeae376/mask.nii.gz'), PosixPath('/content/SecondDataset/train/8375a31ef72a54c4629d7a004b23827c/mask.nii.gz'), PosixPath('/content/SecondDataset/train/83aa841e1ed55aba5163ca10ce628202/mask.nii.gz'), PosixPath('/content/SecondDataset/train/84dcea4844a26e6854980c8cb6868b28/mask.nii.gz'), PosixPath('/content/SecondDataset/train/88696561f10b40c903b086dc39a0ebad/mask.nii.gz'), PosixPath('/content/SecondDataset/train/89ab2a2184f4c717165a1d6762300a0c/mask.nii.gz'), PosixPath('/content/SecondDataset/train/9284b04152ce02a73d7d1528ae692d6c/mask.nii.gz'), PosixPath('/content/SecondDataset/train/957cba39d6eca2733b6fbe03d1a366ca/mask.nii.gz'), PosixPath('/content/SecondDataset/train/95ff2686976f07351e20add0eb5c0122/mask.nii.gz'), PosixPath('/content/SecondDataset/train/972d90ef5ac8019dabd85d36c7cea75e/mask.nii.gz'), PosixPath('/content/SecondDataset/train/9917d828a41b0fb1985a9cbbc5d771b9/mask.nii.gz'), PosixPath('/content/SecondDataset/train/9b40e562324c873604853690b75916e1/mask.nii.gz'), PosixPath('/content/SecondDataset/train/9c16aa40d8082b4bb2b14b4be153f393/mask.nii.gz'), PosixPath('/content/SecondDataset/train/9d548b39dd3f0b4ffa1dcc4a422d34b2/mask.nii.gz'), PosixPath('/content/SecondDataset/train/a2a3a413217fed5cc09551422af36ccc/mask.nii.gz'), PosixPath('/content/SecondDataset/train/a647a086447ece0378e00fb41ac8ef23/mask.nii.gz'), PosixPath('/content/SecondDataset/train/a77a722e6aeddf3cd4a3bb317934f913/mask.nii.gz'), PosixPath('/content/SecondDataset/train/a82a4fb92fbd769da5c416dded43f29b/mask.nii.gz'), PosixPath('/content/SecondDataset/train/aa5bf5d54f569d92e8a129c49793981a/mask.nii.gz'), PosixPath('/content/SecondDataset/train/ab0e7115336f3479bffd60059bb259d3/mask.nii.gz'), PosixPath('/content/SecondDataset/train/ad203e853a51e28f809fbd06451988d0/mask.nii.gz'), PosixPath('/content/SecondDataset/train/b10071b6c1d64d02dfc9d73317e56afd/mask.nii.gz'), PosixPath('/content/SecondDataset/train/bb5ef18b0e6ceee93599fe31d0a66d25/mask.nii.gz'), PosixPath('/content/SecondDataset/train/bce32491497655423e5af47a62bdcf95/mask.nii.gz'), PosixPath('/content/SecondDataset/train/be849368ff05b38b13468e3301b26349/mask.nii.gz'), PosixPath('/content/SecondDataset/train/c2f7c28901d7feb55b2656f56a844593/mask.nii.gz'), PosixPath('/content/SecondDataset/train/c8afb6c91545fe69b0f108b86cb8f9bd/mask.nii.gz'), PosixPath('/content/SecondDataset/train/ccf433f1d2da37630c0c770610f4bf73/mask.nii.gz'), PosixPath('/content/SecondDataset/train/cedef072e517327ff534ce9179e3c8a7/mask.nii.gz'), PosixPath('/content/SecondDataset/train/d69e77fd05ab990eb6228db2d093e2b8/mask.nii.gz'), PosixPath('/content/SecondDataset/train/d6a0c6072a5db68bc4d5bba8abb782b2/mask.nii.gz'), PosixPath('/content/SecondDataset/train/d70c45d13fcef32c7cec4875c8ea8e3c/mask.nii.gz'), PosixPath('/content/SecondDataset/train/d84a7e8ed5cc39b684d7ff4799d179d6/mask.nii.gz'), PosixPath('/content/SecondDataset/train/daef3925a5488bf96994618eea68a0c8/mask.nii.gz'), PosixPath('/content/SecondDataset/train/de92a232042e6d0040126d9aa058dd6f/mask.nii.gz'), PosixPath('/content/SecondDataset/train/dece429af90d5264468bacc9b25d85e1/mask.nii.gz'), PosixPath('/content/SecondDataset/train/e3761883ae252609e1beb7ef91092702/mask.nii.gz'), PosixPath('/content/SecondDataset/train/e9dfaab97b75f3a630acc5bea6f681f1/mask.nii.gz'), PosixPath('/content/SecondDataset/train/ea2439dc3437b1964f3b4232edc4437d/mask.nii.gz'), PosixPath('/content/SecondDataset/train/eae37c9fae5a0f5aa465852de9e90965/mask.nii.gz'), PosixPath('/content/SecondDataset/train/ec18a0b1667119aa8dc3b9abeefe5dd7/mask.nii.gz'), PosixPath('/content/SecondDataset/train/ec22425c9e89b5272d1fd714da310703/mask.nii.gz'), PosixPath('/content/SecondDataset/train/eef27b096cf5313376a8c97b137dd4d9/mask.nii.gz'), PosixPath('/content/SecondDataset/train/ef8b0b1e652c4eb01478fa6a0905d649/mask.nii.gz'), PosixPath('/content/SecondDataset/train/f1413fec32f1ac7b1e2417df7957557f/mask.nii.gz'), PosixPath('/content/SecondDataset/train/f42e8dcfc72183009882e85a5c13efb7/mask.nii.gz'), PosixPath('/content/SecondDataset/train/f8a6e51b9d4b8c0d1db579aec43f4d56/mask.nii.gz'), PosixPath('/content/SecondDataset/train/fb464c9a61b74bc983f8160988a09b7e/mask.nii.gz')]\n"
          ],
          "name": "stdout"
        }
      ]
    },
    {
      "cell_type": "code",
      "metadata": {
        "colab": {
          "base_uri": "https://localhost:8080/"
        },
        "id": "qvoEV7QRvMsf",
        "outputId": "1b7f45fa-84ea-45a5-bc38-40969ab683a6"
      },
      "source": [
        "from sklearn.model_selection import train_test_split\n",
        "\n",
        "X_train_all = train_X_1 + train_X_2\n",
        "y_train_all = train_y_1 + train_y_2\n",
        "\n",
        "X_train, X_valid, y_train, y_valid = train_test_split(X_train_all, y_train_all, train_size=0.9, random_state=42)\n",
        "\n",
        "print('X_train len:', len(X_train))\n",
        "print('y_train len:', len(y_train))\n",
        "print('X_valid len:', len(X_valid))\n",
        "print('y_valid len:', len(y_valid))\n"
      ],
      "execution_count": 20,
      "outputs": [
        {
          "output_type": "stream",
          "text": [
            "X_train len: 348\n",
            "y_train len: 348\n",
            "X_valid len: 39\n",
            "y_valid len: 39\n"
          ],
          "name": "stdout"
        }
      ]
    },
    {
      "cell_type": "code",
      "metadata": {
        "colab": {
          "base_uri": "https://localhost:8080/"
        },
        "id": "sfDDKN2jxCMJ",
        "outputId": "b61bf4df-16b0-4ac0-adbf-3bda83912032"
      },
      "source": [
        "print(X_train)\n",
        "print(len(X_train))\n",
        "\n",
        "X_train = X_train[0:10]\n",
        "y_train = y_train[0:10]\n",
        "X_valid = X_valid[0:10]\n",
        "y_valid = y_valid[0:10]\n",
        "\n",
        "print(X_train)\n",
        "print(len(X_train))\n"
      ],
      "execution_count": 21,
      "outputs": [
        {
          "output_type": "stream",
          "text": [
            "[PosixPath('/content/SecondDataset/train/71be4353b96c7f51ab9118badc88e181/T1w.nii.gz'), PosixPath('/content/FirstDataset/train/2fa3623f2dd0b6f244844c816f012289.nii.gz'), PosixPath('/content/FirstDataset/train/3600b0c2de04973782eee6256d453fb3.nii.gz'), PosixPath('/content/SecondDataset/train/f8a6e51b9d4b8c0d1db579aec43f4d56/T1w.nii.gz'), PosixPath('/content/SecondDataset/train/29e9cc5252f20fccdc31f5b2498c2cea/T1w.nii.gz'), PosixPath('/content/FirstDataset/train/68b91fb712cd2c2a577a39966b9938b6.nii.gz'), PosixPath('/content/FirstDataset/train/64fc34796f18199faaf9cc60998c5bbb.nii.gz'), PosixPath('/content/SecondDataset/train/bce32491497655423e5af47a62bdcf95/T1w.nii.gz'), PosixPath('/content/FirstDataset/train/3a14401f2de9c2eb4fe22f2228f81309.nii.gz'), PosixPath('/content/FirstDataset/train/1cdd4ddcbd83403d890b14cb499776e5.nii.gz'), PosixPath('/content/FirstDataset/train/247f4d2981ddfb18e004fa88311b2798.nii.gz'), PosixPath('/content/FirstDataset/train/cbab2172468035987821c11d29290633.nii.gz'), PosixPath('/content/FirstDataset/train/8cc6f19643dc15bb849f60fb26745e76.nii.gz'), PosixPath('/content/FirstDataset/train/565b27aec019efff1d3e494a27f4ced6.nii.gz'), PosixPath('/content/FirstDataset/train/df92f4e6059342f3323274a250209e90.nii.gz'), PosixPath('/content/FirstDataset/train/24331f8c41e24b158a13a5653634558f.nii.gz'), PosixPath('/content/SecondDataset/train/77484a081add6cda280619c39736e490/T1w.nii.gz'), PosixPath('/content/FirstDataset/train/b651fc3aafaf79268a47179a0bdfb596.nii.gz'), PosixPath('/content/SecondDataset/train/0a2bab2c80835a3597c3e423012e1be7/T1w.nii.gz'), PosixPath('/content/FirstDataset/train/e3cbe998e2d0b49376f1fc1fbc850829.nii.gz'), PosixPath('/content/FirstDataset/train/ef6519cc2a0703ed78f3d38ae832d8da.nii.gz'), PosixPath('/content/SecondDataset/train/493a5d19593e35e3f1f27c412dfc7bfe/T1w.nii.gz'), PosixPath('/content/SecondDataset/train/f1413fec32f1ac7b1e2417df7957557f/T1w.nii.gz'), PosixPath('/content/FirstDataset/train/7c12d05b03bcbd69f88959461738f0c2.nii.gz'), PosixPath('/content/FirstDataset/train/9cdc3a57413f33e4635c2c576c01a172.nii.gz'), PosixPath('/content/FirstDataset/train/05b438c4933b77168c529ea19486a1c9.nii.gz'), PosixPath('/content/FirstDataset/train/35a602e498a4a1a7290077a0d59785e3.nii.gz'), PosixPath('/content/FirstDataset/train/60082a68029d76d3e011f91829dae1ac.nii.gz'), PosixPath('/content/SecondDataset/train/ab0e7115336f3479bffd60059bb259d3/T1w.nii.gz'), PosixPath('/content/FirstDataset/train/576733f032b56c10e946fce9c77b30e7.nii.gz'), PosixPath('/content/SecondDataset/train/a82a4fb92fbd769da5c416dded43f29b/T1w.nii.gz'), PosixPath('/content/FirstDataset/train/4aadafa8126f890d9963d0c9e9a9f8f3.nii.gz'), PosixPath('/content/FirstDataset/train/6461dd16b22690f10b96e04f4f859015.nii.gz'), PosixPath('/content/FirstDataset/train/02862555e24fd75a84a3259e4210e73b.nii.gz'), PosixPath('/content/FirstDataset/train/1b848abc984a32be6af0792d7293f63f.nii.gz'), PosixPath('/content/FirstDataset/train/7a20e0898482830c313de2657ada3fd8.nii.gz'), PosixPath('/content/FirstDataset/train/f204c71ef3a2203d018fc4efe29eed45.nii.gz'), PosixPath('/content/SecondDataset/train/95ff2686976f07351e20add0eb5c0122/T1w.nii.gz'), PosixPath('/content/FirstDataset/train/3f7b1d4641cf3fd007effa36f8c87811.nii.gz'), PosixPath('/content/FirstDataset/train/d5a5df4143f5750b07556b5d494d6f4d.nii.gz'), PosixPath('/content/SecondDataset/train/e3761883ae252609e1beb7ef91092702/T1w.nii.gz'), PosixPath('/content/FirstDataset/train/ad9dbd2a0719b6c89332fa13dae33c50.nii.gz'), PosixPath('/content/FirstDataset/train/4ddb5f7f83a1cca31a1252d17feedbfe.nii.gz'), PosixPath('/content/FirstDataset/train/ccd2022bb43115bdb0518c9f26c831e9.nii.gz'), PosixPath('/content/FirstDataset/train/95188131b9f39e1a83f9e17c134ee440.nii.gz'), PosixPath('/content/FirstDataset/train/61241ae9448bf1d6a2bcb50ed250e63d.nii.gz'), PosixPath('/content/FirstDataset/train/b88620463e0d75b4613b87f046b62a73.nii.gz'), PosixPath('/content/FirstDataset/train/9279ffc4248febd39caa81aec96127ae.nii.gz'), PosixPath('/content/FirstDataset/train/d0676ca8504e971220344bd7e94149f8.nii.gz'), PosixPath('/content/SecondDataset/train/b10071b6c1d64d02dfc9d73317e56afd/T1w.nii.gz'), PosixPath('/content/FirstDataset/train/dce4ae3f8ecbb8ca9e37f2d3ec823851.nii.gz'), PosixPath('/content/SecondDataset/train/d69e77fd05ab990eb6228db2d093e2b8/T1w.nii.gz'), PosixPath('/content/FirstDataset/train/48816b122782e2a7b55a40d9ae3bf7a4.nii.gz'), PosixPath('/content/SecondDataset/train/5ae0e746e26f1fa59c2238444bdb6973/T1w.nii.gz'), PosixPath('/content/SecondDataset/train/525311ecd91cc8459c018a50e0469a4d/T1w.nii.gz'), PosixPath('/content/FirstDataset/train/163a641965d65c42a1f67ad38d3d940b.nii.gz'), PosixPath('/content/FirstDataset/train/436e4e65c8c5b6c29bfb1fb608f40142.nii.gz'), PosixPath('/content/FirstDataset/train/97997cb00a71ec010c553063616c17e9.nii.gz'), PosixPath('/content/FirstDataset/train/0a2de3cae8ca66ea62b7e2dae3bdffca.nii.gz'), PosixPath('/content/FirstDataset/train/1b966a3db4f9992e40f0800905dc9ee4.nii.gz'), PosixPath('/content/FirstDataset/train/76b2b5b6569fafdeb6cc443a7c69311e.nii.gz'), PosixPath('/content/SecondDataset/train/84dcea4844a26e6854980c8cb6868b28/T1w.nii.gz'), PosixPath('/content/SecondDataset/train/7cd9a85ae2e284a07f0a67a537f2af66/T1w.nii.gz'), PosixPath('/content/FirstDataset/train/5eb8a90c38b6ba6c28ed5a554ebb2221.nii.gz'), PosixPath('/content/SecondDataset/train/9b40e562324c873604853690b75916e1/T1w.nii.gz'), PosixPath('/content/FirstDataset/train/fbbaba5473e1133d8d0bfc48d3fff20c.nii.gz'), PosixPath('/content/SecondDataset/train/de92a232042e6d0040126d9aa058dd6f/T1w.nii.gz'), PosixPath('/content/SecondDataset/train/002ba78366d686322ef3f45484ed876b/T1w.nii.gz'), PosixPath('/content/FirstDataset/train/3ceea673d5e9be71c0baf5e12e809408.nii.gz'), PosixPath('/content/FirstDataset/train/4ae230ea291e91c956c0e6777a69c3b2.nii.gz'), PosixPath('/content/FirstDataset/train/f748a493bd58831fcb2976572bfc4335.nii.gz'), PosixPath('/content/FirstDataset/train/768f98c704dabc5dfa0e8a9f787178dc.nii.gz'), PosixPath('/content/FirstDataset/train/dacc79e83e7d584190ad7604a680ad2f.nii.gz'), PosixPath('/content/FirstDataset/train/87fcfae6be7a67dffd1dcbff8180a9ee.nii.gz'), PosixPath('/content/FirstDataset/train/60f24565ac5fb32bc919d21077f1b64a.nii.gz'), PosixPath('/content/FirstDataset/train/193c13f971d9859ed1f74db2799c3b51.nii.gz'), PosixPath('/content/SecondDataset/train/55f6037a6301f1d84da97ad0715818a0/T1w.nii.gz'), PosixPath('/content/FirstDataset/train/1d6d9dee686d7088cc6266eab3b3e0fd.nii.gz'), PosixPath('/content/FirstDataset/train/e66ce7e96b277d7d1b8835e5d2c94cd6.nii.gz'), PosixPath('/content/SecondDataset/train/7e5e861429125828d7ebfdcd115058ec/T1w.nii.gz'), PosixPath('/content/FirstDataset/train/7d7b2e55e2cc6efaadeafa4a36e77628.nii.gz'), PosixPath('/content/FirstDataset/train/d68edaf87a43d0531d527f7f8dfc11fb.nii.gz'), PosixPath('/content/FirstDataset/train/d0ebfa402db0c523bd051c5ec53ddaf9.nii.gz'), PosixPath('/content/SecondDataset/train/d6a0c6072a5db68bc4d5bba8abb782b2/T1w.nii.gz'), PosixPath('/content/FirstDataset/train/9a347d41025b4c8e60e1ab3c77e809de.nii.gz'), PosixPath('/content/SecondDataset/train/dece429af90d5264468bacc9b25d85e1/T1w.nii.gz'), PosixPath('/content/SecondDataset/train/ef8b0b1e652c4eb01478fa6a0905d649/T1w.nii.gz'), PosixPath('/content/FirstDataset/train/7adf14a618903a126b1e263b44d69efb.nii.gz'), PosixPath('/content/FirstDataset/train/cec3c15499daf4f7dd7462111397355e.nii.gz'), PosixPath('/content/FirstDataset/train/95c70ae79f166bbcfb3d5e436b02ca90.nii.gz'), PosixPath('/content/FirstDataset/train/6b46cb701035d0bb03bf0a0fa090038e.nii.gz'), PosixPath('/content/FirstDataset/train/e91727f54f5c195e41767dcc8035cdf8.nii.gz'), PosixPath('/content/FirstDataset/train/b13151e196a0c8e89f5c7e3e30c2200f.nii.gz'), PosixPath('/content/SecondDataset/train/be849368ff05b38b13468e3301b26349/T1w.nii.gz'), PosixPath('/content/FirstDataset/train/832be25cb8a259627f92e921a11cffe2.nii.gz'), PosixPath('/content/SecondDataset/train/259c4b2047aeabafa8288fc0486eb86f/T1w.nii.gz'), PosixPath('/content/FirstDataset/train/2c28b68aef975c391a96b6bc8bb1ad48.nii.gz'), PosixPath('/content/FirstDataset/train/fb827ee20813fbf7927082bbbf4f4fdf.nii.gz'), PosixPath('/content/FirstDataset/train/86e621a906947b308ad825edbb6c6605.nii.gz'), PosixPath('/content/SecondDataset/train/eef27b096cf5313376a8c97b137dd4d9/T1w.nii.gz'), PosixPath('/content/SecondDataset/train/34291e22551b2ce48584509c0e80c934/T1w.nii.gz'), PosixPath('/content/FirstDataset/train/3cdcfd4cde291448c9942bb1b45fa7d7.nii.gz'), PosixPath('/content/FirstDataset/train/623ed8ac245f19ae203cc229044310b1.nii.gz'), PosixPath('/content/FirstDataset/train/8e410fd0e738f93b522dc4c28559b0bf.nii.gz'), PosixPath('/content/FirstDataset/train/92f57a31ca1d72eb4b4725f76ae70b69.nii.gz'), PosixPath('/content/FirstDataset/train/06503d8025b2830c50599cfcc0febd39.nii.gz'), PosixPath('/content/FirstDataset/train/fa0fb1f99c8132323440bb2a5b4a9f36.nii.gz'), PosixPath('/content/FirstDataset/train/eb0d8cae63a8d66d400142bb3cb72dd0.nii.gz'), PosixPath('/content/FirstDataset/train/0efee62646deb97c8c7cfa0f457fa4dc.nii.gz'), PosixPath('/content/FirstDataset/train/9fcd0dc0a5c0fec8406692f6157d7411.nii.gz'), PosixPath('/content/FirstDataset/train/5caa3f73f8045baf49fc9ad1a91f9fbd.nii.gz'), PosixPath('/content/FirstDataset/train/4d4c75c5e9a36c41e39490b3483ad4ec.nii.gz'), PosixPath('/content/FirstDataset/train/b3910c0237028f91f70bf2a1c71949be.nii.gz'), PosixPath('/content/SecondDataset/train/cedef072e517327ff534ce9179e3c8a7/T1w.nii.gz'), PosixPath('/content/FirstDataset/train/b404fd6eed21b2d13282e9ec238a1afb.nii.gz'), PosixPath('/content/FirstDataset/train/b666a963805cb535a16312b81a369250.nii.gz'), PosixPath('/content/FirstDataset/train/992decae68838ce3f88b782c115bfac7.nii.gz'), PosixPath('/content/FirstDataset/train/90b2177da2831a2a726c331087b24806.nii.gz'), PosixPath('/content/FirstDataset/train/51bb5f777dc2dadd309b9fbdd2edfbc1.nii.gz'), PosixPath('/content/FirstDataset/train/9e6abc913cf682dd895fb1546075d585.nii.gz'), PosixPath('/content/FirstDataset/train/86c65c6de48c4428a032a24f64b43393.nii.gz'), PosixPath('/content/FirstDataset/train/c844248bbe6195964fed9608d0bca756.nii.gz'), PosixPath('/content/FirstDataset/train/5620f0607730f7fd945e8276b86deade.nii.gz'), PosixPath('/content/FirstDataset/train/4502b172504adaacefa162003163388a.nii.gz'), PosixPath('/content/FirstDataset/train/6e14b7ac45ed7c73437e06f0a2bb8628.nii.gz'), PosixPath('/content/FirstDataset/train/58efb5a391a345e41b6e78467e5c0c06.nii.gz'), PosixPath('/content/FirstDataset/train/8042e0bfec57c355b8d0d016bc1db213.nii.gz'), PosixPath('/content/SecondDataset/train/c8afb6c91545fe69b0f108b86cb8f9bd/T1w.nii.gz'), PosixPath('/content/FirstDataset/train/58f4e1954e11a28da97e9aa62e5f5deb.nii.gz'), PosixPath('/content/FirstDataset/train/ca187bff525d7dec725f61d48b3197d2.nii.gz'), PosixPath('/content/FirstDataset/train/4477e4f0690aecdc196490850a6cd365.nii.gz'), PosixPath('/content/FirstDataset/train/1d6b4d841c0b9d673ac93c397385a032.nii.gz'), PosixPath('/content/FirstDataset/train/2c46b1f3e0a39ad91ce6f8278a9bebc8.nii.gz'), PosixPath('/content/FirstDataset/train/83182c5425f81a4ab116d680ba4a27f9.nii.gz'), PosixPath('/content/FirstDataset/train/6d3e82944ef5fddaf3b9bfdcd146558b.nii.gz'), PosixPath('/content/FirstDataset/train/4413cec5c1990d1d851692e449e640d5.nii.gz'), PosixPath('/content/FirstDataset/train/99b2c32c2be258884475e30b5d116caa.nii.gz'), PosixPath('/content/FirstDataset/train/c972979d432532e1f3f01e4f7decc1c2.nii.gz'), PosixPath('/content/FirstDataset/train/b842c90ff5bd37be57e492c9395b51b0.nii.gz'), PosixPath('/content/SecondDataset/train/aa5bf5d54f569d92e8a129c49793981a/T1w.nii.gz'), PosixPath('/content/SecondDataset/train/3b37fbfa3d702aac69e12143a5146d42/T1w.nii.gz'), PosixPath('/content/FirstDataset/train/6f64f9b68b4dec682df15fe350b35102.nii.gz'), PosixPath('/content/FirstDataset/train/86a24279c3ff2eacdc3d2c35ee3d5e60.nii.gz'), PosixPath('/content/FirstDataset/train/cd4167e2a501785e47b611f2821c310f.nii.gz'), PosixPath('/content/FirstDataset/train/50e33dbbf1c955c80057c4584d64ff12.nii.gz'), PosixPath('/content/SecondDataset/train/5beab7b0ffe08d8651f3e3f52855031a/T1w.nii.gz'), PosixPath('/content/FirstDataset/train/b2810391eab3c44ca6980c0c57e7a5af.nii.gz'), PosixPath('/content/SecondDataset/train/6224b7f1a8b69b0b1e4967348cb64ed2/T1w.nii.gz'), PosixPath('/content/SecondDataset/train/c2f7c28901d7feb55b2656f56a844593/T1w.nii.gz'), PosixPath('/content/FirstDataset/train/decfc1342a45e9e4a474f4c0bc456273.nii.gz'), PosixPath('/content/SecondDataset/train/1455167b547e66418b3ed8e5d39ec329/T1w.nii.gz'), PosixPath('/content/FirstDataset/train/a00ab95d79e2b9e16a5681e7943bd745.nii.gz'), PosixPath('/content/FirstDataset/train/ae9ac1ba9049e8988834022ce42b7bb9.nii.gz'), PosixPath('/content/SecondDataset/train/80417c085fa81d7f4d8aeccdcaeae376/T1w.nii.gz'), PosixPath('/content/SecondDataset/train/54778eeec78208050bbd9629b9c9536a/T1w.nii.gz'), PosixPath('/content/FirstDataset/train/f2480c597c39845b9ba4d1d0714c3940.nii.gz'), PosixPath('/content/FirstDataset/train/74f0e19333da03bcc2df760ddefdae01.nii.gz'), PosixPath('/content/FirstDataset/train/2e95bc23d0d3d1b2fcb152b5d8e55a75.nii.gz'), PosixPath('/content/FirstDataset/train/105625ce5c645192e3c3ca78b7b32edb.nii.gz'), PosixPath('/content/SecondDataset/train/06163739ea16b5c6b66ab6eb4f9713dc/T1w.nii.gz'), PosixPath('/content/FirstDataset/train/a1ef050c5206ce323aaedb57a9b69305.nii.gz'), PosixPath('/content/SecondDataset/train/5a2a9458078204fdf66a088ec5756549/T1w.nii.gz'), PosixPath('/content/FirstDataset/train/633fc6f4b78b0fba7f735e2dda2634fc.nii.gz'), PosixPath('/content/FirstDataset/train/9af5021435c68e7aae86f678c9e6539c.nii.gz'), PosixPath('/content/SecondDataset/train/5aa71c806db24f1c9fa70a42665697eb/T1w.nii.gz'), PosixPath('/content/FirstDataset/train/dfd38769c966b7556de896154c0e065d.nii.gz'), PosixPath('/content/FirstDataset/train/69281e30720018d197d5813274700a51.nii.gz'), PosixPath('/content/SecondDataset/train/a77a722e6aeddf3cd4a3bb317934f913/T1w.nii.gz'), PosixPath('/content/FirstDataset/train/fcd7ef3c8ee90908fe01854bfc5ea1e5.nii.gz'), PosixPath('/content/SecondDataset/train/d84a7e8ed5cc39b684d7ff4799d179d6/T1w.nii.gz'), PosixPath('/content/FirstDataset/train/f8bff349c7db6300c31c0d32bcc499fc.nii.gz'), PosixPath('/content/SecondDataset/train/9917d828a41b0fb1985a9cbbc5d771b9/T1w.nii.gz'), PosixPath('/content/FirstDataset/train/92f452ba1020d4ed51e2463b95aafca0.nii.gz'), PosixPath('/content/SecondDataset/train/7b3d39b6bc79d693d45f3b78118ebb62/T1w.nii.gz'), PosixPath('/content/FirstDataset/train/7994d4852c0095c2575a4a88ba7bd072.nii.gz'), PosixPath('/content/FirstDataset/train/8d18fc4de6de7f22d2fbba86bb70abec.nii.gz'), PosixPath('/content/FirstDataset/train/b43c15aacf47859279260cdd3e529782.nii.gz'), PosixPath('/content/FirstDataset/train/b3fb10655decdd2a93bc0bed99d0137e.nii.gz'), PosixPath('/content/SecondDataset/train/ec18a0b1667119aa8dc3b9abeefe5dd7/T1w.nii.gz'), PosixPath('/content/FirstDataset/train/022161680299e1f3bea7169947dc45b6.nii.gz'), PosixPath('/content/FirstDataset/train/b68bc91bc100d28554c9649fc857c248.nii.gz'), PosixPath('/content/FirstDataset/train/688df41a73dd40e456ce384bfa1843b9.nii.gz'), PosixPath('/content/FirstDataset/train/f7423e8a2c40ac5093aa207bc180ca48.nii.gz'), PosixPath('/content/FirstDataset/train/cd877a3d2941cdd10b1e9e8034afdff9.nii.gz'), PosixPath('/content/FirstDataset/train/1e9d86cdfac8565a068016843e43ca75.nii.gz'), PosixPath('/content/FirstDataset/train/6c251e4f25b565b8658587c11f1965e0.nii.gz'), PosixPath('/content/SecondDataset/train/234ee1b402665d51cd8a61831fc1969e/T1w.nii.gz'), PosixPath('/content/FirstDataset/train/ccf75b11b57ab70f280da53252ff228a.nii.gz'), PosixPath('/content/FirstDataset/train/cffb3c1f11d75b137491d20bcb918025.nii.gz'), PosixPath('/content/SecondDataset/train/3b244166ae29a28acdb7ec2a0bf9b681/T1w.nii.gz'), PosixPath('/content/SecondDataset/train/7254ea2e55c4976eb0b0e9b735950b1f/T1w.nii.gz'), PosixPath('/content/FirstDataset/train/72af9a9a9d7f55ceedda2cf20d91a294.nii.gz'), PosixPath('/content/FirstDataset/train/475e37614b058943108666b8b117cc2d.nii.gz'), PosixPath('/content/SecondDataset/train/4a321624e7b8071554b8c07923f505d4/T1w.nii.gz'), PosixPath('/content/FirstDataset/train/230fc584dd1d830029c2541b92a9d706.nii.gz'), PosixPath('/content/FirstDataset/train/4ede7fbafcf1ce0925c0c6691080e69e.nii.gz'), PosixPath('/content/SecondDataset/train/957cba39d6eca2733b6fbe03d1a366ca/T1w.nii.gz'), PosixPath('/content/FirstDataset/train/5ffc5a2c9ce5c260a21f0914aa9d4844.nii.gz'), PosixPath('/content/FirstDataset/train/d5f2869ed9fb89a98557dab65a51d898.nii.gz'), PosixPath('/content/FirstDataset/train/dafd1cbae4b4e6d69b370aa262e52d2b.nii.gz'), PosixPath('/content/FirstDataset/train/77615dc4b68661aa9f68185d846960c1.nii.gz'), PosixPath('/content/FirstDataset/train/a1bbd1250b350ce51133430867006ebd.nii.gz'), PosixPath('/content/FirstDataset/train/facc52e047affeb776b57884c8cef041.nii.gz'), PosixPath('/content/FirstDataset/train/33cb6ae6baabe339e7e1d000cd8349af.nii.gz'), PosixPath('/content/SecondDataset/train/a647a086447ece0378e00fb41ac8ef23/T1w.nii.gz'), PosixPath('/content/FirstDataset/train/408ee94e66a846bf5fd82d0fa59b5006.nii.gz'), PosixPath('/content/FirstDataset/train/ff201212b8c2d041da9213e99ffb89f0.nii.gz'), PosixPath('/content/FirstDataset/train/5063fed39a27b0644e70bd23050a18e4.nii.gz'), PosixPath('/content/FirstDataset/train/d8b2e9621869d2a4fe010f9b420cb337.nii.gz'), PosixPath('/content/FirstDataset/train/a4668fc3679a7c87ad5b4ec5a8f0f959.nii.gz'), PosixPath('/content/FirstDataset/train/4574a48cdbd803e41eaedb4ad5284083.nii.gz'), PosixPath('/content/FirstDataset/train/914f96b7bdd547d65531841a6c2f893f.nii.gz'), PosixPath('/content/FirstDataset/train/117ced821b54b4a72be4c0ef73dabec0.nii.gz'), PosixPath('/content/FirstDataset/train/29f9752af4a89d20212221ba8bc6fded.nii.gz'), PosixPath('/content/FirstDataset/train/22d543ce52640dc545d993301b1dd114.nii.gz'), PosixPath('/content/FirstDataset/train/976e47d395894e0dcc56694083ed13aa.nii.gz'), PosixPath('/content/FirstDataset/train/7dfa3d525ea6603ae4e2dc76470de99a.nii.gz'), PosixPath('/content/SecondDataset/train/3ea72ad0706e3b5687212feac100e2cd/T1w.nii.gz'), PosixPath('/content/FirstDataset/train/e96195fe149896df48b784f3d3b93d4c.nii.gz'), PosixPath('/content/FirstDataset/train/cba0de8d5a8dd1271c50f593e32596c8.nii.gz'), PosixPath('/content/FirstDataset/train/58b85e25f66cf46d5ca46bdd861c79c9.nii.gz'), PosixPath('/content/FirstDataset/train/3900c1dfc0a74a16f209f64000e003ac.nii.gz'), PosixPath('/content/FirstDataset/train/d796e05f84bd2ec20b5f43d4277f47f8.nii.gz'), PosixPath('/content/SecondDataset/train/091725c4c2fb77b775f28f57884904ce/T1w.nii.gz'), PosixPath('/content/SecondDataset/train/1e9c819d320e6f79af9995bc21b35165/T1w.nii.gz'), PosixPath('/content/FirstDataset/train/9a996042b63b0d2a2514cb70f465284d.nii.gz'), PosixPath('/content/FirstDataset/train/317915fef2c5cbc2954100c7c7432a44.nii.gz'), PosixPath('/content/SecondDataset/train/275c200bdab34799fa76c3951e8e9805/T1w.nii.gz'), PosixPath('/content/FirstDataset/train/b70696ad0a9158805479026052367ffc.nii.gz'), PosixPath('/content/FirstDataset/train/e4e9650ecb68db7f61152bce3bf867d5.nii.gz'), PosixPath('/content/SecondDataset/train/5836dde5076e3d47f3cc259698db650b/T1w.nii.gz'), PosixPath('/content/FirstDataset/train/04e0e6ed0432fd737fd3f29fe551b77c.nii.gz'), PosixPath('/content/FirstDataset/train/e548487f1e639a320c32928f3e32b90e.nii.gz'), PosixPath('/content/SecondDataset/train/9284b04152ce02a73d7d1528ae692d6c/T1w.nii.gz'), PosixPath('/content/FirstDataset/train/5aee24cafae090c75bdb9976864b6b4a.nii.gz'), PosixPath('/content/FirstDataset/train/cd45d12102e1b3a3b098ef4fc0f7ba05.nii.gz'), PosixPath('/content/SecondDataset/train/e9dfaab97b75f3a630acc5bea6f681f1/T1w.nii.gz'), PosixPath('/content/FirstDataset/train/bb9f4f79ea935f0f2fe052845fb18916.nii.gz'), PosixPath('/content/FirstDataset/train/977cfe9bdcc649bfd2e75e0a8194f057.nii.gz'), PosixPath('/content/FirstDataset/train/58ffd96b09e7337b2eedd17762778b8c.nii.gz'), PosixPath('/content/FirstDataset/train/c21ae99f6b8260f1a520a3cc7ab469a2.nii.gz'), PosixPath('/content/FirstDataset/train/3da414bfe6aa91a2046547c0087b0ffa.nii.gz'), PosixPath('/content/FirstDataset/train/369737269ff35db09a49a0545d1031d7.nii.gz'), PosixPath('/content/FirstDataset/train/24805671584664e6c3339d8515ec0755.nii.gz'), PosixPath('/content/FirstDataset/train/ee1d2e5f3a6e9bf0dbbf6819217eb920.nii.gz'), PosixPath('/content/FirstDataset/train/b59effd5bb2c7958f6d7e9ab207cfe91.nii.gz'), PosixPath('/content/SecondDataset/train/ccf433f1d2da37630c0c770610f4bf73/T1w.nii.gz'), PosixPath('/content/FirstDataset/train/20667b7d5f8adc5ce2785e9d29d2b453.nii.gz'), PosixPath('/content/SecondDataset/train/328000174705ae263c249bf05fde0dcd/T1w.nii.gz'), PosixPath('/content/FirstDataset/train/ce921428838f6933d693415dbab8e55e.nii.gz'), PosixPath('/content/FirstDataset/train/e915a3dff4198ad13fe584d517dd76cb.nii.gz'), PosixPath('/content/SecondDataset/train/0496c2b3ee61801760bca149acd3ada6/T1w.nii.gz'), PosixPath('/content/FirstDataset/train/91fac31aee832d06eb34764281954b3c.nii.gz'), PosixPath('/content/SecondDataset/train/83aa841e1ed55aba5163ca10ce628202/T1w.nii.gz'), PosixPath('/content/FirstDataset/train/7a7f66d38dbe5c4e4c03ce13acbdc949.nii.gz'), PosixPath('/content/FirstDataset/train/3e4705f5e5420bfae3caaac2d1f4b2b3.nii.gz'), PosixPath('/content/FirstDataset/train/79533968f0b53a3f2e7537f17fc92519.nii.gz'), PosixPath('/content/FirstDataset/train/748e016a9433a595d7cd71f418d76b6d.nii.gz'), PosixPath('/content/FirstDataset/train/0b3ea09bb26b17af2b596e96875d2ca2.nii.gz'), PosixPath('/content/FirstDataset/train/4016eed02fb502d4352fc13013cc1bbc.nii.gz'), PosixPath('/content/FirstDataset/train/14e56328418c740eed3c9dacd5d1b889.nii.gz'), PosixPath('/content/FirstDataset/train/8e174ae4108e983350300b66c23c9400.nii.gz'), PosixPath('/content/FirstDataset/train/2fab3b0d1eb9f16ebf7c0171b5343d25.nii.gz'), PosixPath('/content/SecondDataset/train/a2a3a413217fed5cc09551422af36ccc/T1w.nii.gz'), PosixPath('/content/SecondDataset/train/4b05cc6510bd528c92b2be5490f93966/T1w.nii.gz'), PosixPath('/content/FirstDataset/train/c4efcd7c3d26f2cc802ff4e323717182.nii.gz'), PosixPath('/content/FirstDataset/train/fa24f2cec205b4162d27150096ad52e7.nii.gz'), PosixPath('/content/SecondDataset/train/743e552b9bfd9aa83a5d1a9801995782/T1w.nii.gz'), PosixPath('/content/FirstDataset/train/d48f1beaa21ffba24931f9b7fe5ffde0.nii.gz'), PosixPath('/content/FirstDataset/train/b733c96ae9806d2242522a805042c461.nii.gz'), PosixPath('/content/FirstDataset/train/ba49199eed46b6daf8d933170624e02d.nii.gz'), PosixPath('/content/SecondDataset/train/201768d5b5b61c2bb6c5aa73a3ca649d/T1w.nii.gz'), PosixPath('/content/SecondDataset/train/9c16aa40d8082b4bb2b14b4be153f393/T1w.nii.gz'), PosixPath('/content/FirstDataset/train/e1974dc1b6679e5554b2dc42edda265b.nii.gz'), PosixPath('/content/SecondDataset/train/ea2439dc3437b1964f3b4232edc4437d/T1w.nii.gz'), PosixPath('/content/SecondDataset/train/9d548b39dd3f0b4ffa1dcc4a422d34b2/T1w.nii.gz'), PosixPath('/content/SecondDataset/train/3883a099bd6e36829fa2146189e621ce/T1w.nii.gz'), PosixPath('/content/FirstDataset/train/f04ed51fee638fddcdd56fb7c5e373b9.nii.gz'), PosixPath('/content/FirstDataset/train/b5f3f3efa4d1b81f70e5a7b1c807b986.nii.gz'), PosixPath('/content/FirstDataset/train/91a954c383693f822338afbc82ab01cf.nii.gz'), PosixPath('/content/FirstDataset/train/339c167abec9d9f8650ad4d4227cd569.nii.gz'), PosixPath('/content/FirstDataset/train/c57cb6eb70fe279064ca3b51c3551a4e.nii.gz'), PosixPath('/content/FirstDataset/train/ac9bd32d1a6508116060143f9f8bf14c.nii.gz'), PosixPath('/content/SecondDataset/train/47e340c8a5d5d72746a74c7d681700d3/T1w.nii.gz'), PosixPath('/content/FirstDataset/train/e897087b0efd8d0cffcdbc1c56d47fc8.nii.gz'), PosixPath('/content/FirstDataset/train/5ed4f7043368444551c73b75be7bdd32.nii.gz'), PosixPath('/content/FirstDataset/train/39c1908e50f20cc3b0056f37a488a50f.nii.gz'), PosixPath('/content/FirstDataset/train/0187e4cb2fb4971848c8981e9ece0849.nii.gz'), PosixPath('/content/FirstDataset/train/389c6febb5679a4543a140ced9a9e723.nii.gz'), PosixPath('/content/FirstDataset/train/4b478332111404d5ee67d06cb8c01e74.nii.gz'), PosixPath('/content/FirstDataset/train/b6f5c586d6381579635b2f6d7d87a3f8.nii.gz'), PosixPath('/content/FirstDataset/train/27a4be33ffa50c310c9878bbd7003895.nii.gz'), PosixPath('/content/FirstDataset/train/ea5ec0092dc0b60e4289995d36aab4ef.nii.gz'), PosixPath('/content/FirstDataset/train/53b8991eefad27512c9d5def5f207859.nii.gz'), PosixPath('/content/FirstDataset/train/39a1b5e5ceffd15ce4ea7133c640cb02.nii.gz'), PosixPath('/content/FirstDataset/train/eb0492ee36ac7ece4d9aff7a3aa5e253.nii.gz'), PosixPath('/content/FirstDataset/train/d7ed74133749884f745c527baabcaeff.nii.gz'), PosixPath('/content/FirstDataset/train/13978bc02f30e15fbd521412784d8510.nii.gz'), PosixPath('/content/SecondDataset/train/51a9162e2538d22459501a260a16b006/T1w.nii.gz'), PosixPath('/content/FirstDataset/train/51313f5d602ae98daafe708a0d5d6cbe.nii.gz'), PosixPath('/content/FirstDataset/train/f59e44b743d941e8c6a4257efa92f7d4.nii.gz'), PosixPath('/content/FirstDataset/train/93a161dd0ab4eef03f2021b61ecbfe8c.nii.gz'), PosixPath('/content/SecondDataset/train/68a64b9a5d6856f706e2fceb300c9f0b/T1w.nii.gz'), PosixPath('/content/SecondDataset/train/ec22425c9e89b5272d1fd714da310703/T1w.nii.gz'), PosixPath('/content/FirstDataset/train/77ff0872fc2b9740169f9de1093f1c65.nii.gz'), PosixPath('/content/SecondDataset/train/3b5221a2a43fa38729b9724a3ed745c8/T1w.nii.gz'), PosixPath('/content/SecondDataset/train/d70c45d13fcef32c7cec4875c8ea8e3c/T1w.nii.gz'), PosixPath('/content/SecondDataset/train/568dffa0a6d793bb5e6474997f3c2105/T1w.nii.gz'), PosixPath('/content/FirstDataset/train/da4d02654aaf425dd506f5ae3065034a.nii.gz'), PosixPath('/content/FirstDataset/train/39cce6388f4c181e3eae029356ce81cf.nii.gz'), PosixPath('/content/FirstDataset/train/38d9b1568d6fcdad2fb93a029fd767e2.nii.gz'), PosixPath('/content/FirstDataset/train/98ef65090afe5ca57df160dad8b1c6bb.nii.gz'), PosixPath('/content/FirstDataset/train/ac24cb5775bef1a1a56814f6db6928d4.nii.gz'), PosixPath('/content/SecondDataset/train/f42e8dcfc72183009882e85a5c13efb7/T1w.nii.gz'), PosixPath('/content/FirstDataset/train/aa3eab8fa2c04cac7823919753b62f66.nii.gz'), PosixPath('/content/FirstDataset/train/96bc655a1cae4f2e482f0fe8e538bdb8.nii.gz'), PosixPath('/content/FirstDataset/train/3c552087b28359431988d43ee0a5e061.nii.gz'), PosixPath('/content/FirstDataset/train/37b59c6b064148f7106a3cbcaa61adeb.nii.gz'), PosixPath('/content/SecondDataset/train/89ab2a2184f4c717165a1d6762300a0c/T1w.nii.gz'), PosixPath('/content/FirstDataset/train/d1462b885b43a576baa0fcef700d03b3.nii.gz'), PosixPath('/content/FirstDataset/train/e2ce5b719c88ac6656aff908870c204b.nii.gz'), PosixPath('/content/FirstDataset/train/1ca7dda65596e2830245f8b5863aa32a.nii.gz'), PosixPath('/content/SecondDataset/train/4e218d62ea98b0387cd3877c3528ad23/T1w.nii.gz'), PosixPath('/content/FirstDataset/train/919d31ae18d73df7f123fd9697c6c597.nii.gz'), PosixPath('/content/FirstDataset/train/f77b934a9ad45529b213993a0c96f521.nii.gz'), PosixPath('/content/FirstDataset/train/ad512ea4ba7998880954b4f75d3c6838.nii.gz'), PosixPath('/content/SecondDataset/train/1dfd5a0c2a80a1539b1e61c43b0880d7/T1w.nii.gz'), PosixPath('/content/SecondDataset/train/88696561f10b40c903b086dc39a0ebad/T1w.nii.gz'), PosixPath('/content/FirstDataset/train/e57db4f1a53abd766c97d8e43a842897.nii.gz'), PosixPath('/content/SecondDataset/train/427ed4779c21001782ac2e752fa8c54b/T1w.nii.gz'), PosixPath('/content/FirstDataset/train/873ca863e7d5b6bf9e1bdb082d53a184.nii.gz'), PosixPath('/content/FirstDataset/train/755be9c7e1dfc007f88ea847e9a0cf51.nii.gz'), PosixPath('/content/FirstDataset/train/8a389b146940a12dbe188fe250665a7d.nii.gz'), PosixPath('/content/SecondDataset/train/ad203e853a51e28f809fbd06451988d0/T1w.nii.gz'), PosixPath('/content/FirstDataset/train/5a8610ea7222b57c17841df8d8605a5d.nii.gz'), PosixPath('/content/SecondDataset/train/daef3925a5488bf96994618eea68a0c8/T1w.nii.gz'), PosixPath('/content/FirstDataset/train/5121112e67777a6ef0279a2b0d0eab0a.nii.gz'), PosixPath('/content/SecondDataset/train/6dea5756aa47caf4b1c984d9c982946d/T1w.nii.gz'), PosixPath('/content/FirstDataset/train/bbd77c697f010fc06e094317a915ca93.nii.gz'), PosixPath('/content/FirstDataset/train/6c46b569f3b1adc391f17d11d216b547.nii.gz'), PosixPath('/content/SecondDataset/train/fb464c9a61b74bc983f8160988a09b7e/T1w.nii.gz'), PosixPath('/content/FirstDataset/train/1bd637ec336fd6bc752c5d57a6a93a80.nii.gz'), PosixPath('/content/FirstDataset/train/ab369ac55a48b689153d3ba522409830.nii.gz'), PosixPath('/content/FirstDataset/train/46b1cb48fd0adefcdf4cad3821a653ac.nii.gz'), PosixPath('/content/FirstDataset/train/5ffb2f4e39d099fc189ff6787408c3a1.nii.gz'), PosixPath('/content/FirstDataset/train/f1e5b1375baa55b625ec8ae3d29088f3.nii.gz'), PosixPath('/content/SecondDataset/train/972d90ef5ac8019dabd85d36c7cea75e/T1w.nii.gz'), PosixPath('/content/FirstDataset/train/5c49fb9a443e7b786c238427a327d5b7.nii.gz')]\n",
            "348\n",
            "[PosixPath('/content/SecondDataset/train/71be4353b96c7f51ab9118badc88e181/T1w.nii.gz'), PosixPath('/content/FirstDataset/train/2fa3623f2dd0b6f244844c816f012289.nii.gz'), PosixPath('/content/FirstDataset/train/3600b0c2de04973782eee6256d453fb3.nii.gz'), PosixPath('/content/SecondDataset/train/f8a6e51b9d4b8c0d1db579aec43f4d56/T1w.nii.gz'), PosixPath('/content/SecondDataset/train/29e9cc5252f20fccdc31f5b2498c2cea/T1w.nii.gz'), PosixPath('/content/FirstDataset/train/68b91fb712cd2c2a577a39966b9938b6.nii.gz'), PosixPath('/content/FirstDataset/train/64fc34796f18199faaf9cc60998c5bbb.nii.gz'), PosixPath('/content/SecondDataset/train/bce32491497655423e5af47a62bdcf95/T1w.nii.gz'), PosixPath('/content/FirstDataset/train/3a14401f2de9c2eb4fe22f2228f81309.nii.gz'), PosixPath('/content/FirstDataset/train/1cdd4ddcbd83403d890b14cb499776e5.nii.gz')]\n",
            "10\n"
          ],
          "name": "stdout"
        }
      ]
    },
    {
      "cell_type": "code",
      "metadata": {
        "id": "l-7OQl5NwzOm"
      },
      "source": [
        "for "
      ],
      "execution_count": null,
      "outputs": []
    },
    {
      "cell_type": "markdown",
      "metadata": {
        "id": "fDPrcVQzy34B"
      },
      "source": [
        "###Eksport to png"
      ]
    },
    {
      "cell_type": "markdown",
      "metadata": {
        "id": "w2Qg0vUbzbja"
      },
      "source": [
        "Template methods"
      ]
    },
    {
      "cell_type": "code",
      "metadata": {
        "id": "grIXGjAEza4Q"
      },
      "source": [
        "import numpy as np\n",
        "import nibabel as nib\n",
        "\n",
        "from typing import Tuple, List\n",
        "from pathlib import Path\n",
        "\n",
        "\n",
        "def load_raw_volume(path: Path) -> Tuple[np.ndarray, np.ndarray]:\n",
        "  data: nib.Nifti1Image = nib.load(str(path))\n",
        "  data = nib.as_closest_canonical(data)\n",
        "  raw_data = data.get_fdata(caching='unchanged', dtype=np.float32)\n",
        "  return raw_data, data.affine\n",
        "\n",
        "\n",
        "def load_labels_volume(path: Path) -> np.ndarray:\n",
        "  return load_raw_volume(path)[0].astype(np.uint8)\n",
        "\n",
        "\n",
        "def save_labels(data: np.ndarray, affine: np.ndarray, path: Path):\n",
        "  nib.save(nib.Nifti1Image(data, affine), str(path))\n",
        "\n",
        "\n",
        "def show_slices(slices: List[np.ndarray]):\n",
        "   fig, axes = plt.subplots(1, len(slices))\n",
        "   for i, data_slice in enumerate(slices):\n",
        "       axes[i].imshow(data_slice.T, cmap=\"gray\", origin=\"lower\")"
      ],
      "execution_count": 20,
      "outputs": []
    },
    {
      "cell_type": "markdown",
      "metadata": {
        "id": "YNh14hLCy6iW"
      },
      "source": [
        "Create dirs for images"
      ]
    },
    {
      "cell_type": "code",
      "metadata": {
        "id": "MkSoab3GXay4",
        "colab": {
          "base_uri": "https://localhost:8080/"
        },
        "outputId": "4cf947ad-fcb8-4ecf-ca3d-96c4a0b3677f"
      },
      "source": [
        ""
      ],
      "execution_count": 2,
      "outputs": [
        {
          "output_type": "stream",
          "text": [
            "Mounted at /content/drive\n"
          ],
          "name": "stdout"
        }
      ]
    },
    {
      "cell_type": "code",
      "metadata": {
        "id": "VImYHUU-wrVr",
        "colab": {
          "base_uri": "https://localhost:8080/"
        },
        "outputId": "a19259e7-6fb1-45b3-e4ed-e1a9f259cc47"
      },
      "source": [
        "print(\"test\")"
      ],
      "execution_count": 1,
      "outputs": [
        {
          "output_type": "stream",
          "text": [
            "test\n"
          ],
          "name": "stdout"
        }
      ]
    },
    {
      "cell_type": "code",
      "metadata": {
        "colab": {
          "base_uri": "https://localhost:8080/"
        },
        "id": "WPEbLLXBy3qQ",
        "outputId": "dffe483b-7ec9-4df2-8738-813502f83dc2"
      },
      "source": [
        "# !rm -rf FirstDataset_images\n",
        "\n",
        "# !mkdir /content/FirstDataset_images\n",
        "\n",
        "# !mkdir /content/FirstDataset_images/train\n",
        "# !mkdir /content/FirstDataset_images/train/images\n",
        "# !mkdir /content/FirstDataset_images/train/masks\n",
        "\n",
        "# !mkdir /content/FirstDataset_images/valid\n",
        "# !mkdir /content/FirstDataset_images/valid/images\n",
        "# !mkdir /content/FirstDataset_images/valid/masks\n",
        "\n",
        "!rm -rf /content/drive/MyDrive/FirstDataset_images\n",
        "\n",
        "!mkdir /content/drive/MyDrive/FirstDataset_images\n",
        "\n",
        "!mkdir /content/drive/MyDrive/FirstDataset_images/train\n",
        "!mkdir /content/drive/MyDrive/FirstDataset_images/train/images\n",
        "!mkdir /content/drive/MyDrive/FirstDataset_images/train/masks\n",
        "\n",
        "# #!rm -rf /content/drive/MyDrive/FirstDataset_images/valid\n",
        "!mkdir /content/drive/MyDrive/FirstDataset_images/valid\n",
        "!mkdir /content/drive/MyDrive/FirstDataset_images/valid/images\n",
        "!mkdir /content/drive/MyDrive/FirstDataset_images/valid/masks\n",
        "print(\"done\")"
      ],
      "execution_count": 28,
      "outputs": [
        {
          "output_type": "stream",
          "text": [
            "done\n"
          ],
          "name": "stdout"
        }
      ]
    },
    {
      "cell_type": "code",
      "metadata": {
        "id": "92fc0SVb7CYT"
      },
      "source": [
        "!mkdir /content/drive/MyDrive/FirstDataset_images/train/images/images\n",
        "!mkdir /content/drive/MyDrive/FirstDataset_images/train/masks/masks\n",
        "\n",
        "!mkdir /content/drive/MyDrive/FirstDataset_images/valid/images/images\n",
        "!mkdir /content/drive/MyDrive/FirstDataset_images/valid/masks/masks"
      ],
      "execution_count": null,
      "outputs": []
    },
    {
      "cell_type": "code",
      "metadata": {
        "id": "b3RgFWGlh9b0"
      },
      "source": [
        "!ls /content/drive/MyDrive/FirstDataset_images/valid/images/images"
      ],
      "execution_count": null,
      "outputs": []
    },
    {
      "cell_type": "markdown",
      "metadata": {
        "id": "t6AGYKrR4c6i"
      },
      "source": [
        "Export to png"
      ]
    },
    {
      "cell_type": "code",
      "metadata": {
        "id": "10ouG7EUyCxf"
      },
      "source": [
        "!mkdir /content/drive/MyDrive/Test_images\n",
        "!mkdir /content/drive/MyDrive/Test_images/test"
      ],
      "execution_count": null,
      "outputs": []
    },
    {
      "cell_type": "code",
      "metadata": {
        "colab": {
          "base_uri": "https://localhost:8080/",
          "height": 443
        },
        "id": "DJzVXgexySTw",
        "outputId": "77299e77-3d0f-44bb-826e-6bc19486954e"
      },
      "source": [
        "import matplotlib\n",
        "import cv2\n",
        "\n",
        "first_dataset_train_path = Path('/content/FirstDataset/train2')\n",
        "first_dataset_image_train_path = '/content/drive/MyDrive/Test_images/test/'\n",
        "\n",
        "for scan_path in first_dataset_train_path.iterdir():\n",
        "  print(scan_path)\n",
        "\n",
        "  if scan_path.name.endswith('mask.nii.gz'):\n",
        "    pass\n",
        "  else:\n",
        "    raw_volume, affine = load_raw_volume(scan_path)\n",
        "    volume_max = np.amax(raw_volume)\n",
        "    volume_min = np.amin(raw_volume)\n",
        "\n",
        "    for idx in range(raw_volume.shape[0]):\n",
        "      path = f'{first_dataset_image_train_path}{scan_path.name}_{100}_.png'\n",
        "\n",
        "      volume = (raw_volume[100]-volume_min)/(volume_max-volume_min)\n",
        "      volume = volume*255\n",
        "      volume = volume.astype('uint8')\n",
        "\n",
        "\n",
        "      print(volume)\n",
        "      print(type(volume))\n",
        "      print(np.shape(volume))\n",
        "\n",
        "      plt.imshow(volume, vmin=0, vmax=255)\n",
        "      plt.imsave(path, volume)\n",
        "      # matplotlib.image.imsave(path, volume,  vmin=0, vmax=255)\n",
        "      break\n",
        "    break\n",
        "\n"
      ],
      "execution_count": 25,
      "outputs": [
        {
          "output_type": "stream",
          "text": [
            "/content/FirstDataset/train2/58f4e1954e11a28da97e9aa62e5f5deb.nii.gz\n",
            "[[1 2 1 ... 0 0 0]\n",
            " [0 2 2 ... 0 0 0]\n",
            " [0 3 4 ... 1 0 0]\n",
            " ...\n",
            " [5 5 0 ... 1 1 0]\n",
            " [3 2 4 ... 1 1 0]\n",
            " [0 0 0 ... 0 0 0]]\n",
            "<class 'numpy.ndarray'>\n",
            "(256, 256)\n"
          ],
          "name": "stdout"
        },
        {
          "output_type": "display_data",
          "data": {
            "image/png": "[encoded data removed]",
            "text/plain": [
              "<Figure size 432x288 with 1 Axes>"
            ]
          },
          "metadata": {
            "tags": [],
            "needs_background": "light"
          }
        }
      ]
    },
    {
      "cell_type": "code",
      "metadata": {
        "id": "BXUByHFqzwwL"
      },
      "source": [
        "import numpy as np\n",
        "import cv2\n",
        "from google.colab.patches import cv2_imshow\n",
        "\n",
        "img = cv2.imread('/content/drive/MyDrive/Test_images/test/58f4e1954e11a28da97e9aa62e5f5deb.nii.gz_100_.png')\n",
        "print(img)\n",
        "print(type(img))\n",
        "print(np.shape(img))\n",
        "plt.imshow(img)"
      ],
      "execution_count": null,
      "outputs": []
    },
    {
      "cell_type": "code",
      "metadata": {
        "id": "jlyOMNXZYZSy"
      },
      "source": [
        "import numpy as np\n",
        "\n",
        "\n",
        "img = plt.imread('/content/drive/MyDrive/Test_images/test/58f4e1954e11a28da97e9aa62e5f5deb.nii.gz_100_.png')\n",
        "\n",
        "print(img)\n",
        "print(np.shape(img))\n",
        "plt.imshow(img)"
      ],
      "execution_count": null,
      "outputs": []
    },
    {
      "cell_type": "code",
      "metadata": {
        "id": "DEvnrZUXKccT"
      },
      "source": [
        "def raw_volume_to_png():\n",
        "  pass"
      ],
      "execution_count": null,
      "outputs": []
    },
    {
      "cell_type": "code",
      "metadata": {
        "id": "ZKfmAV5P0Cdh"
      },
      "source": [
        "import matplotlib.pyplot as plt\n",
        "import cv2\n",
        "\n",
        "\n",
        "first_dataset_train_path = Path('/content/FirstDataset/train2')\n",
        "first_dataset_image_train_path = '/content/drive/MyDrive/FirstDataset_images/train/images/images/'\n",
        "first_dataset_mask_train_path = '/content/drive/MyDrive/FirstDataset_images/train/masks/masks/'\n",
        "\n",
        "\n",
        "for scan_path in first_dataset_train_path.iterdir():\n",
        "\n",
        "  print(scan_path)\n",
        "  \n",
        "  if scan_path.name.endswith('mask.nii.gz'):\n",
        "    mask_volume = load_labels_volume(scan_path)\n",
        "    volume_max = np.amax(mask_volume)\n",
        "    volume_min = np.amin(mask_volume)\n",
        "\n",
        "    for idx in range(mask_volume.shape[0]):\n",
        "      path = f'{first_dataset_mask_train_path}{scan_path.name}_{idx}_.png'\n",
        "\n",
        "      volume = (mask_volume[idx]-volume_min)/(volume_max-volume_min)\n",
        "      volume = volume*255\n",
        "      volume = volume.astype('int32')\n",
        "      # print(volume[0])\n",
        "      plt.imsave(path, volume)\n",
        "\n",
        "  else:\n",
        "\n",
        "    raw_volume, affine = load_raw_volume(scan_path)\n",
        "    volume_max = np.amax(raw_volume)\n",
        "    volume_min = np.amin(raw_volume)\n",
        "\n",
        "    for idx in range(raw_volume.shape[0]):\n",
        "      path = f'{first_dataset_image_train_path}{scan_path.name}_{idx}_.png'\n",
        "\n",
        "      volume = (raw_volume[idx]-volume_min)/(volume_max-volume_min)\n",
        "      volume = volume*255\n",
        "      volume = volume.astype('int32')\n",
        "\n",
        "      # print(volume[0])\n",
        "      # plt.imshow(volume, vmin=0, vmax=255)\n",
        "      # break\n",
        "\n",
        "      plt.imsave(path, volume)\n",
        "\n",
        "#     # break\n",
        "    \n",
        "\n",
        "print(\"TRAIN DATASET FINISHED\")\n",
        "\n",
        "first_dataset_valid_path = Path('/content/FirstDataset/valid')\n",
        "first_dataset_image_valid_path = '/content/drive/MyDrive/FirstDataset_images/valid/images/images/'\n",
        "first_dataset_mask_valid_path = '/content/drive/MyDrive/FirstDataset_images/valid/masks/masks/'\n",
        "\n",
        "for scan_path in first_dataset_valid_path.iterdir():\n",
        "  print(scan_path)\n",
        "  \n",
        "\n",
        "  if scan_path.name.endswith('mask.nii.gz'):\n",
        "    mask_volume = load_labels_volume(scan_path)\n",
        "\n",
        "    volume_max = np.amax(mask_volume)\n",
        "    volume_min = np.amin(mask_volume)\n",
        "\n",
        "    for idx in range(mask_volume.shape[0]):\n",
        "      path = f'{first_dataset_mask_valid_path}{scan_path.name}_{idx}_.png'\n",
        "\n",
        "      volume = (mask_volume[idx]-volume_min)/(volume_max-volume_min)\n",
        "      volume = volume*255\n",
        "      volume = volume.astype('int32')\n",
        "\n",
        "      plt.imsave(path, volume)\n",
        "\n",
        "  else:\n",
        "    raw_volume, affine = load_raw_volume(scan_path)\n",
        "    volume_max = np.amax(raw_volume)\n",
        "    volume_min = np.amin(raw_volume)\n",
        "\n",
        "    for idx in range(raw_volume.shape[0]):\n",
        "      path = f'{first_dataset_image_valid_path}{scan_path.name}_{idx}_.png'\n",
        "\n",
        "      volume = (raw_volume[idx]-volume_min)/(volume_max-volume_min)\n",
        "      volume = volume*255\n",
        "      volume = volume.astype('int32')\n",
        "\n",
        "      plt.imsave(path, volume)\n",
        "\n",
        "\n",
        "print(\"VALID DATASET FINISHED\")\n"
      ],
      "execution_count": null,
      "outputs": []
    },
    {
      "cell_type": "code",
      "metadata": {
        "id": "UdzeRy_bkXro"
      },
      "source": [
        "!ls /content/drive/MyDrive/FirstDataset_images/train/masks/masks\n"
      ],
      "execution_count": null,
      "outputs": []
    },
    {
      "cell_type": "code",
      "metadata": {
        "id": "DFhQfL-K0TQq"
      },
      "source": [
        "!ls /content/drive/MyDrive/FirstDataset_images/valid/masks/masks"
      ],
      "execution_count": null,
      "outputs": []
    },
    {
      "cell_type": "code",
      "metadata": {
        "colab": {
          "base_uri": "https://localhost:8080/"
        },
        "id": "BdoH7y7izsZW",
        "outputId": "a9cf5274-b43a-4cab-e5d9-992c3a713bcd"
      },
      "source": [
        "print('test')"
      ],
      "execution_count": null,
      "outputs": [
        {
          "output_type": "stream",
          "text": [
            "test\n"
          ],
          "name": "stdout"
        }
      ]
    },
    {
      "cell_type": "code",
      "metadata": {
        "colab": {
          "base_uri": "https://localhost:8080/"
        },
        "id": "WmUC23wrxKvk",
        "outputId": "b64cdf16-1a7e-4b5e-a62f-36a212973986"
      },
      "source": [
        "\n",
        "# train\n",
        "# !mkdir /content/drive/MyDrive/FirstDataset_images/train/images/images\n",
        "# !mv /content/drive/MyDrive/FirstDataset_images/train/images/*.png /content/drive/MyDrive/FirstDataset_images/train/images/images\n",
        "\n",
        "# !!mkdir /content/drive/MyDrive/FirstDataset_images/train/masks/masks\n",
        "# !mv /content/drive/MyDrive/FirstDataset_images/train/masks/*.png /content/drive/MyDrive/FirstDataset_images/train/masks/masks\n",
        "\n",
        "# valid\n",
        "# !mkdir /content/drive/MyDrive/FirstDataset_images/valid/images/images\n",
        "# !mv /content/drive/MyDrive/FirstDataset_images/valid/images/*.png /content/drive/MyDrive/FirstDataset_images/valid/images/images\n",
        "\n",
        "# !!mkdir /content/drive/MyDrive/FirstDataset_images/valid/masks/masks\n",
        "# !mv /content/drive/MyDrive/FirstDataset_images/valid/masks/*.png /content/drive/MyDrive/FirstDataset_images/valid/masks/masks\n",
        "\n"
      ],
      "execution_count": null,
      "outputs": [
        {
          "output_type": "stream",
          "text": [
            "mkdir: cannot create directory ‘/content/drive/MyDrive/FirstDataset_images/train/images/images’: File exists\n",
            "/bin/bash: /bin/mv: Argument list too long\n",
            "/bin/bash: /bin/mv: Argument list too long\n"
          ],
          "name": "stdout"
        }
      ]
    },
    {
      "cell_type": "code",
      "metadata": {
        "id": "g6WAkf-7su7G"
      },
      "source": [
        "import tensorflow as tf\n",
        "# from segmentation_models import get_preprocessing\n",
        "\n",
        "\n",
        "# preprocesing_function = get_preprocessing('efficientnetb0')\n",
        "\n",
        "augmentations = dict(horizontal_flip=True)\n",
        "\n",
        "images_datagen = tf.keras.preprocessing.image.ImageDataGenerator(\n",
        "    # preprocessing_function=preprocesing_function,\n",
        "    # rescale = 1/255,\n",
        "    )\n",
        "\n",
        "mask_datagen = tf.keras.preprocessing.image.ImageDataGenerator( )"
      ],
      "execution_count": 3,
      "outputs": []
    },
    {
      "cell_type": "code",
      "metadata": {
        "colab": {
          "base_uri": "https://localhost:8080/"
        },
        "id": "Ubs7wwNenQQf",
        "outputId": "3417c983-17dc-4fc3-d2e1-d793d2e53024"
      },
      "source": [
        "import tensorflow as tf\n",
        "# from segmentation_models import get_preprocessing\n",
        "\n",
        "\n",
        "batch_size = 128\n",
        "# preprocesing_function = get_preprocessing('efficientnetb0')\n",
        "\n",
        "\n",
        "train_images_generator = images_datagen.flow_from_directory(\n",
        "    '/content/drive/MyDrive/FirstDataset_images/train/images',\n",
        "    target_size=(64, 64),\n",
        "    batch_size=batch_size,\n",
        "    seed=42,\n",
        "    interpolation='bilinear',\n",
        "    class_mode=None,\n",
        "    # subset = 'training'\n",
        "    )\n",
        "\n",
        "\n",
        "\n",
        "train_mask_generator = mask_datagen.flow_from_directory(\n",
        "    '/content/drive/MyDrive/FirstDataset_images/train/masks',\n",
        "     target_size=(64, 64),\n",
        "     batch_size=batch_size,\n",
        "     seed=42,\n",
        "     class_mode=None\n",
        "    #  subset = 'training'\n",
        "    )\n",
        "\n",
        "val_images_generator = images_datagen.flow_from_directory(\n",
        "    '/content/drive/MyDrive/FirstDataset_images/valid/images',\n",
        "    target_size=(64, 64),\n",
        "    batch_size=batch_size,\n",
        "    seed=42,\n",
        "    interpolation='bilinear',\n",
        "    class_mode=None\n",
        "    # subset = 'validation'\n",
        "    )\n",
        "\n",
        "\n",
        "\n",
        "val_mask_generator = mask_datagen.flow_from_directory(\n",
        "    '/content/drive/MyDrive/FirstDataset_images/valid/masks',\n",
        "     target_size=(64, 64),\n",
        "     batch_size=batch_size,\n",
        "     seed=42,\n",
        "     class_mode=None\n",
        "    #  subset = 'validation'\n",
        "    )\n",
        "\n",
        "train_combined_generator = zip(train_images_generator, train_mask_generator)\n",
        "val_combined_generator = zip(val_images_generator, val_mask_generator)\n",
        "\n",
        "\n"
      ],
      "execution_count": 4,
      "outputs": [
        {
          "output_type": "stream",
          "text": [
            "Found 23338 images belonging to 1 classes.\n",
            "Found 23338 images belonging to 1 classes.\n",
            "Found 10669 images belonging to 1 classes.\n",
            "Found 11207 images belonging to 1 classes.\n"
          ],
          "name": "stdout"
        }
      ]
    },
    {
      "cell_type": "code",
      "metadata": {
        "id": "TUbYcdHMIeDP"
      },
      "source": [
        "joined_generator = zip(train_images_generator, train_mask_generator)"
      ],
      "execution_count": 5,
      "outputs": []
    },
    {
      "cell_type": "code",
      "metadata": {
        "id": "p1Sx7RtxIhrK"
      },
      "source": [
        "import matplotlib.pyplot as plt\n",
        "import numpy as np\n",
        "\n",
        "images,masks = next(joined_generator)\n",
        "# print(np.shape(images[0]))\n",
        "# print(images[0])\n",
        "fig = plt.figure()\n",
        "print(images[0])\n",
        "fig.add_subplot(1, 2, 1)\n",
        "plt.imshow(images[0].astype(int))\n",
        "fig.add_subplot(1, 2, 2)\n",
        "plt.imshow(masks[0].astype(int))"
      ],
      "execution_count": null,
      "outputs": []
    },
    {
      "cell_type": "code",
      "metadata": {
        "colab": {
          "base_uri": "https://localhost:8080/"
        },
        "id": "5XAObqfWbLl6",
        "outputId": "578bfa09-7f0d-44c4-e3fb-e997dc7447b8"
      },
      "source": [
        "# segmentation_models nie jest domyślnie zainstalowane w Colabie\n",
        "!pip install segmentation_models"
      ],
      "execution_count": 1,
      "outputs": [
        {
          "output_type": "stream",
          "text": [
            "Requirement already satisfied: segmentation_models in /usr/local/lib/python3.6/dist-packages (1.0.1)\n",
            "Requirement already satisfied: efficientnet==1.0.0 in /usr/local/lib/python3.6/dist-packages (from segmentation_models) (1.0.0)\n",
            "Requirement already satisfied: image-classifiers==1.0.0 in /usr/local/lib/python3.6/dist-packages (from segmentation_models) (1.0.0)\n",
            "Requirement already satisfied: keras-applications<=1.0.8,>=1.0.7 in /usr/local/lib/python3.6/dist-packages (from segmentation_models) (1.0.8)\n",
            "Requirement already satisfied: scikit-image in /usr/local/lib/python3.6/dist-packages (from efficientnet==1.0.0->segmentation_models) (0.16.2)\n",
            "Requirement already satisfied: numpy>=1.9.1 in /usr/local/lib/python3.6/dist-packages (from keras-applications<=1.0.8,>=1.0.7->segmentation_models) (1.19.5)\n",
            "Requirement already satisfied: h5py in /usr/local/lib/python3.6/dist-packages (from keras-applications<=1.0.8,>=1.0.7->segmentation_models) (2.10.0)\n",
            "Requirement already satisfied: networkx>=2.0 in /usr/local/lib/python3.6/dist-packages (from scikit-image->efficientnet==1.0.0->segmentation_models) (2.5)\n",
            "Requirement already satisfied: PyWavelets>=0.4.0 in /usr/local/lib/python3.6/dist-packages (from scikit-image->efficientnet==1.0.0->segmentation_models) (1.1.1)\n",
            "Requirement already satisfied: imageio>=2.3.0 in /usr/local/lib/python3.6/dist-packages (from scikit-image->efficientnet==1.0.0->segmentation_models) (2.4.1)\n",
            "Requirement already satisfied: scipy>=0.19.0 in /usr/local/lib/python3.6/dist-packages (from scikit-image->efficientnet==1.0.0->segmentation_models) (1.4.1)\n",
            "Requirement already satisfied: matplotlib!=3.0.0,>=2.0.0 in /usr/local/lib/python3.6/dist-packages (from scikit-image->efficientnet==1.0.0->segmentation_models) (3.2.2)\n",
            "Requirement already satisfied: pillow>=4.3.0 in /usr/local/lib/python3.6/dist-packages (from scikit-image->efficientnet==1.0.0->segmentation_models) (7.0.0)\n",
            "Requirement already satisfied: six in /usr/local/lib/python3.6/dist-packages (from h5py->keras-applications<=1.0.8,>=1.0.7->segmentation_models) (1.15.0)\n",
            "Requirement already satisfied: decorator>=4.3.0 in /usr/local/lib/python3.6/dist-packages (from networkx>=2.0->scikit-image->efficientnet==1.0.0->segmentation_models) (4.4.2)\n",
            "Requirement already satisfied: cycler>=0.10 in /usr/local/lib/python3.6/dist-packages (from matplotlib!=3.0.0,>=2.0.0->scikit-image->efficientnet==1.0.0->segmentation_models) (0.10.0)\n",
            "Requirement already satisfied: python-dateutil>=2.1 in /usr/local/lib/python3.6/dist-packages (from matplotlib!=3.0.0,>=2.0.0->scikit-image->efficientnet==1.0.0->segmentation_models) (2.8.1)\n",
            "Requirement already satisfied: kiwisolver>=1.0.1 in /usr/local/lib/python3.6/dist-packages (from matplotlib!=3.0.0,>=2.0.0->scikit-image->efficientnet==1.0.0->segmentation_models) (1.3.1)\n",
            "Requirement already satisfied: pyparsing!=2.0.4,!=2.1.2,!=2.1.6,>=2.0.1 in /usr/local/lib/python3.6/dist-packages (from matplotlib!=3.0.0,>=2.0.0->scikit-image->efficientnet==1.0.0->segmentation_models) (2.4.7)\n"
          ],
          "name": "stdout"
        }
      ]
    },
    {
      "cell_type": "code",
      "metadata": {
        "colab": {
          "base_uri": "https://localhost:8080/"
        },
        "id": "eHYyJO3ebQSS",
        "outputId": "b0f487df-34c7-47fd-e880-66d46138f0b6"
      },
      "source": [
        "%env SM_FRAMEWORK=tf.keras"
      ],
      "execution_count": 2,
      "outputs": [
        {
          "output_type": "stream",
          "text": [
            "env: SM_FRAMEWORK=tf.keras\n"
          ],
          "name": "stdout"
        }
      ]
    },
    {
      "cell_type": "code",
      "metadata": {
        "id": "ZID650yfbT-E"
      },
      "source": [
        "from segmentation_models import Unet\n",
        "# import segmentation_models. as smp\n",
        "\n",
        "\n",
        "model = Unet('efficientnetb1', classes=1, activation='sigmoid', encoder_weights='imagenet', encoder_freeze=True)\n"
      ],
      "execution_count": 10,
      "outputs": []
    },
    {
      "cell_type": "code",
      "metadata": {
        "id": "4rE55nmPFiK5"
      },
      "source": [
        "model.summary()"
      ],
      "execution_count": null,
      "outputs": []
    },
    {
      "cell_type": "code",
      "metadata": {
        "colab": {
          "base_uri": "https://localhost:8080/"
        },
        "id": "L07h2WjLbVxR",
        "outputId": "4d1c9d02-4190-4316-ff4d-1a865feb5cd4"
      },
      "source": [
        "model.compile(\n",
        "    optimizer=tf.keras.optimizers.Adam(lr=3e-4),\n",
        "    loss=tf.keras.losses.BinaryCrossentropy(),\n",
        "    metrics=[tf.keras.metrics.BinaryAccuracy()]\n",
        ")\n",
        "\n",
        "\n",
        "training_samples = train_images_generator.n\n",
        "validation_samples = val_images_generator.n\n",
        "\n",
        "batch_size = 16\n",
        "validaton_batch_size = 32\n",
        "\n",
        "model.fit(\n",
        "    train_combined_generator, \n",
        "    steps_per_epoch=training_samples // batch_size,\n",
        "    # batch_size=16,\n",
        "    # validation_data = val_combined_generator,\n",
        "    # validation_steps = validation_samples // validaton_batch_size,\n",
        "    epochs=20,\n",
        "    use_multiprocessing=True,\n",
        "    verbose=1\n",
        ")"
      ],
      "execution_count": null,
      "outputs": [
        {
          "output_type": "stream",
          "text": [
            "Epoch 1/20\n",
            "WARNING:tensorflow:multiprocessing can interact badly with TensorFlow, causing nondeterministic deadlocks. For high performance data pipelines tf.data is recommended.\n",
            "  39/1458 [..............................] - ETA: 27:22:32 - loss: -89.7921 - binary_accuracy: 0.1919"
          ],
          "name": "stdout"
        },
        {
          "output_type": "stream",
          "text": [
            "Process Keras_worker_ForkPoolWorker-1:\n",
            "Traceback (most recent call last):\n",
            "  File \"/usr/lib/python3.6/multiprocessing/process.py\", line 258, in _bootstrap\n",
            "    self.run()\n",
            "  File \"/usr/lib/python3.6/multiprocessing/process.py\", line 93, in run\n",
            "    self._target(*self._args, **self._kwargs)\n",
            "  File \"/usr/lib/python3.6/multiprocessing/pool.py\", line 119, in worker\n",
            "    result = (True, func(*args, **kwds))\n",
            "  File \"/usr/local/lib/python3.6/dist-packages/tensorflow/python/keras/utils/data_utils.py\", line 831, in next_sample\n",
            "    return six.next(_SHARED_SEQUENCES[uid])\n",
            "  File \"/usr/local/lib/python3.6/dist-packages/keras_preprocessing/image/iterator.py\", line 104, in __next__\n",
            "    return self.next(*args, **kwargs)\n",
            "  File \"/usr/local/lib/python3.6/dist-packages/keras_preprocessing/image/iterator.py\", line 116, in next\n",
            "    return self._get_batches_of_transformed_samples(index_array)\n",
            "  File \"/usr/local/lib/python3.6/dist-packages/keras_preprocessing/image/iterator.py\", line 230, in _get_batches_of_transformed_samples\n",
            "    interpolation=self.interpolation)\n",
            "  File \"/usr/local/lib/python3.6/dist-packages/keras_preprocessing/image/utils.py\", line 114, in load_img\n",
            "    img = pil_image.open(io.BytesIO(f.read()))\n",
            "KeyboardInterrupt\n",
            "Process Keras_worker_ForkPoolWorker-2:\n",
            "Traceback (most recent call last):\n",
            "  File \"/usr/lib/python3.6/multiprocessing/process.py\", line 258, in _bootstrap\n",
            "    self.run()\n",
            "  File \"/usr/lib/python3.6/multiprocessing/process.py\", line 93, in run\n",
            "    self._target(*self._args, **self._kwargs)\n",
            "  File \"/usr/lib/python3.6/multiprocessing/pool.py\", line 108, in worker\n",
            "    task = get()\n",
            "  File \"/usr/lib/python3.6/multiprocessing/queues.py\", line 335, in get\n",
            "    res = self._reader.recv_bytes()\n",
            "  File \"/usr/lib/python3.6/multiprocessing/connection.py\", line 216, in recv_bytes\n",
            "    buf = self._recv_bytes(maxlength)\n",
            "  File \"/usr/lib/python3.6/multiprocessing/connection.py\", line 407, in _recv_bytes\n",
            "    buf = self._recv(4)\n",
            "  File \"/usr/lib/python3.6/multiprocessing/connection.py\", line 379, in _recv\n",
            "    chunk = read(handle, remaining)\n",
            "KeyboardInterrupt\n",
            "Process Keras_worker_ForkPoolWorker-3:\n",
            "Traceback (most recent call last):\n",
            "  File \"/usr/lib/python3.6/multiprocessing/process.py\", line 258, in _bootstrap\n",
            "    self.run()\n",
            "  File \"/usr/lib/python3.6/multiprocessing/process.py\", line 93, in run\n",
            "    self._target(*self._args, **self._kwargs)\n",
            "  File \"/usr/lib/python3.6/multiprocessing/pool.py\", line 108, in worker\n",
            "    task = get()\n",
            "  File \"/usr/lib/python3.6/multiprocessing/queues.py\", line 335, in get\n",
            "    res = self._reader.recv_bytes()\n",
            "  File \"/usr/lib/python3.6/multiprocessing/connection.py\", line 216, in recv_bytes\n",
            "    buf = self._recv_bytes(maxlength)\n",
            "  File \"/usr/lib/python3.6/multiprocessing/connection.py\", line 407, in _recv_bytes\n",
            "    buf = self._recv(4)\n",
            "  File \"/usr/lib/python3.6/multiprocessing/connection.py\", line 379, in _recv\n",
            "    chunk = read(handle, remaining)\n",
            "KeyboardInterrupt\n",
            "Process Keras_worker_ForkPoolWorker-4:\n",
            "Traceback (most recent call last):\n",
            "  File \"/usr/lib/python3.6/multiprocessing/process.py\", line 258, in _bootstrap\n",
            "    self.run()\n",
            "  File \"/usr/lib/python3.6/multiprocessing/process.py\", line 93, in run\n",
            "    self._target(*self._args, **self._kwargs)\n",
            "  File \"/usr/lib/python3.6/multiprocessing/pool.py\", line 108, in worker\n",
            "    task = get()\n",
            "  File \"/usr/lib/python3.6/multiprocessing/queues.py\", line 335, in get\n",
            "    res = self._reader.recv_bytes()\n",
            "  File \"/usr/lib/python3.6/multiprocessing/connection.py\", line 216, in recv_bytes\n",
            "    buf = self._recv_bytes(maxlength)\n",
            "  File \"/usr/lib/python3.6/multiprocessing/connection.py\", line 407, in _recv_bytes\n",
            "    buf = self._recv(4)\n",
            "  File \"/usr/lib/python3.6/multiprocessing/connection.py\", line 379, in _recv\n",
            "    chunk = read(handle, remaining)\n",
            "KeyboardInterrupt\n",
            "Process Keras_worker_ForkPoolWorker-5:\n",
            "Traceback (most recent call last):\n",
            "  File \"/usr/lib/python3.6/multiprocessing/process.py\", line 258, in _bootstrap\n",
            "    self.run()\n",
            "  File \"/usr/lib/python3.6/multiprocessing/process.py\", line 93, in run\n",
            "    self._target(*self._args, **self._kwargs)\n",
            "  File \"/usr/lib/python3.6/multiprocessing/pool.py\", line 108, in worker\n",
            "    task = get()\n",
            "  File \"/usr/lib/python3.6/multiprocessing/queues.py\", line 335, in get\n",
            "    res = self._reader.recv_bytes()\n",
            "  File \"/usr/lib/python3.6/multiprocessing/connection.py\", line 216, in recv_bytes\n",
            "    buf = self._recv_bytes(maxlength)\n",
            "  File \"/usr/lib/python3.6/multiprocessing/connection.py\", line 407, in _recv_bytes\n",
            "    buf = self._recv(4)\n",
            "  File \"/usr/lib/python3.6/multiprocessing/connection.py\", line 379, in _recv\n",
            "    chunk = read(handle, remaining)\n",
            "KeyboardInterrupt\n",
            "Process Keras_worker_ForkPoolWorker-6:\n",
            "Traceback (most recent call last):\n",
            "  File \"/usr/lib/python3.6/multiprocessing/process.py\", line 258, in _bootstrap\n",
            "    self.run()\n",
            "  File \"/usr/lib/python3.6/multiprocessing/process.py\", line 93, in run\n",
            "    self._target(*self._args, **self._kwargs)\n",
            "  File \"/usr/lib/python3.6/multiprocessing/pool.py\", line 108, in worker\n",
            "    task = get()\n",
            "  File \"/usr/lib/python3.6/multiprocessing/queues.py\", line 335, in get\n",
            "    res = self._reader.recv_bytes()\n",
            "  File \"/usr/lib/python3.6/multiprocessing/connection.py\", line 216, in recv_bytes\n",
            "    buf = self._recv_bytes(maxlength)\n",
            "  File \"/usr/lib/python3.6/multiprocessing/connection.py\", line 407, in _recv_bytes\n",
            "    buf = self._recv(4)\n",
            "  File \"/usr/lib/python3.6/multiprocessing/connection.py\", line 379, in _recv\n",
            "    chunk = read(handle, remaining)\n",
            "KeyboardInterrupt\n",
            "Process Keras_worker_ForkPoolWorker-7:\n",
            "Traceback (most recent call last):\n",
            "  File \"/usr/lib/python3.6/multiprocessing/process.py\", line 258, in _bootstrap\n",
            "    self.run()\n",
            "  File \"/usr/lib/python3.6/multiprocessing/process.py\", line 93, in run\n",
            "    self._target(*self._args, **self._kwargs)\n",
            "  File \"/usr/lib/python3.6/multiprocessing/pool.py\", line 108, in worker\n",
            "    task = get()\n",
            "  File \"/usr/lib/python3.6/multiprocessing/queues.py\", line 335, in get\n",
            "    res = self._reader.recv_bytes()\n",
            "  File \"/usr/lib/python3.6/multiprocessing/connection.py\", line 216, in recv_bytes\n",
            "    buf = self._recv_bytes(maxlength)\n",
            "  File \"/usr/lib/python3.6/multiprocessing/connection.py\", line 407, in _recv_bytes\n",
            "    buf = self._recv(4)\n",
            "  File \"/usr/lib/python3.6/multiprocessing/connection.py\", line 379, in _recv\n",
            "    chunk = read(handle, remaining)\n",
            "KeyboardInterrupt\n",
            "Process Keras_worker_ForkPoolWorker-8:\n",
            "Traceback (most recent call last):\n",
            "  File \"/usr/lib/python3.6/multiprocessing/process.py\", line 258, in _bootstrap\n",
            "    self.run()\n",
            "  File \"/usr/lib/python3.6/multiprocessing/process.py\", line 93, in run\n",
            "    self._target(*self._args, **self._kwargs)\n",
            "  File \"/usr/lib/python3.6/multiprocessing/pool.py\", line 108, in worker\n",
            "    task = get()\n",
            "  File \"/usr/lib/python3.6/multiprocessing/queues.py\", line 335, in get\n",
            "    res = self._reader.recv_bytes()\n",
            "  File \"/usr/lib/python3.6/multiprocessing/connection.py\", line 216, in recv_bytes\n",
            "    buf = self._recv_bytes(maxlength)\n",
            "  File \"/usr/lib/python3.6/multiprocessing/connection.py\", line 407, in _recv_bytes\n",
            "    buf = self._recv(4)\n",
            "  File \"/usr/lib/python3.6/multiprocessing/connection.py\", line 379, in _recv\n",
            "    chunk = read(handle, remaining)\n",
            "KeyboardInterrupt\n",
            "Process Keras_worker_ForkPoolWorker-9:\n",
            "Traceback (most recent call last):\n",
            "  File \"/usr/lib/python3.6/multiprocessing/process.py\", line 258, in _bootstrap\n",
            "    self.run()\n",
            "  File \"/usr/lib/python3.6/multiprocessing/process.py\", line 93, in run\n",
            "    self._target(*self._args, **self._kwargs)\n",
            "  File \"/usr/lib/python3.6/multiprocessing/pool.py\", line 108, in worker\n",
            "    task = get()\n",
            "  File \"/usr/lib/python3.6/multiprocessing/queues.py\", line 335, in get\n",
            "    res = self._reader.recv_bytes()\n",
            "  File \"/usr/lib/python3.6/multiprocessing/connection.py\", line 216, in recv_bytes\n",
            "    buf = self._recv_bytes(maxlength)\n",
            "  File \"/usr/lib/python3.6/multiprocessing/connection.py\", line 407, in _recv_bytes\n",
            "    buf = self._recv(4)\n",
            "  File \"/usr/lib/python3.6/multiprocessing/connection.py\", line 379, in _recv\n",
            "    chunk = read(handle, remaining)\n",
            "KeyboardInterrupt\n"
          ],
          "name": "stderr"
        }
      ]
    }
  ]
}